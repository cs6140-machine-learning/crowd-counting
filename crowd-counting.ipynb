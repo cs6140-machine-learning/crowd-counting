{
 "cells": [
  {
   "cell_type": "markdown",
   "id": "f7593972",
   "metadata": {},
   "source": [
    "# Crowd Counting"
   ]
  },
  {
   "cell_type": "code",
   "execution_count": 1,
   "id": "ca96c243",
   "metadata": {
    "tags": []
   },
   "outputs": [
    {
     "name": "stderr",
     "output_type": "stream",
     "text": [
      "/opt/conda/envs/sagemaker-distribution/lib/python3.8/site-packages/torchvision/datapoints/__init__.py:12: UserWarning: The torchvision.datapoints and torchvision.transforms.v2 namespaces are still Beta. While we do not expect major breaking changes, some APIs may still change according to user feedback. Please submit any feedback you may have in this issue: https://github.com/pytorch/vision/issues/6753, and you can also check out https://github.com/pytorch/vision/issues/7319 to learn more about the APIs that we suspect might involve future changes. You can silence this warning by calling torchvision.disable_beta_transforms_warning().\n",
      "  warnings.warn(_BETA_TRANSFORMS_WARNING)\n",
      "/opt/conda/envs/sagemaker-distribution/lib/python3.8/site-packages/torchvision/transforms/v2/__init__.py:54: UserWarning: The torchvision.datapoints and torchvision.transforms.v2 namespaces are still Beta. While we do not expect major breaking changes, some APIs may still change according to user feedback. Please submit any feedback you may have in this issue: https://github.com/pytorch/vision/issues/6753, and you can also check out https://github.com/pytorch/vision/issues/7319 to learn more about the APIs that we suspect might involve future changes. You can silence this warning by calling torchvision.disable_beta_transforms_warning().\n",
      "  warnings.warn(_BETA_TRANSFORMS_WARNING)\n"
     ]
    }
   ],
   "source": [
    "import torch\n",
    "import torch.nn as nn\n",
    "import torch.nn.functional as F\n",
    "import torchvision.models as models\n",
    "import pandas as pd\n",
    "import numpy as np\n",
    "import scipy as sc\n",
    "import matplotlib.pyplot as plt\n",
    "import matplotlib.image as mpimg\n",
    "import itertools\n",
    "\n",
    "from tqdm import trange\n",
    "from torchvision.transforms import v2\n",
    "from torchvision import datasets, transforms\n",
    "from torch.utils.data import Dataset, TensorDataset, DataLoader\n",
    "from PIL import Image\n",
    "from sklearn.model_selection import train_test_split\n",
    "from sklearn.metrics import confusion_matrix, mean_squared_error\n",
    "\n",
    "%matplotlib inline"
   ]
  },
  {
   "cell_type": "code",
   "execution_count": 2,
   "id": "9410e582",
   "metadata": {
    "tags": []
   },
   "outputs": [],
   "source": [
    "np.random.seed(2)\n",
    "DEVICE = 'cuda' if torch.cuda.is_available() else 'cpu'"
   ]
  },
  {
   "cell_type": "markdown",
   "id": "0172ea1a",
   "metadata": {},
   "source": [
    "## 1. Data Review"
   ]
  },
  {
   "cell_type": "code",
   "execution_count": 3,
   "id": "948d361f",
   "metadata": {
    "tags": []
   },
   "outputs": [],
   "source": [
    "# Load the data\n",
    "df = pd.read_csv(\"labels.csv\")"
   ]
  },
  {
   "cell_type": "code",
   "execution_count": 4,
   "id": "e09ff514",
   "metadata": {
    "tags": []
   },
   "outputs": [],
   "source": [
    "# Map each id to its appropriate file name\n",
    "df['image_name'] = df['id'].map('seq_{:06d}.jpg'.format)"
   ]
  },
  {
   "cell_type": "code",
   "execution_count": 5,
   "id": "35f665f8",
   "metadata": {
    "tags": []
   },
   "outputs": [
    {
     "data": {
      "text/html": [
       "<div>\n",
       "<style scoped>\n",
       "    .dataframe tbody tr th:only-of-type {\n",
       "        vertical-align: middle;\n",
       "    }\n",
       "\n",
       "    .dataframe tbody tr th {\n",
       "        vertical-align: top;\n",
       "    }\n",
       "\n",
       "    .dataframe thead th {\n",
       "        text-align: right;\n",
       "    }\n",
       "</style>\n",
       "<table border=\"1\" class=\"dataframe\">\n",
       "  <thead>\n",
       "    <tr style=\"text-align: right;\">\n",
       "      <th></th>\n",
       "      <th>id</th>\n",
       "      <th>count</th>\n",
       "    </tr>\n",
       "  </thead>\n",
       "  <tbody>\n",
       "    <tr>\n",
       "      <th>count</th>\n",
       "      <td>2000.000000</td>\n",
       "      <td>2000.000000</td>\n",
       "    </tr>\n",
       "    <tr>\n",
       "      <th>mean</th>\n",
       "      <td>1000.500000</td>\n",
       "      <td>31.157500</td>\n",
       "    </tr>\n",
       "    <tr>\n",
       "      <th>std</th>\n",
       "      <td>577.494589</td>\n",
       "      <td>6.945417</td>\n",
       "    </tr>\n",
       "    <tr>\n",
       "      <th>min</th>\n",
       "      <td>1.000000</td>\n",
       "      <td>13.000000</td>\n",
       "    </tr>\n",
       "    <tr>\n",
       "      <th>25%</th>\n",
       "      <td>500.750000</td>\n",
       "      <td>26.000000</td>\n",
       "    </tr>\n",
       "    <tr>\n",
       "      <th>50%</th>\n",
       "      <td>1000.500000</td>\n",
       "      <td>31.000000</td>\n",
       "    </tr>\n",
       "    <tr>\n",
       "      <th>75%</th>\n",
       "      <td>1500.250000</td>\n",
       "      <td>36.000000</td>\n",
       "    </tr>\n",
       "    <tr>\n",
       "      <th>max</th>\n",
       "      <td>2000.000000</td>\n",
       "      <td>53.000000</td>\n",
       "    </tr>\n",
       "  </tbody>\n",
       "</table>\n",
       "</div>"
      ],
      "text/plain": [
       "                id        count\n",
       "count  2000.000000  2000.000000\n",
       "mean   1000.500000    31.157500\n",
       "std     577.494589     6.945417\n",
       "min       1.000000    13.000000\n",
       "25%     500.750000    26.000000\n",
       "50%    1000.500000    31.000000\n",
       "75%    1500.250000    36.000000\n",
       "max    2000.000000    53.000000"
      ]
     },
     "execution_count": 5,
     "metadata": {},
     "output_type": "execute_result"
    }
   ],
   "source": [
    "df.describe()"
   ]
  },
  {
   "cell_type": "code",
   "execution_count": 6,
   "id": "f25d9590",
   "metadata": {
    "tags": []
   },
   "outputs": [
    {
     "data": {
      "text/plain": [
       "<Axes: >"
      ]
     },
     "execution_count": 6,
     "metadata": {},
     "output_type": "execute_result"
    },
    {
     "data": {
      "image/png": "[encoded data removed]",
      "text/plain": [
       "<Figure size 640x480 with 1 Axes>"
      ]
     },
     "metadata": {},
     "output_type": "display_data"
    }
   ],
   "source": [
    "df['count'].hist(bins=30)"
   ]
  },
  {
   "cell_type": "markdown",
   "id": "181db11b",
   "metadata": {},
   "source": [
    "## 2. Load Image Data"
   ]
  },
  {
   "cell_type": "code",
   "execution_count": 7,
   "id": "71b35e96",
   "metadata": {
    "tags": []
   },
   "outputs": [],
   "source": [
    "images = np.load('images.npy')\n",
    "labels = np.load('labels.npy')"
   ]
  },
  {
   "cell_type": "code",
   "execution_count": 8,
   "id": "f50fa44a",
   "metadata": {
    "tags": []
   },
   "outputs": [
    {
     "name": "stdout",
     "output_type": "stream",
     "text": [
      "(2000, 480, 640, 3)\n"
     ]
    }
   ],
   "source": [
    "print(images.shape)"
   ]
  },
  {
   "cell_type": "code",
   "execution_count": 9,
   "id": "3b30b0ee",
   "metadata": {
    "tags": []
   },
   "outputs": [
    {
     "data": {
      "image/png": "[encoded data removed]",
      "text/plain": [
       "<Figure size 640x480 with 1 Axes>"
      ]
     },
     "metadata": {},
     "output_type": "display_data"
    }
   ],
   "source": [
    "# Generate 1 random numbers within the range\n",
    "random_numbers = np.random.randint(0, len(images), size=1)\n",
    "\n",
    "# Display the images corresponding to the random numbers\n",
    "for number in random_numbers:\n",
    "    image = images[number]\n",
    "    plt.imshow(image)\n",
    "    plt.title(f\"Number of people : {labels[number]}\")\n",
    "    plt.axis('off')\n",
    "    plt.show()"
   ]
  },
  {
   "cell_type": "code",
   "execution_count": 10,
   "id": "e1b154f1",
   "metadata": {
    "tags": []
   },
   "outputs": [],
   "source": [
    "# Define a transform for image data\n",
    "transform = transforms.Compose([\n",
    "    transforms.ToTensor(),\n",
    "    transforms.Resize((256, 256)),\n",
    "    transforms.RandomHorizontalFlip(),\n",
    "    transforms.Normalize(mean=[0.485, 0.456, 0.406], std=[0.229, 0.224, 0.225]),\n",
    "])"
   ]
  },
  {
   "cell_type": "code",
   "execution_count": 11,
   "id": "a6fb96ea",
   "metadata": {
    "tags": []
   },
   "outputs": [
    {
     "name": "stderr",
     "output_type": "stream",
     "text": [
      "/opt/conda/envs/sagemaker-distribution/lib/python3.8/site-packages/torchvision/transforms/functional.py:1603: UserWarning: The default value of the antialias parameter of all the resizing transforms (Resize(), RandomResizedCrop(), etc.) will change from None to True in v0.17, in order to be consistent across the PIL and Tensor backends. To suppress this warning, directly pass antialias=True (recommended, future default), antialias=None (current default, which means False for Tensors and True for PIL), or antialias=False (only works on Tensors - PIL will still use antialiasing). This also applies if you are using the inference transforms from the models weights: update the call to weights.transforms(antialias=True).\n",
      "  warnings.warn(\n"
     ]
    }
   ],
   "source": [
    "# Transform the data\n",
    "transformed_images = []\n",
    "for img in images:\n",
    "    img = Image.fromarray(img)\n",
    "    transformed_images.append(transform(img))\n",
    "transformed_images= torch.stack(transformed_images)"
   ]
  },
  {
   "cell_type": "code",
   "execution_count": 12,
   "id": "45eaf48e",
   "metadata": {
    "tags": []
   },
   "outputs": [],
   "source": [
    "# Split the data\n",
    "train_images, test_images = train_test_split(transformed_images, test_size=0.2, random_state=42)\n",
    "train_labels, test_labels = train_test_split(labels, test_size=0.2, random_state=42)"
   ]
  },
  {
   "cell_type": "code",
   "execution_count": 13,
   "id": "15bbab7b",
   "metadata": {
    "tags": []
   },
   "outputs": [
    {
     "name": "stdout",
     "output_type": "stream",
     "text": [
      "torch.Size([1600, 3, 256, 256])\n",
      "(1600, 1)\n",
      "torch.Size([400, 3, 256, 256])\n",
      "(400, 1)\n"
     ]
    }
   ],
   "source": [
    "print(train_images.shape)\n",
    "print(train_labels.shape)\n",
    "print(test_images.shape)\n",
    "print(test_labels.shape)"
   ]
  },
  {
   "cell_type": "code",
   "execution_count": 14,
   "id": "2e72adc2",
   "metadata": {
    "tags": []
   },
   "outputs": [
    {
     "name": "stderr",
     "output_type": "stream",
     "text": [
      "/tmp/ipykernel_22096/1940908756.py:2: UserWarning: To copy construct from a tensor, it is recommended to use sourceTensor.clone().detach() or sourceTensor.clone().detach().requires_grad_(True), rather than torch.tensor(sourceTensor).\n",
      "  train_dataset = TensorDataset(torch.tensor(train_images).float(), torch.tensor(train_labels).float())\n",
      "/tmp/ipykernel_22096/1940908756.py:3: UserWarning: To copy construct from a tensor, it is recommended to use sourceTensor.clone().detach() or sourceTensor.clone().detach().requires_grad_(True), rather than torch.tensor(sourceTensor).\n",
      "  test_dataset = TensorDataset(torch.tensor(test_images).float(), torch.tensor(test_labels).float())\n"
     ]
    }
   ],
   "source": [
    "# Create dataset and dataloaders\n",
    "train_dataset = TensorDataset(torch.tensor(train_images).float(), torch.tensor(train_labels).float())\n",
    "test_dataset = TensorDataset(torch.tensor(test_images).float(), torch.tensor(test_labels).float())\n",
    "\n",
    "train_loader = DataLoader(train_dataset, batch_size=10, shuffle=True)\n",
    "test_loader = DataLoader(test_dataset, batch_size=10)"
   ]
  },
  {
   "cell_type": "markdown",
   "id": "b409b062",
   "metadata": {},
   "source": [
    "## Define CSRNet Model"
   ]
  },
  {
   "cell_type": "code",
   "execution_count": 15,
   "id": "b0a0c208",
   "metadata": {
    "tags": []
   },
   "outputs": [],
   "source": [
    "class CSRNet(nn.Module):\n",
    "    def __init__(self):\n",
    "        super(CSRNet, self).__init__()\n",
    "        self.frontend_feat = [64, 64, 'M', 128, 128, 'M', 256, 256, 256, 'M', 512, 512, 512]\n",
    "        self.backend_feat  = [512, 512, 512, 256, 128, 64]\n",
    "        self.frontend = make_layers(self.frontend_feat)\n",
    "        self.backend = make_layers(self.backend_feat, in_channels = 512, dilation = True)\n",
    "        self.output_layer = nn.Conv2d(64, 1, kernel_size=1)\n",
    "\n",
    "    def forward(self, x):\n",
    "        x = self.frontend(x)\n",
    "        x = self.backend(x)\n",
    "        x = self.output_layer(x)\n",
    "        return x\n",
    "\n",
    "def make_layers(cfg, in_channels = 3, batch_norm=False, dilation=False):\n",
    "    if dilation:\n",
    "        d_rate = 2\n",
    "    else:\n",
    "        d_rate = 1\n",
    "    layers = []\n",
    "    for v in cfg:\n",
    "        if v == 'M':\n",
    "            layers += [nn.MaxPool2d(kernel_size=2, stride=2)]\n",
    "        else:\n",
    "            conv2d = nn.Conv2d(in_channels, v, kernel_size=3, padding=d_rate, dilation=d_rate)\n",
    "            if batch_norm:\n",
    "                layers += [conv2d, nn.BatchNorm2d(v), nn.ReLU(inplace=True)]\n",
    "            else:\n",
    "                layers += [conv2d, nn.ReLU(inplace=True)]\n",
    "            in_channels = v\n",
    "    return nn.Sequential(*layers)"
   ]
  },
  {
   "cell_type": "code",
   "execution_count": 16,
   "id": "7ef3ad4a",
   "metadata": {
    "tags": []
   },
   "outputs": [],
   "source": [
    "csr_model = CSRNet()\n",
    "csr_optimizer = torch.optim.Adam(csr_model.parameters(), lr=0.001)\n",
    "csr_criterion = nn.SmoothL1Loss()\n",
    "csr_epochs = 10"
   ]
  },
  {
   "cell_type": "code",
   "execution_count": 17,
   "id": "e49e831b",
   "metadata": {
    "tags": []
   },
   "outputs": [
    {
     "name": "stdout",
     "output_type": "stream",
     "text": [
      "CSRNet(\n",
      "  (frontend): Sequential(\n",
      "    (0): Conv2d(3, 64, kernel_size=(3, 3), stride=(1, 1), padding=(1, 1))\n",
      "    (1): ReLU(inplace=True)\n",
      "    (2): Conv2d(64, 64, kernel_size=(3, 3), stride=(1, 1), padding=(1, 1))\n",
      "    (3): ReLU(inplace=True)\n",
      "    (4): MaxPool2d(kernel_size=2, stride=2, padding=0, dilation=1, ceil_mode=False)\n",
      "    (5): Conv2d(64, 128, kernel_size=(3, 3), stride=(1, 1), padding=(1, 1))\n",
      "    (6): ReLU(inplace=True)\n",
      "    (7): Conv2d(128, 128, kernel_size=(3, 3), stride=(1, 1), padding=(1, 1))\n",
      "    (8): ReLU(inplace=True)\n",
      "    (9): MaxPool2d(kernel_size=2, stride=2, padding=0, dilation=1, ceil_mode=False)\n",
      "    (10): Conv2d(128, 256, kernel_size=(3, 3), stride=(1, 1), padding=(1, 1))\n",
      "    (11): ReLU(inplace=True)\n",
      "    (12): Conv2d(256, 256, kernel_size=(3, 3), stride=(1, 1), padding=(1, 1))\n",
      "    (13): ReLU(inplace=True)\n",
      "    (14): Conv2d(256, 256, kernel_size=(3, 3), stride=(1, 1), padding=(1, 1))\n",
      "    (15): ReLU(inplace=True)\n",
      "    (16): MaxPool2d(kernel_size=2, stride=2, padding=0, dilation=1, ceil_mode=False)\n",
      "    (17): Conv2d(256, 512, kernel_size=(3, 3), stride=(1, 1), padding=(1, 1))\n",
      "    (18): ReLU(inplace=True)\n",
      "    (19): Conv2d(512, 512, kernel_size=(3, 3), stride=(1, 1), padding=(1, 1))\n",
      "    (20): ReLU(inplace=True)\n",
      "    (21): Conv2d(512, 512, kernel_size=(3, 3), stride=(1, 1), padding=(1, 1))\n",
      "    (22): ReLU(inplace=True)\n",
      "  )\n",
      "  (backend): Sequential(\n",
      "    (0): Conv2d(512, 512, kernel_size=(3, 3), stride=(1, 1), padding=(2, 2), dilation=(2, 2))\n",
      "    (1): ReLU(inplace=True)\n",
      "    (2): Conv2d(512, 512, kernel_size=(3, 3), stride=(1, 1), padding=(2, 2), dilation=(2, 2))\n",
      "    (3): ReLU(inplace=True)\n",
      "    (4): Conv2d(512, 512, kernel_size=(3, 3), stride=(1, 1), padding=(2, 2), dilation=(2, 2))\n",
      "    (5): ReLU(inplace=True)\n",
      "    (6): Conv2d(512, 256, kernel_size=(3, 3), stride=(1, 1), padding=(2, 2), dilation=(2, 2))\n",
      "    (7): ReLU(inplace=True)\n",
      "    (8): Conv2d(256, 128, kernel_size=(3, 3), stride=(1, 1), padding=(2, 2), dilation=(2, 2))\n",
      "    (9): ReLU(inplace=True)\n",
      "    (10): Conv2d(128, 64, kernel_size=(3, 3), stride=(1, 1), padding=(2, 2), dilation=(2, 2))\n",
      "    (11): ReLU(inplace=True)\n",
      "  )\n",
      "  (output_layer): Conv2d(64, 1, kernel_size=(1, 1), stride=(1, 1))\n",
      ")\n"
     ]
    }
   ],
   "source": [
    "print(csr_model)"
   ]
  },
  {
   "cell_type": "markdown",
   "id": "7c2db468",
   "metadata": {},
   "source": [
    "## Define Simple CNN Model"
   ]
  },
  {
   "cell_type": "code",
   "execution_count": 18,
   "id": "4241e266",
   "metadata": {
    "tags": []
   },
   "outputs": [],
   "source": [
    "class SimpleCNN(nn.Module):\n",
    "    def __init__(self):\n",
    "        super().__init__()\n",
    "\n",
    "        self.conv_layer = nn.Sequential(\n",
    "            nn.Conv2d(3, 16, kernel_size=3, padding=1),\n",
    "            nn.MaxPool2d(kernel_size=8, stride=8),\n",
    "            nn.ReLU(True),\n",
    "            nn.Conv2d(16, 32, kernel_size=3, padding=1),\n",
    "            nn.MaxPool2d(kernel_size=4, stride=4),\n",
    "            nn.ReLU(True),\n",
    "            nn.Flatten()\n",
    "        )\n",
    "        self.fc_layer = nn.Sequential(\n",
    "            nn.Linear(2048, 1024),\n",
    "            nn.ReLU(True),\n",
    "            nn.Linear(1024, 1)\n",
    "        )\n",
    "\n",
    "    def forward(self, x):\n",
    "        x = self.conv_layer(x)\n",
    "        x = self.fc_layer(x)\n",
    "        return x"
   ]
  },
  {
   "cell_type": "code",
   "execution_count": 19,
   "id": "b3cd76d8",
   "metadata": {
    "tags": []
   },
   "outputs": [],
   "source": [
    "cnn_model = SimpleCNN()\n",
    "cnn_optimizer = torch.optim.Adam(cnn_model.parameters(), lr=0.001)\n",
    "cnn_criterion = nn.SmoothL1Loss()\n",
    "cnn_epochs = 50"
   ]
  },
  {
   "cell_type": "code",
   "execution_count": 20,
   "id": "e51ff23b",
   "metadata": {
    "tags": []
   },
   "outputs": [
    {
     "name": "stdout",
     "output_type": "stream",
     "text": [
      "SimpleCNN(\n",
      "  (conv_layer): Sequential(\n",
      "    (0): Conv2d(3, 16, kernel_size=(3, 3), stride=(1, 1), padding=(1, 1))\n",
      "    (1): MaxPool2d(kernel_size=8, stride=8, padding=0, dilation=1, ceil_mode=False)\n",
      "    (2): ReLU(inplace=True)\n",
      "    (3): Conv2d(16, 32, kernel_size=(3, 3), stride=(1, 1), padding=(1, 1))\n",
      "    (4): MaxPool2d(kernel_size=4, stride=4, padding=0, dilation=1, ceil_mode=False)\n",
      "    (5): ReLU(inplace=True)\n",
      "    (6): Flatten(start_dim=1, end_dim=-1)\n",
      "  )\n",
      "  (fc_layer): Sequential(\n",
      "    (0): Linear(in_features=2048, out_features=1024, bias=True)\n",
      "    (1): ReLU(inplace=True)\n",
      "    (2): Linear(in_features=1024, out_features=1, bias=True)\n",
      "  )\n",
      ")\n"
     ]
    }
   ],
   "source": [
    "print(cnn_model)"
   ]
  },
  {
   "cell_type": "markdown",
   "id": "bc9bc499",
   "metadata": {},
   "source": [
    "## Define Mobile Net"
   ]
  },
  {
   "cell_type": "code",
   "execution_count": 21,
   "id": "1e6f1480",
   "metadata": {
    "tags": []
   },
   "outputs": [],
   "source": [
    "mobile_net_model = models.mobilenet_v3_small(weights=models.MobileNet_V3_Small_Weights.IMAGENET1K_V1)\n",
    "mobile_net_model.classifier[3] = nn.Linear(mobile_net_model.classifier[3].in_features, 1)\n",
    "mobile_net_criterion = nn.MSELoss()\n",
    "mobile_net_optimizer = torch.optim.Adam(mobile_net_model.parameters(), lr=0.002)\n",
    "mobile_net_epochs = 70"
   ]
  },
  {
   "cell_type": "code",
   "execution_count": 22,
   "id": "226c5470",
   "metadata": {
    "tags": []
   },
   "outputs": [
    {
     "name": "stdout",
     "output_type": "stream",
     "text": [
      "MobileNetV3(\n",
      "  (features): Sequential(\n",
      "    (0): Conv2dNormActivation(\n",
      "      (0): Conv2d(3, 16, kernel_size=(3, 3), stride=(2, 2), padding=(1, 1), bias=False)\n",
      "      (1): BatchNorm2d(16, eps=0.001, momentum=0.01, affine=True, track_running_stats=True)\n",
      "      (2): Hardswish()\n",
      "    )\n",
      "    (1): InvertedResidual(\n",
      "      (block): Sequential(\n",
      "        (0): Conv2dNormActivation(\n",
      "          (0): Conv2d(16, 16, kernel_size=(3, 3), stride=(2, 2), padding=(1, 1), groups=16, bias=False)\n",
      "          (1): BatchNorm2d(16, eps=0.001, momentum=0.01, affine=True, track_running_stats=True)\n",
      "          (2): ReLU(inplace=True)\n",
      "        )\n",
      "        (1): SqueezeExcitation(\n",
      "          (avgpool): AdaptiveAvgPool2d(output_size=1)\n",
      "          (fc1): Conv2d(16, 8, kernel_size=(1, 1), stride=(1, 1))\n",
      "          (fc2): Conv2d(8, 16, kernel_size=(1, 1), stride=(1, 1))\n",
      "          (activation): ReLU()\n",
      "          (scale_activation): Hardsigmoid()\n",
      "        )\n",
      "        (2): Conv2dNormActivation(\n",
      "          (0): Conv2d(16, 16, kernel_size=(1, 1), stride=(1, 1), bias=False)\n",
      "          (1): BatchNorm2d(16, eps=0.001, momentum=0.01, affine=True, track_running_stats=True)\n",
      "        )\n",
      "      )\n",
      "    )\n",
      "    (2): InvertedResidual(\n",
      "      (block): Sequential(\n",
      "        (0): Conv2dNormActivation(\n",
      "          (0): Conv2d(16, 72, kernel_size=(1, 1), stride=(1, 1), bias=False)\n",
      "          (1): BatchNorm2d(72, eps=0.001, momentum=0.01, affine=True, track_running_stats=True)\n",
      "          (2): ReLU(inplace=True)\n",
      "        )\n",
      "        (1): Conv2dNormActivation(\n",
      "          (0): Conv2d(72, 72, kernel_size=(3, 3), stride=(2, 2), padding=(1, 1), groups=72, bias=False)\n",
      "          (1): BatchNorm2d(72, eps=0.001, momentum=0.01, affine=True, track_running_stats=True)\n",
      "          (2): ReLU(inplace=True)\n",
      "        )\n",
      "        (2): Conv2dNormActivation(\n",
      "          (0): Conv2d(72, 24, kernel_size=(1, 1), stride=(1, 1), bias=False)\n",
      "          (1): BatchNorm2d(24, eps=0.001, momentum=0.01, affine=True, track_running_stats=True)\n",
      "        )\n",
      "      )\n",
      "    )\n",
      "    (3): InvertedResidual(\n",
      "      (block): Sequential(\n",
      "        (0): Conv2dNormActivation(\n",
      "          (0): Conv2d(24, 88, kernel_size=(1, 1), stride=(1, 1), bias=False)\n",
      "          (1): BatchNorm2d(88, eps=0.001, momentum=0.01, affine=True, track_running_stats=True)\n",
      "          (2): ReLU(inplace=True)\n",
      "        )\n",
      "        (1): Conv2dNormActivation(\n",
      "          (0): Conv2d(88, 88, kernel_size=(3, 3), stride=(1, 1), padding=(1, 1), groups=88, bias=False)\n",
      "          (1): BatchNorm2d(88, eps=0.001, momentum=0.01, affine=True, track_running_stats=True)\n",
      "          (2): ReLU(inplace=True)\n",
      "        )\n",
      "        (2): Conv2dNormActivation(\n",
      "          (0): Conv2d(88, 24, kernel_size=(1, 1), stride=(1, 1), bias=False)\n",
      "          (1): BatchNorm2d(24, eps=0.001, momentum=0.01, affine=True, track_running_stats=True)\n",
      "        )\n",
      "      )\n",
      "    )\n",
      "    (4): InvertedResidual(\n",
      "      (block): Sequential(\n",
      "        (0): Conv2dNormActivation(\n",
      "          (0): Conv2d(24, 96, kernel_size=(1, 1), stride=(1, 1), bias=False)\n",
      "          (1): BatchNorm2d(96, eps=0.001, momentum=0.01, affine=True, track_running_stats=True)\n",
      "          (2): Hardswish()\n",
      "        )\n",
      "        (1): Conv2dNormActivation(\n",
      "          (0): Conv2d(96, 96, kernel_size=(5, 5), stride=(2, 2), padding=(2, 2), groups=96, bias=False)\n",
      "          (1): BatchNorm2d(96, eps=0.001, momentum=0.01, affine=True, track_running_stats=True)\n",
      "          (2): Hardswish()\n",
      "        )\n",
      "        (2): SqueezeExcitation(\n",
      "          (avgpool): AdaptiveAvgPool2d(output_size=1)\n",
      "          (fc1): Conv2d(96, 24, kernel_size=(1, 1), stride=(1, 1))\n",
      "          (fc2): Conv2d(24, 96, kernel_size=(1, 1), stride=(1, 1))\n",
      "          (activation): ReLU()\n",
      "          (scale_activation): Hardsigmoid()\n",
      "        )\n",
      "        (3): Conv2dNormActivation(\n",
      "          (0): Conv2d(96, 40, kernel_size=(1, 1), stride=(1, 1), bias=False)\n",
      "          (1): BatchNorm2d(40, eps=0.001, momentum=0.01, affine=True, track_running_stats=True)\n",
      "        )\n",
      "      )\n",
      "    )\n",
      "    (5): InvertedResidual(\n",
      "      (block): Sequential(\n",
      "        (0): Conv2dNormActivation(\n",
      "          (0): Conv2d(40, 240, kernel_size=(1, 1), stride=(1, 1), bias=False)\n",
      "          (1): BatchNorm2d(240, eps=0.001, momentum=0.01, affine=True, track_running_stats=True)\n",
      "          (2): Hardswish()\n",
      "        )\n",
      "        (1): Conv2dNormActivation(\n",
      "          (0): Conv2d(240, 240, kernel_size=(5, 5), stride=(1, 1), padding=(2, 2), groups=240, bias=False)\n",
      "          (1): BatchNorm2d(240, eps=0.001, momentum=0.01, affine=True, track_running_stats=True)\n",
      "          (2): Hardswish()\n",
      "        )\n",
      "        (2): SqueezeExcitation(\n",
      "          (avgpool): AdaptiveAvgPool2d(output_size=1)\n",
      "          (fc1): Conv2d(240, 64, kernel_size=(1, 1), stride=(1, 1))\n",
      "          (fc2): Conv2d(64, 240, kernel_size=(1, 1), stride=(1, 1))\n",
      "          (activation): ReLU()\n",
      "          (scale_activation): Hardsigmoid()\n",
      "        )\n",
      "        (3): Conv2dNormActivation(\n",
      "          (0): Conv2d(240, 40, kernel_size=(1, 1), stride=(1, 1), bias=False)\n",
      "          (1): BatchNorm2d(40, eps=0.001, momentum=0.01, affine=True, track_running_stats=True)\n",
      "        )\n",
      "      )\n",
      "    )\n",
      "    (6): InvertedResidual(\n",
      "      (block): Sequential(\n",
      "        (0): Conv2dNormActivation(\n",
      "          (0): Conv2d(40, 240, kernel_size=(1, 1), stride=(1, 1), bias=False)\n",
      "          (1): BatchNorm2d(240, eps=0.001, momentum=0.01, affine=True, track_running_stats=True)\n",
      "          (2): Hardswish()\n",
      "        )\n",
      "        (1): Conv2dNormActivation(\n",
      "          (0): Conv2d(240, 240, kernel_size=(5, 5), stride=(1, 1), padding=(2, 2), groups=240, bias=False)\n",
      "          (1): BatchNorm2d(240, eps=0.001, momentum=0.01, affine=True, track_running_stats=True)\n",
      "          (2): Hardswish()\n",
      "        )\n",
      "        (2): SqueezeExcitation(\n",
      "          (avgpool): AdaptiveAvgPool2d(output_size=1)\n",
      "          (fc1): Conv2d(240, 64, kernel_size=(1, 1), stride=(1, 1))\n",
      "          (fc2): Conv2d(64, 240, kernel_size=(1, 1), stride=(1, 1))\n",
      "          (activation): ReLU()\n",
      "          (scale_activation): Hardsigmoid()\n",
      "        )\n",
      "        (3): Conv2dNormActivation(\n",
      "          (0): Conv2d(240, 40, kernel_size=(1, 1), stride=(1, 1), bias=False)\n",
      "          (1): BatchNorm2d(40, eps=0.001, momentum=0.01, affine=True, track_running_stats=True)\n",
      "        )\n",
      "      )\n",
      "    )\n",
      "    (7): InvertedResidual(\n",
      "      (block): Sequential(\n",
      "        (0): Conv2dNormActivation(\n",
      "          (0): Conv2d(40, 120, kernel_size=(1, 1), stride=(1, 1), bias=False)\n",
      "          (1): BatchNorm2d(120, eps=0.001, momentum=0.01, affine=True, track_running_stats=True)\n",
      "          (2): Hardswish()\n",
      "        )\n",
      "        (1): Conv2dNormActivation(\n",
      "          (0): Conv2d(120, 120, kernel_size=(5, 5), stride=(1, 1), padding=(2, 2), groups=120, bias=False)\n",
      "          (1): BatchNorm2d(120, eps=0.001, momentum=0.01, affine=True, track_running_stats=True)\n",
      "          (2): Hardswish()\n",
      "        )\n",
      "        (2): SqueezeExcitation(\n",
      "          (avgpool): AdaptiveAvgPool2d(output_size=1)\n",
      "          (fc1): Conv2d(120, 32, kernel_size=(1, 1), stride=(1, 1))\n",
      "          (fc2): Conv2d(32, 120, kernel_size=(1, 1), stride=(1, 1))\n",
      "          (activation): ReLU()\n",
      "          (scale_activation): Hardsigmoid()\n",
      "        )\n",
      "        (3): Conv2dNormActivation(\n",
      "          (0): Conv2d(120, 48, kernel_size=(1, 1), stride=(1, 1), bias=False)\n",
      "          (1): BatchNorm2d(48, eps=0.001, momentum=0.01, affine=True, track_running_stats=True)\n",
      "        )\n",
      "      )\n",
      "    )\n",
      "    (8): InvertedResidual(\n",
      "      (block): Sequential(\n",
      "        (0): Conv2dNormActivation(\n",
      "          (0): Conv2d(48, 144, kernel_size=(1, 1), stride=(1, 1), bias=False)\n",
      "          (1): BatchNorm2d(144, eps=0.001, momentum=0.01, affine=True, track_running_stats=True)\n",
      "          (2): Hardswish()\n",
      "        )\n",
      "        (1): Conv2dNormActivation(\n",
      "          (0): Conv2d(144, 144, kernel_size=(5, 5), stride=(1, 1), padding=(2, 2), groups=144, bias=False)\n",
      "          (1): BatchNorm2d(144, eps=0.001, momentum=0.01, affine=True, track_running_stats=True)\n",
      "          (2): Hardswish()\n",
      "        )\n",
      "        (2): SqueezeExcitation(\n",
      "          (avgpool): AdaptiveAvgPool2d(output_size=1)\n",
      "          (fc1): Conv2d(144, 40, kernel_size=(1, 1), stride=(1, 1))\n",
      "          (fc2): Conv2d(40, 144, kernel_size=(1, 1), stride=(1, 1))\n",
      "          (activation): ReLU()\n",
      "          (scale_activation): Hardsigmoid()\n",
      "        )\n",
      "        (3): Conv2dNormActivation(\n",
      "          (0): Conv2d(144, 48, kernel_size=(1, 1), stride=(1, 1), bias=False)\n",
      "          (1): BatchNorm2d(48, eps=0.001, momentum=0.01, affine=True, track_running_stats=True)\n",
      "        )\n",
      "      )\n",
      "    )\n",
      "    (9): InvertedResidual(\n",
      "      (block): Sequential(\n",
      "        (0): Conv2dNormActivation(\n",
      "          (0): Conv2d(48, 288, kernel_size=(1, 1), stride=(1, 1), bias=False)\n",
      "          (1): BatchNorm2d(288, eps=0.001, momentum=0.01, affine=True, track_running_stats=True)\n",
      "          (2): Hardswish()\n",
      "        )\n",
      "        (1): Conv2dNormActivation(\n",
      "          (0): Conv2d(288, 288, kernel_size=(5, 5), stride=(2, 2), padding=(2, 2), groups=288, bias=False)\n",
      "          (1): BatchNorm2d(288, eps=0.001, momentum=0.01, affine=True, track_running_stats=True)\n",
      "          (2): Hardswish()\n",
      "        )\n",
      "        (2): SqueezeExcitation(\n",
      "          (avgpool): AdaptiveAvgPool2d(output_size=1)\n",
      "          (fc1): Conv2d(288, 72, kernel_size=(1, 1), stride=(1, 1))\n",
      "          (fc2): Conv2d(72, 288, kernel_size=(1, 1), stride=(1, 1))\n",
      "          (activation): ReLU()\n",
      "          (scale_activation): Hardsigmoid()\n",
      "        )\n",
      "        (3): Conv2dNormActivation(\n",
      "          (0): Conv2d(288, 96, kernel_size=(1, 1), stride=(1, 1), bias=False)\n",
      "          (1): BatchNorm2d(96, eps=0.001, momentum=0.01, affine=True, track_running_stats=True)\n",
      "        )\n",
      "      )\n",
      "    )\n",
      "    (10): InvertedResidual(\n",
      "      (block): Sequential(\n",
      "        (0): Conv2dNormActivation(\n",
      "          (0): Conv2d(96, 576, kernel_size=(1, 1), stride=(1, 1), bias=False)\n",
      "          (1): BatchNorm2d(576, eps=0.001, momentum=0.01, affine=True, track_running_stats=True)\n",
      "          (2): Hardswish()\n",
      "        )\n",
      "        (1): Conv2dNormActivation(\n",
      "          (0): Conv2d(576, 576, kernel_size=(5, 5), stride=(1, 1), padding=(2, 2), groups=576, bias=False)\n",
      "          (1): BatchNorm2d(576, eps=0.001, momentum=0.01, affine=True, track_running_stats=True)\n",
      "          (2): Hardswish()\n",
      "        )\n",
      "        (2): SqueezeExcitation(\n",
      "          (avgpool): AdaptiveAvgPool2d(output_size=1)\n",
      "          (fc1): Conv2d(576, 144, kernel_size=(1, 1), stride=(1, 1))\n",
      "          (fc2): Conv2d(144, 576, kernel_size=(1, 1), stride=(1, 1))\n",
      "          (activation): ReLU()\n",
      "          (scale_activation): Hardsigmoid()\n",
      "        )\n",
      "        (3): Conv2dNormActivation(\n",
      "          (0): Conv2d(576, 96, kernel_size=(1, 1), stride=(1, 1), bias=False)\n",
      "          (1): BatchNorm2d(96, eps=0.001, momentum=0.01, affine=True, track_running_stats=True)\n",
      "        )\n",
      "      )\n",
      "    )\n",
      "    (11): InvertedResidual(\n",
      "      (block): Sequential(\n",
      "        (0): Conv2dNormActivation(\n",
      "          (0): Conv2d(96, 576, kernel_size=(1, 1), stride=(1, 1), bias=False)\n",
      "          (1): BatchNorm2d(576, eps=0.001, momentum=0.01, affine=True, track_running_stats=True)\n",
      "          (2): Hardswish()\n",
      "        )\n",
      "        (1): Conv2dNormActivation(\n",
      "          (0): Conv2d(576, 576, kernel_size=(5, 5), stride=(1, 1), padding=(2, 2), groups=576, bias=False)\n",
      "          (1): BatchNorm2d(576, eps=0.001, momentum=0.01, affine=True, track_running_stats=True)\n",
      "          (2): Hardswish()\n",
      "        )\n",
      "        (2): SqueezeExcitation(\n",
      "          (avgpool): AdaptiveAvgPool2d(output_size=1)\n",
      "          (fc1): Conv2d(576, 144, kernel_size=(1, 1), stride=(1, 1))\n",
      "          (fc2): Conv2d(144, 576, kernel_size=(1, 1), stride=(1, 1))\n",
      "          (activation): ReLU()\n",
      "          (scale_activation): Hardsigmoid()\n",
      "        )\n",
      "        (3): Conv2dNormActivation(\n",
      "          (0): Conv2d(576, 96, kernel_size=(1, 1), stride=(1, 1), bias=False)\n",
      "          (1): BatchNorm2d(96, eps=0.001, momentum=0.01, affine=True, track_running_stats=True)\n",
      "        )\n",
      "      )\n",
      "    )\n",
      "    (12): Conv2dNormActivation(\n",
      "      (0): Conv2d(96, 576, kernel_size=(1, 1), stride=(1, 1), bias=False)\n",
      "      (1): BatchNorm2d(576, eps=0.001, momentum=0.01, affine=True, track_running_stats=True)\n",
      "      (2): Hardswish()\n",
      "    )\n",
      "  )\n",
      "  (avgpool): AdaptiveAvgPool2d(output_size=1)\n",
      "  (classifier): Sequential(\n",
      "    (0): Linear(in_features=576, out_features=1024, bias=True)\n",
      "    (1): Hardswish()\n",
      "    (2): Dropout(p=0.2, inplace=True)\n",
      "    (3): Linear(in_features=1024, out_features=1, bias=True)\n",
      "  )\n",
      ")\n"
     ]
    }
   ],
   "source": [
    "print(mobile_net_model)"
   ]
  },
  {
   "cell_type": "markdown",
   "id": "f7fcf22d",
   "metadata": {},
   "source": [
    "## Define VGG"
   ]
  },
  {
   "cell_type": "code",
   "execution_count": 41,
   "id": "dc5d4bef",
   "metadata": {
    "tags": []
   },
   "outputs": [],
   "source": [
    "vgg_model = models.vgg16(weights=models.VGG16_Weights.IMAGENET1K_V1)\n",
    "vgg_model.classifier[-1] = nn.Linear(vgg_model.classifier[-1].in_features, 1)\n",
    "vgg_criterion = nn.MSELoss()\n",
    "vgg_optimizer = torch.optim.Adam(vgg_model.parameters(), lr=0.001)\n",
    "vgg_epochs = 60"
   ]
  },
  {
   "cell_type": "code",
   "execution_count": 42,
   "id": "9108b86f",
   "metadata": {
    "tags": []
   },
   "outputs": [
    {
     "name": "stdout",
     "output_type": "stream",
     "text": [
      "VGG(\n",
      "  (features): Sequential(\n",
      "    (0): Conv2d(3, 64, kernel_size=(3, 3), stride=(1, 1), padding=(1, 1))\n",
      "    (1): ReLU(inplace=True)\n",
      "    (2): Conv2d(64, 64, kernel_size=(3, 3), stride=(1, 1), padding=(1, 1))\n",
      "    (3): ReLU(inplace=True)\n",
      "    (4): MaxPool2d(kernel_size=2, stride=2, padding=0, dilation=1, ceil_mode=False)\n",
      "    (5): Conv2d(64, 128, kernel_size=(3, 3), stride=(1, 1), padding=(1, 1))\n",
      "    (6): ReLU(inplace=True)\n",
      "    (7): Conv2d(128, 128, kernel_size=(3, 3), stride=(1, 1), padding=(1, 1))\n",
      "    (8): ReLU(inplace=True)\n",
      "    (9): MaxPool2d(kernel_size=2, stride=2, padding=0, dilation=1, ceil_mode=False)\n",
      "    (10): Conv2d(128, 256, kernel_size=(3, 3), stride=(1, 1), padding=(1, 1))\n",
      "    (11): ReLU(inplace=True)\n",
      "    (12): Conv2d(256, 256, kernel_size=(3, 3), stride=(1, 1), padding=(1, 1))\n",
      "    (13): ReLU(inplace=True)\n",
      "    (14): Conv2d(256, 256, kernel_size=(3, 3), stride=(1, 1), padding=(1, 1))\n",
      "    (15): ReLU(inplace=True)\n",
      "    (16): MaxPool2d(kernel_size=2, stride=2, padding=0, dilation=1, ceil_mode=False)\n",
      "    (17): Conv2d(256, 512, kernel_size=(3, 3), stride=(1, 1), padding=(1, 1))\n",
      "    (18): ReLU(inplace=True)\n",
      "    (19): Conv2d(512, 512, kernel_size=(3, 3), stride=(1, 1), padding=(1, 1))\n",
      "    (20): ReLU(inplace=True)\n",
      "    (21): Conv2d(512, 512, kernel_size=(3, 3), stride=(1, 1), padding=(1, 1))\n",
      "    (22): ReLU(inplace=True)\n",
      "    (23): MaxPool2d(kernel_size=2, stride=2, padding=0, dilation=1, ceil_mode=False)\n",
      "    (24): Conv2d(512, 512, kernel_size=(3, 3), stride=(1, 1), padding=(1, 1))\n",
      "    (25): ReLU(inplace=True)\n",
      "    (26): Conv2d(512, 512, kernel_size=(3, 3), stride=(1, 1), padding=(1, 1))\n",
      "    (27): ReLU(inplace=True)\n",
      "    (28): Conv2d(512, 512, kernel_size=(3, 3), stride=(1, 1), padding=(1, 1))\n",
      "    (29): ReLU(inplace=True)\n",
      "    (30): MaxPool2d(kernel_size=2, stride=2, padding=0, dilation=1, ceil_mode=False)\n",
      "  )\n",
      "  (avgpool): AdaptiveAvgPool2d(output_size=(7, 7))\n",
      "  (classifier): Sequential(\n",
      "    (0): Linear(in_features=25088, out_features=4096, bias=True)\n",
      "    (1): ReLU(inplace=True)\n",
      "    (2): Dropout(p=0.5, inplace=False)\n",
      "    (3): Linear(in_features=4096, out_features=4096, bias=True)\n",
      "    (4): ReLU(inplace=True)\n",
      "    (5): Dropout(p=0.5, inplace=False)\n",
      "    (6): Linear(in_features=4096, out_features=1, bias=True)\n",
      "  )\n",
      ")\n"
     ]
    }
   ],
   "source": [
    "print(vgg_model)"
   ]
  },
  {
   "cell_type": "markdown",
   "id": "70b80d62",
   "metadata": {},
   "source": [
    "## Prepare for Training & Testing"
   ]
  },
  {
   "cell_type": "code",
   "execution_count": 25,
   "id": "43bc7221",
   "metadata": {
    "tags": []
   },
   "outputs": [],
   "source": [
    "def train_one_epoch(train_loader, model, device, optimizer, \n",
    "                    log_interval, epoch, criterion, batch_size):\n",
    "    model.train()\n",
    "    losses = []\n",
    "    counter = []\n",
    "    index_count = 0\n",
    "    total_loss = 0.0\n",
    "    for i, (img, label) in enumerate(train_loader):\n",
    "        img, label = img.to(device), label.to(device)\n",
    "        # ------------------\n",
    "        # Write your implementation here.\n",
    "        optimizer.zero_grad()\n",
    "        outputs = model(img)\n",
    "        outputs_summed = outputs.view(outputs.size(0), -1).sum(1, keepdim=True)\n",
    "        loss = criterion(outputs_summed, label)\n",
    "        loss.backward()\n",
    "        optimizer.step()\n",
    "        # ------------------\n",
    "        index_count += 1\n",
    "        total_loss += loss.item()\n",
    "        # Record training loss every log_interval and keep counter of total training images seen\n",
    "        if i % 20 == 0:\n",
    "            print(f'Epoch [{epoch+1}], Step [{i+1}/{len(train_loader)}], Loss: {loss.item()}')\n",
    "        if (0 == (index_count+1) % log_interval):\n",
    "            losses.append(loss.item())\n",
    "            counter.append((index_count * batch_size) + img.size(0) + epoch * len(train_loader.dataset))\n",
    "    return losses, counter"
   ]
  },
  {
   "cell_type": "code",
   "execution_count": 26,
   "id": "b24b9a07",
   "metadata": {
    "tags": []
   },
   "outputs": [],
   "source": [
    "def test_one_epoch(test_loader, model, device, criterion):\n",
    "    model.eval()\n",
    "    model.to(device)\n",
    "    test_loss = 0.0\n",
    "    num_correct = 0\n",
    "    count = 0\n",
    "    with torch.no_grad():\n",
    "        for img, label in test_loader:\n",
    "            img, label = img.to(device), label.to(device)\n",
    "            # ------------------\n",
    "            # Write your implementation here.\n",
    "            outputs = model(img)\n",
    "            outputs_summed = outputs.view(outputs.size(0), -1).sum(1, keepdim=True)\n",
    "            loss = criterion(outputs_summed, label)\n",
    "            predicted = torch.round(outputs_summed)\n",
    "            num_correct += (predicted == label).sum().item()\n",
    "            test_loss += loss.item()\n",
    "            count += 1\n",
    "            # ------------------\n",
    "    test_loss /= count\n",
    "    # test_loss /= len(test_loader.dataset)\n",
    "    return test_loss, num_correct"
   ]
  },
  {
   "cell_type": "code",
   "execution_count": 27,
   "id": "b7f52fa5",
   "metadata": {
    "tags": []
   },
   "outputs": [],
   "source": [
    "def plt_loss_graph(trainloader, train_counter, train_losses, test_losses):\n",
    "\n",
    "    fig = plt.figure(figsize=(12,8))\n",
    "    plt.plot(train_counter, train_losses, label='Train loss')\n",
    "    plt.plot([i * len(trainloader.dataset) for i in range(1, len(test_losses) + 1)],\n",
    "             test_losses, label='Test loss', marker='o')\n",
    "    plt.xlim(left=0)\n",
    "    plt.ylim(bottom=0)\n",
    "    plt.title('Loss curve', fontsize=24)\n",
    "    plt.xlabel('Number of training examples seen', fontsize=16)\n",
    "    plt.ylabel('Loss', fontsize=16)\n",
    "    plt.legend(loc='upper right', fontsize=14)"
   ]
  },
  {
   "cell_type": "code",
   "execution_count": 28,
   "id": "3c577b43",
   "metadata": {
    "tags": []
   },
   "outputs": [],
   "source": [
    "def model_train(trainloader, testloader, model, device,\n",
    "                criterion, optimizer, max_epochs, batch_size):\n",
    "    # Recording data\n",
    "    log_interval = 100\n",
    "\n",
    "    train_losses = []\n",
    "    train_counter = []\n",
    "    test_losses = []\n",
    "    test_correct = []\n",
    "    for epoch in trange(max_epochs, leave=True, desc='Epochs'):\n",
    "        train_loss, counter = train_one_epoch(trainloader, model, device,\n",
    "                                              optimizer, log_interval, epoch, criterion, batch_size)\n",
    "        test_loss, num_correct = test_one_epoch(testloader, model, device, criterion)\n",
    "        # Record results\n",
    "        train_losses.extend(train_loss)\n",
    "        train_counter.extend(counter)\n",
    "        test_losses.append(test_loss)\n",
    "        test_correct.append(num_correct)\n",
    "\n",
    "    print()\n",
    "    print(f\"Test accuracy: {test_correct[-1]/len(testloader.dataset)}\")\n",
    "\n",
    "    return train_losses, train_counter, test_losses, test_correct"
   ]
  },
  {
   "cell_type": "code",
   "execution_count": 29,
   "id": "83dc2587",
   "metadata": {
    "tags": []
   },
   "outputs": [],
   "source": [
    "def add_one_to_one_correlation_line(ax, min_factor=1, max_factor=1, **plot_kwargs):\n",
    "    lim_min, lim_max = pd.DataFrame([ax.get_ylim(), ax.get_xlim()]).agg({0: 'min', 1: 'max'})\n",
    "    lim_min *= min_factor\n",
    "    lim_max *= max_factor\n",
    "    plot_kwargs_internal = dict(color='grey', ls='--')\n",
    "    plot_kwargs_internal.update(plot_kwargs)\n",
    "    ax.plot([lim_min, lim_max], [lim_min, lim_max], **plot_kwargs_internal)\n",
    "    ax.set_ylim([lim_min, lim_max])\n",
    "    ax.set_xlim([lim_min, lim_max])"
   ]
  },
  {
   "cell_type": "code",
   "execution_count": 30,
   "id": "54b13271-9807-4ee3-9754-e90cbc4f0704",
   "metadata": {
    "tags": []
   },
   "outputs": [],
   "source": [
    "def calculate_loss_and_accuracy(data_loader, model, criterion, device, tolerance=0.1):\n",
    "    model.eval()\n",
    "    loss = 0\n",
    "    within_tolerance = 1\n",
    "    total = 0\n",
    "\n",
    "    with torch.no_grad():\n",
    "        for images, labels in data_loader:\n",
    "            images, labels = images.to(device), labels.to(device)\n",
    "            outputs = model(images)\n",
    "            outputs_summed = outputs.view(outputs.size(0), -1).sum(1, keepdim=True)\n",
    "            loss += criterion(outputs_summed, labels).item()\n",
    "            \n",
    "            lower_bound = labels * (1 - tolerance)\n",
    "            upper_bound = labels * (1 + tolerance)\n",
    "            within_tolerance += torch.sum((outputs_summed >= lower_bound) & (outputs_summed <= upper_bound)).item()\n",
    "            total += labels.size(0)\n",
    "\n",
    "    loss /= total\n",
    "    accuracy = within_tolerance / total\n",
    "\n",
    "    return loss, accuracy\n",
    "\n",
    "\n",
    "def report_metrics(train_loader, test_loader, model, criterion, device):\n",
    "    train_loss, train_accuracy = calculate_loss_and_accuracy(train_loader, model, criterion, device)\n",
    "    test_loss, test_accuracy = calculate_loss_and_accuracy(test_loader, model, criterion, device)\n",
    "\n",
    "    print(f'Training Set: Average loss: {train_loss:.4f}, Accuracy: {train_accuracy * 100:.2f}%')\n",
    "    print(f'Test Set: Average loss: {test_loss:.4f}, Accuracy: {test_accuracy * 100:.2f}%')"
   ]
  },
  {
   "cell_type": "markdown",
   "id": "a6c59e28",
   "metadata": {},
   "source": [
    "## Models Fitting"
   ]
  },
  {
   "cell_type": "markdown",
   "id": "60200e9d-de38-4b3a-87ee-cfafb8b852ea",
   "metadata": {},
   "source": [
    "### 1. CSRNet"
   ]
  },
  {
   "cell_type": "code",
   "execution_count": 31,
   "id": "e8738724",
   "metadata": {
    "tags": []
   },
   "outputs": [
    {
     "name": "stderr",
     "output_type": "stream",
     "text": [
      "Epochs:   0%|          | 0/10 [00:00<?, ?it/s]"
     ]
    },
    {
     "name": "stdout",
     "output_type": "stream",
     "text": [
      "Epoch [1], Step [1/160], Loss: 36.346710205078125\n",
      "Epoch [1], Step [21/160], Loss: 7.309406280517578\n",
      "Epoch [1], Step [41/160], Loss: 2.743640661239624\n",
      "Epoch [1], Step [61/160], Loss: 5.001794338226318\n",
      "Epoch [1], Step [81/160], Loss: 9.354503631591797\n",
      "Epoch [1], Step [101/160], Loss: 5.933073043823242\n",
      "Epoch [1], Step [121/160], Loss: 5.400010108947754\n",
      "Epoch [1], Step [141/160], Loss: 5.028507232666016\n"
     ]
    },
    {
     "name": "stderr",
     "output_type": "stream",
     "text": [
      "Epochs:  10%|█         | 1/10 [00:47<07:10, 47.87s/it]"
     ]
    },
    {
     "name": "stdout",
     "output_type": "stream",
     "text": [
      "Epoch [2], Step [1/160], Loss: 5.995610237121582\n",
      "Epoch [2], Step [21/160], Loss: 6.301688194274902\n",
      "Epoch [2], Step [41/160], Loss: 7.517262935638428\n",
      "Epoch [2], Step [61/160], Loss: 4.600457668304443\n",
      "Epoch [2], Step [81/160], Loss: 3.6002769470214844\n",
      "Epoch [2], Step [101/160], Loss: 4.818391799926758\n",
      "Epoch [2], Step [121/160], Loss: 4.125668525695801\n",
      "Epoch [2], Step [141/160], Loss: 6.331218719482422\n"
     ]
    },
    {
     "name": "stderr",
     "output_type": "stream",
     "text": [
      "Epochs:  20%|██        | 2/10 [01:34<06:16, 47.00s/it]"
     ]
    },
    {
     "name": "stdout",
     "output_type": "stream",
     "text": [
      "Epoch [3], Step [1/160], Loss: 5.575313568115234\n",
      "Epoch [3], Step [21/160], Loss: 4.819181442260742\n",
      "Epoch [3], Step [41/160], Loss: 2.627103567123413\n",
      "Epoch [3], Step [61/160], Loss: 4.868342399597168\n",
      "Epoch [3], Step [81/160], Loss: 5.767727851867676\n",
      "Epoch [3], Step [101/160], Loss: 3.3966190814971924\n",
      "Epoch [3], Step [121/160], Loss: 5.792039394378662\n",
      "Epoch [3], Step [141/160], Loss: 6.541943550109863\n"
     ]
    },
    {
     "name": "stderr",
     "output_type": "stream",
     "text": [
      "Epochs:  30%|███       | 3/10 [02:20<05:27, 46.80s/it]"
     ]
    },
    {
     "name": "stdout",
     "output_type": "stream",
     "text": [
      "Epoch [4], Step [1/160], Loss: 6.520761013031006\n",
      "Epoch [4], Step [21/160], Loss: 6.5356903076171875\n",
      "Epoch [4], Step [41/160], Loss: 6.385728359222412\n",
      "Epoch [4], Step [61/160], Loss: 4.943314075469971\n",
      "Epoch [4], Step [81/160], Loss: 5.250304698944092\n",
      "Epoch [4], Step [101/160], Loss: 3.644110918045044\n",
      "Epoch [4], Step [121/160], Loss: 4.599999904632568\n",
      "Epoch [4], Step [141/160], Loss: 6.727382183074951\n"
     ]
    },
    {
     "name": "stderr",
     "output_type": "stream",
     "text": [
      "Epochs:  40%|████      | 4/10 [03:07<04:40, 46.72s/it]"
     ]
    },
    {
     "name": "stdout",
     "output_type": "stream",
     "text": [
      "Epoch [5], Step [1/160], Loss: 7.809131145477295\n",
      "Epoch [5], Step [21/160], Loss: 4.017781734466553\n",
      "Epoch [5], Step [41/160], Loss: 3.9529426097869873\n",
      "Epoch [5], Step [61/160], Loss: 4.570088863372803\n",
      "Epoch [5], Step [81/160], Loss: 4.747910976409912\n",
      "Epoch [5], Step [101/160], Loss: 7.372150421142578\n",
      "Epoch [5], Step [121/160], Loss: 4.672159671783447\n",
      "Epoch [5], Step [141/160], Loss: 3.3805534839630127\n"
     ]
    },
    {
     "name": "stderr",
     "output_type": "stream",
     "text": [
      "Epochs:  50%|█████     | 5/10 [03:54<03:53, 46.69s/it]"
     ]
    },
    {
     "name": "stdout",
     "output_type": "stream",
     "text": [
      "Epoch [6], Step [1/160], Loss: 7.7285027503967285\n",
      "Epoch [6], Step [21/160], Loss: 4.882969856262207\n",
      "Epoch [6], Step [41/160], Loss: 3.6973366737365723\n",
      "Epoch [6], Step [61/160], Loss: 6.199958324432373\n",
      "Epoch [6], Step [81/160], Loss: 5.949405193328857\n",
      "Epoch [6], Step [101/160], Loss: 4.7648797035217285\n",
      "Epoch [6], Step [121/160], Loss: 4.881824016571045\n",
      "Epoch [6], Step [141/160], Loss: 3.1621663570404053\n"
     ]
    },
    {
     "name": "stderr",
     "output_type": "stream",
     "text": [
      "Epochs:  60%|██████    | 6/10 [04:40<03:06, 46.63s/it]"
     ]
    },
    {
     "name": "stdout",
     "output_type": "stream",
     "text": [
      "Epoch [7], Step [1/160], Loss: 4.200068473815918\n",
      "Epoch [7], Step [21/160], Loss: 3.8975369930267334\n",
      "Epoch [7], Step [41/160], Loss: 4.099999904632568\n",
      "Epoch [7], Step [61/160], Loss: 6.588099002838135\n",
      "Epoch [7], Step [81/160], Loss: 6.550142765045166\n",
      "Epoch [7], Step [101/160], Loss: 3.9798550605773926\n",
      "Epoch [7], Step [121/160], Loss: 6.63946533203125\n",
      "Epoch [7], Step [141/160], Loss: 5.0\n"
     ]
    },
    {
     "name": "stderr",
     "output_type": "stream",
     "text": [
      "Epochs:  70%|███████   | 7/10 [05:26<02:19, 46.54s/it]"
     ]
    },
    {
     "name": "stdout",
     "output_type": "stream",
     "text": [
      "Epoch [8], Step [1/160], Loss: 4.583436012268066\n",
      "Epoch [8], Step [21/160], Loss: 5.740774631500244\n",
      "Epoch [8], Step [41/160], Loss: 3.2338664531707764\n",
      "Epoch [8], Step [61/160], Loss: 4.0060625076293945\n",
      "Epoch [8], Step [81/160], Loss: 7.715016841888428\n",
      "Epoch [8], Step [101/160], Loss: 4.808824062347412\n",
      "Epoch [8], Step [121/160], Loss: 3.6523232460021973\n",
      "Epoch [8], Step [141/160], Loss: 5.101255416870117\n"
     ]
    },
    {
     "name": "stderr",
     "output_type": "stream",
     "text": [
      "Epochs:  80%|████████  | 8/10 [06:13<01:32, 46.48s/it]"
     ]
    },
    {
     "name": "stdout",
     "output_type": "stream",
     "text": [
      "Epoch [9], Step [1/160], Loss: 5.14204216003418\n",
      "Epoch [9], Step [21/160], Loss: 4.904755592346191\n",
      "Epoch [9], Step [41/160], Loss: 5.003646373748779\n",
      "Epoch [9], Step [61/160], Loss: 4.935024261474609\n",
      "Epoch [9], Step [81/160], Loss: 3.8993232250213623\n",
      "Epoch [9], Step [101/160], Loss: 4.294370174407959\n",
      "Epoch [9], Step [121/160], Loss: 6.329759120941162\n",
      "Epoch [9], Step [141/160], Loss: 7.056361675262451\n"
     ]
    },
    {
     "name": "stderr",
     "output_type": "stream",
     "text": [
      "Epochs:  90%|█████████ | 9/10 [06:59<00:46, 46.44s/it]"
     ]
    },
    {
     "name": "stdout",
     "output_type": "stream",
     "text": [
      "Epoch [10], Step [1/160], Loss: 6.421212673187256\n",
      "Epoch [10], Step [21/160], Loss: 6.9776930809021\n",
      "Epoch [10], Step [41/160], Loss: 4.602361679077148\n",
      "Epoch [10], Step [61/160], Loss: 4.768975734710693\n",
      "Epoch [10], Step [81/160], Loss: 3.11582350730896\n",
      "Epoch [10], Step [101/160], Loss: 3.8999996185302734\n",
      "Epoch [10], Step [121/160], Loss: 5.726883411407471\n",
      "Epoch [10], Step [141/160], Loss: 8.297293663024902\n"
     ]
    },
    {
     "name": "stderr",
     "output_type": "stream",
     "text": [
      "Epochs: 100%|██████████| 10/10 [07:46<00:00, 46.60s/it]"
     ]
    },
    {
     "name": "stdout",
     "output_type": "stream",
     "text": [
      "\n",
      "Test accuracy: 0.05\n"
     ]
    },
    {
     "name": "stderr",
     "output_type": "stream",
     "text": [
      "\n"
     ]
    }
   ],
   "source": [
    "csr_model.to(DEVICE)\n",
    "csr_train_losses, csr_train_counter, csr_test_losses, csr_test_correct = model_train(train_loader,\n",
    "                                                                     test_loader, csr_model, DEVICE, csr_criterion, \n",
    "                                                                     csr_optimizer, csr_epochs, 10)"
   ]
  },
  {
   "cell_type": "code",
   "execution_count": 32,
   "id": "e177b451",
   "metadata": {
    "tags": []
   },
   "outputs": [
    {
     "data": {
      "image/png": "[encoded data removed]",
      "text/plain": [
       "<Figure size 1200x800 with 1 Axes>"
      ]
     },
     "metadata": {},
     "output_type": "display_data"
    }
   ],
   "source": [
    "plt_loss_graph(train_loader, csr_train_counter, csr_train_losses, csr_test_losses)"
   ]
  },
  {
   "cell_type": "code",
   "execution_count": 33,
   "id": "fa4a860b-8a9d-466f-a606-440723160254",
   "metadata": {
    "tags": []
   },
   "outputs": [
    {
     "name": "stdout",
     "output_type": "stream",
     "text": [
      "Training Set: Average loss: 0.5631, Accuracy: 33.94%\n",
      "Test Set: Average loss: 0.5735, Accuracy: 34.00%\n"
     ]
    }
   ],
   "source": [
    "report_metrics(train_loader, test_loader, csr_model, csr_criterion, DEVICE)"
   ]
  },
  {
   "cell_type": "markdown",
   "id": "32a70a35-405b-407e-98e4-c70ce0d5ee6d",
   "metadata": {},
   "source": [
    "### 2. General CNN"
   ]
  },
  {
   "cell_type": "code",
   "execution_count": 34,
   "id": "9592115b-5ea1-4fcb-adac-c35e3fda1e3c",
   "metadata": {
    "tags": []
   },
   "outputs": [
    {
     "name": "stderr",
     "output_type": "stream",
     "text": [
      "Epochs:   0%|          | 0/50 [00:00<?, ?it/s]"
     ]
    },
    {
     "name": "stdout",
     "output_type": "stream",
     "text": [
      "Epoch [1], Step [1/160], Loss: 30.310373306274414\n",
      "Epoch [1], Step [21/160], Loss: 4.355827808380127\n",
      "Epoch [1], Step [41/160], Loss: 5.4006571769714355\n",
      "Epoch [1], Step [61/160], Loss: 4.553067684173584\n",
      "Epoch [1], Step [81/160], Loss: 2.245267629623413\n",
      "Epoch [1], Step [101/160], Loss: 2.3666763305664062\n",
      "Epoch [1], Step [121/160], Loss: 3.5590646266937256\n",
      "Epoch [1], Step [141/160], Loss: 2.1364877223968506\n"
     ]
    },
    {
     "name": "stderr",
     "output_type": "stream",
     "text": [
      "Epochs:   2%|▏         | 1/50 [00:01<01:01,  1.26s/it]"
     ]
    },
    {
     "name": "stdout",
     "output_type": "stream",
     "text": [
      "Epoch [2], Step [1/160], Loss: 4.130523204803467\n",
      "Epoch [2], Step [21/160], Loss: 3.3983848094940186\n",
      "Epoch [2], Step [41/160], Loss: 2.001573085784912\n",
      "Epoch [2], Step [61/160], Loss: 3.660912036895752\n",
      "Epoch [2], Step [81/160], Loss: 1.7197760343551636\n",
      "Epoch [2], Step [101/160], Loss: 1.5807833671569824\n",
      "Epoch [2], Step [121/160], Loss: 1.528286099433899\n",
      "Epoch [2], Step [141/160], Loss: 2.422079563140869\n"
     ]
    },
    {
     "name": "stderr",
     "output_type": "stream",
     "text": [
      "Epochs:   4%|▍         | 2/50 [00:02<01:00,  1.26s/it]"
     ]
    },
    {
     "name": "stdout",
     "output_type": "stream",
     "text": [
      "Epoch [3], Step [1/160], Loss: 2.8933587074279785\n",
      "Epoch [3], Step [21/160], Loss: 5.590434551239014\n",
      "Epoch [3], Step [41/160], Loss: 2.6812655925750732\n",
      "Epoch [3], Step [61/160], Loss: 1.813736915588379\n",
      "Epoch [3], Step [81/160], Loss: 2.8525750637054443\n",
      "Epoch [3], Step [101/160], Loss: 2.2587087154388428\n",
      "Epoch [3], Step [121/160], Loss: 4.352015972137451\n",
      "Epoch [3], Step [141/160], Loss: 2.133871078491211\n"
     ]
    },
    {
     "name": "stderr",
     "output_type": "stream",
     "text": [
      "Epochs:   6%|▌         | 3/50 [00:03<00:59,  1.26s/it]"
     ]
    },
    {
     "name": "stdout",
     "output_type": "stream",
     "text": [
      "Epoch [4], Step [1/160], Loss: 2.2097175121307373\n",
      "Epoch [4], Step [21/160], Loss: 2.9840965270996094\n",
      "Epoch [4], Step [41/160], Loss: 1.4788917303085327\n",
      "Epoch [4], Step [61/160], Loss: 2.1978485584259033\n",
      "Epoch [4], Step [81/160], Loss: 2.7536208629608154\n",
      "Epoch [4], Step [101/160], Loss: 2.8752174377441406\n",
      "Epoch [4], Step [121/160], Loss: 1.959865927696228\n",
      "Epoch [4], Step [141/160], Loss: 1.2323248386383057\n"
     ]
    },
    {
     "name": "stderr",
     "output_type": "stream",
     "text": [
      "Epochs:   8%|▊         | 4/50 [00:05<00:57,  1.26s/it]"
     ]
    },
    {
     "name": "stdout",
     "output_type": "stream",
     "text": [
      "Epoch [5], Step [1/160], Loss: 1.2053850889205933\n",
      "Epoch [5], Step [21/160], Loss: 1.826300024986267\n",
      "Epoch [5], Step [41/160], Loss: 1.5691829919815063\n",
      "Epoch [5], Step [61/160], Loss: 1.7676613330841064\n",
      "Epoch [5], Step [81/160], Loss: 5.58093786239624\n",
      "Epoch [5], Step [101/160], Loss: 1.7672497034072876\n",
      "Epoch [5], Step [121/160], Loss: 2.7644166946411133\n",
      "Epoch [5], Step [141/160], Loss: 2.3406944274902344\n"
     ]
    },
    {
     "name": "stderr",
     "output_type": "stream",
     "text": [
      "Epochs:  10%|█         | 5/50 [00:06<00:56,  1.26s/it]"
     ]
    },
    {
     "name": "stdout",
     "output_type": "stream",
     "text": [
      "Epoch [6], Step [1/160], Loss: 5.462034702301025\n",
      "Epoch [6], Step [21/160], Loss: 2.455070972442627\n",
      "Epoch [6], Step [41/160], Loss: 2.8466193675994873\n",
      "Epoch [6], Step [61/160], Loss: 2.9930100440979004\n",
      "Epoch [6], Step [81/160], Loss: 0.7599963545799255\n",
      "Epoch [6], Step [101/160], Loss: 1.7393916845321655\n",
      "Epoch [6], Step [121/160], Loss: 2.9977633953094482\n",
      "Epoch [6], Step [141/160], Loss: 2.2528574466705322\n"
     ]
    },
    {
     "name": "stderr",
     "output_type": "stream",
     "text": [
      "Epochs:  12%|█▏        | 6/50 [00:07<00:55,  1.26s/it]"
     ]
    },
    {
     "name": "stdout",
     "output_type": "stream",
     "text": [
      "Epoch [7], Step [1/160], Loss: 1.350981593132019\n",
      "Epoch [7], Step [21/160], Loss: 1.3192123174667358\n",
      "Epoch [7], Step [41/160], Loss: 1.4874082803726196\n",
      "Epoch [7], Step [61/160], Loss: 1.986867904663086\n",
      "Epoch [7], Step [81/160], Loss: 1.8685699701309204\n",
      "Epoch [7], Step [101/160], Loss: 1.9996919631958008\n",
      "Epoch [7], Step [121/160], Loss: 1.9319499731063843\n",
      "Epoch [7], Step [141/160], Loss: 2.360525369644165\n"
     ]
    },
    {
     "name": "stderr",
     "output_type": "stream",
     "text": [
      "Epochs:  14%|█▍        | 7/50 [00:08<00:54,  1.26s/it]"
     ]
    },
    {
     "name": "stdout",
     "output_type": "stream",
     "text": [
      "Epoch [8], Step [1/160], Loss: 1.7289352416992188\n",
      "Epoch [8], Step [21/160], Loss: 2.4184043407440186\n",
      "Epoch [8], Step [41/160], Loss: 1.3106834888458252\n",
      "Epoch [8], Step [61/160], Loss: 1.8997395038604736\n",
      "Epoch [8], Step [81/160], Loss: 2.509953260421753\n",
      "Epoch [8], Step [101/160], Loss: 1.9648350477218628\n",
      "Epoch [8], Step [121/160], Loss: 1.5971450805664062\n",
      "Epoch [8], Step [141/160], Loss: 3.1594924926757812\n"
     ]
    },
    {
     "name": "stderr",
     "output_type": "stream",
     "text": [
      "Epochs:  16%|█▌        | 8/50 [00:10<00:52,  1.26s/it]"
     ]
    },
    {
     "name": "stdout",
     "output_type": "stream",
     "text": [
      "Epoch [9], Step [1/160], Loss: 0.9063434600830078\n",
      "Epoch [9], Step [21/160], Loss: 2.848716974258423\n",
      "Epoch [9], Step [41/160], Loss: 1.570159673690796\n",
      "Epoch [9], Step [61/160], Loss: 1.2533591985702515\n",
      "Epoch [9], Step [81/160], Loss: 1.554334044456482\n",
      "Epoch [9], Step [101/160], Loss: 0.8051528334617615\n",
      "Epoch [9], Step [121/160], Loss: 0.9622451663017273\n",
      "Epoch [9], Step [141/160], Loss: 2.0744130611419678\n"
     ]
    },
    {
     "name": "stderr",
     "output_type": "stream",
     "text": [
      "Epochs:  18%|█▊        | 9/50 [00:11<00:51,  1.26s/it]"
     ]
    },
    {
     "name": "stdout",
     "output_type": "stream",
     "text": [
      "Epoch [10], Step [1/160], Loss: 1.8477888107299805\n",
      "Epoch [10], Step [21/160], Loss: 1.543323278427124\n",
      "Epoch [10], Step [41/160], Loss: 1.171972632408142\n",
      "Epoch [10], Step [61/160], Loss: 0.8068025708198547\n",
      "Epoch [10], Step [81/160], Loss: 1.9825247526168823\n",
      "Epoch [10], Step [101/160], Loss: 1.8941386938095093\n",
      "Epoch [10], Step [121/160], Loss: 1.1333836317062378\n",
      "Epoch [10], Step [141/160], Loss: 4.009881496429443\n"
     ]
    },
    {
     "name": "stderr",
     "output_type": "stream",
     "text": [
      "Epochs:  20%|██        | 10/50 [00:12<00:50,  1.27s/it]"
     ]
    },
    {
     "name": "stdout",
     "output_type": "stream",
     "text": [
      "Epoch [11], Step [1/160], Loss: 2.084829330444336\n",
      "Epoch [11], Step [21/160], Loss: 2.0645225048065186\n",
      "Epoch [11], Step [41/160], Loss: 1.7959206104278564\n",
      "Epoch [11], Step [61/160], Loss: 1.8635088205337524\n",
      "Epoch [11], Step [81/160], Loss: 1.537943720817566\n",
      "Epoch [11], Step [101/160], Loss: 2.111354112625122\n",
      "Epoch [11], Step [121/160], Loss: 1.0752805471420288\n",
      "Epoch [11], Step [141/160], Loss: 1.2075560092926025\n"
     ]
    },
    {
     "name": "stderr",
     "output_type": "stream",
     "text": [
      "Epochs:  22%|██▏       | 11/50 [00:13<00:49,  1.27s/it]"
     ]
    },
    {
     "name": "stdout",
     "output_type": "stream",
     "text": [
      "Epoch [12], Step [1/160], Loss: 1.2091315984725952\n",
      "Epoch [12], Step [21/160], Loss: 2.290520429611206\n",
      "Epoch [12], Step [41/160], Loss: 1.1618261337280273\n",
      "Epoch [12], Step [61/160], Loss: 1.4076179265975952\n",
      "Epoch [12], Step [81/160], Loss: 1.3472471237182617\n",
      "Epoch [12], Step [101/160], Loss: 1.4362291097640991\n",
      "Epoch [12], Step [121/160], Loss: 3.5978660583496094\n",
      "Epoch [12], Step [141/160], Loss: 1.397720217704773\n"
     ]
    },
    {
     "name": "stderr",
     "output_type": "stream",
     "text": [
      "Epochs:  24%|██▍       | 12/50 [00:15<00:48,  1.27s/it]"
     ]
    },
    {
     "name": "stdout",
     "output_type": "stream",
     "text": [
      "Epoch [13], Step [1/160], Loss: 1.275264859199524\n",
      "Epoch [13], Step [21/160], Loss: 0.892558217048645\n",
      "Epoch [13], Step [41/160], Loss: 1.6013988256454468\n",
      "Epoch [13], Step [61/160], Loss: 1.5842870473861694\n",
      "Epoch [13], Step [81/160], Loss: 0.8282546997070312\n",
      "Epoch [13], Step [101/160], Loss: 1.360058069229126\n",
      "Epoch [13], Step [121/160], Loss: 1.3512701988220215\n",
      "Epoch [13], Step [141/160], Loss: 1.0816019773483276\n"
     ]
    },
    {
     "name": "stderr",
     "output_type": "stream",
     "text": [
      "Epochs:  26%|██▌       | 13/50 [00:16<00:47,  1.27s/it]"
     ]
    },
    {
     "name": "stdout",
     "output_type": "stream",
     "text": [
      "Epoch [14], Step [1/160], Loss: 1.8022778034210205\n",
      "Epoch [14], Step [21/160], Loss: 0.758679211139679\n",
      "Epoch [14], Step [41/160], Loss: 2.939765691757202\n",
      "Epoch [14], Step [61/160], Loss: 1.564494013786316\n",
      "Epoch [14], Step [81/160], Loss: 2.056648015975952\n",
      "Epoch [14], Step [101/160], Loss: 1.5519827604293823\n",
      "Epoch [14], Step [121/160], Loss: 0.6183151602745056\n",
      "Epoch [14], Step [141/160], Loss: 1.1201995611190796\n"
     ]
    },
    {
     "name": "stderr",
     "output_type": "stream",
     "text": [
      "Epochs:  28%|██▊       | 14/50 [00:17<00:45,  1.27s/it]"
     ]
    },
    {
     "name": "stdout",
     "output_type": "stream",
     "text": [
      "Epoch [15], Step [1/160], Loss: 0.7476534843444824\n",
      "Epoch [15], Step [21/160], Loss: 0.7757042646408081\n",
      "Epoch [15], Step [41/160], Loss: 0.7267088294029236\n",
      "Epoch [15], Step [61/160], Loss: 1.4239362478256226\n",
      "Epoch [15], Step [81/160], Loss: 0.8669852614402771\n",
      "Epoch [15], Step [101/160], Loss: 0.7054325342178345\n",
      "Epoch [15], Step [121/160], Loss: 1.3104465007781982\n",
      "Epoch [15], Step [141/160], Loss: 1.1034983396530151\n"
     ]
    },
    {
     "name": "stderr",
     "output_type": "stream",
     "text": [
      "Epochs:  30%|███       | 15/50 [00:18<00:44,  1.27s/it]"
     ]
    },
    {
     "name": "stdout",
     "output_type": "stream",
     "text": [
      "Epoch [16], Step [1/160], Loss: 1.2522400617599487\n",
      "Epoch [16], Step [21/160], Loss: 0.9836826324462891\n",
      "Epoch [16], Step [41/160], Loss: 1.8699569702148438\n",
      "Epoch [16], Step [61/160], Loss: 2.734938144683838\n",
      "Epoch [16], Step [81/160], Loss: 1.299581527709961\n",
      "Epoch [16], Step [101/160], Loss: 2.292473077774048\n",
      "Epoch [16], Step [121/160], Loss: 1.130014419555664\n",
      "Epoch [16], Step [141/160], Loss: 1.2991224527359009\n"
     ]
    },
    {
     "name": "stderr",
     "output_type": "stream",
     "text": [
      "Epochs:  32%|███▏      | 16/50 [00:20<00:43,  1.27s/it]"
     ]
    },
    {
     "name": "stdout",
     "output_type": "stream",
     "text": [
      "Epoch [17], Step [1/160], Loss: 1.410811424255371\n",
      "Epoch [17], Step [21/160], Loss: 0.7178672552108765\n",
      "Epoch [17], Step [41/160], Loss: 0.5670610070228577\n",
      "Epoch [17], Step [61/160], Loss: 1.9935327768325806\n",
      "Epoch [17], Step [81/160], Loss: 0.9571385383605957\n",
      "Epoch [17], Step [101/160], Loss: 1.4203308820724487\n",
      "Epoch [17], Step [121/160], Loss: 0.9554649591445923\n",
      "Epoch [17], Step [141/160], Loss: 1.4618806838989258\n"
     ]
    },
    {
     "name": "stderr",
     "output_type": "stream",
     "text": [
      "Epochs:  34%|███▍      | 17/50 [00:21<00:41,  1.26s/it]"
     ]
    },
    {
     "name": "stdout",
     "output_type": "stream",
     "text": [
      "Epoch [18], Step [1/160], Loss: 2.56669020652771\n",
      "Epoch [18], Step [21/160], Loss: 0.9823741316795349\n",
      "Epoch [18], Step [41/160], Loss: 0.9823114275932312\n",
      "Epoch [18], Step [61/160], Loss: 1.1419459581375122\n",
      "Epoch [18], Step [81/160], Loss: 2.471240758895874\n",
      "Epoch [18], Step [101/160], Loss: 1.0982122421264648\n",
      "Epoch [18], Step [121/160], Loss: 0.42829790711402893\n",
      "Epoch [18], Step [141/160], Loss: 1.07297682762146\n"
     ]
    },
    {
     "name": "stderr",
     "output_type": "stream",
     "text": [
      "Epochs:  36%|███▌      | 18/50 [00:22<00:40,  1.26s/it]"
     ]
    },
    {
     "name": "stdout",
     "output_type": "stream",
     "text": [
      "Epoch [19], Step [1/160], Loss: 1.3643255233764648\n",
      "Epoch [19], Step [21/160], Loss: 0.9527305960655212\n",
      "Epoch [19], Step [41/160], Loss: 0.6422792673110962\n",
      "Epoch [19], Step [61/160], Loss: 0.9486005902290344\n",
      "Epoch [19], Step [81/160], Loss: 1.2005072832107544\n",
      "Epoch [19], Step [101/160], Loss: 1.1753538846969604\n",
      "Epoch [19], Step [121/160], Loss: 0.6543290019035339\n",
      "Epoch [19], Step [141/160], Loss: 1.2153033018112183\n"
     ]
    },
    {
     "name": "stderr",
     "output_type": "stream",
     "text": [
      "Epochs:  38%|███▊      | 19/50 [00:23<00:38,  1.25s/it]"
     ]
    },
    {
     "name": "stdout",
     "output_type": "stream",
     "text": [
      "Epoch [20], Step [1/160], Loss: 0.6708652377128601\n",
      "Epoch [20], Step [21/160], Loss: 1.1417597532272339\n",
      "Epoch [20], Step [41/160], Loss: 1.5805250406265259\n",
      "Epoch [20], Step [61/160], Loss: 1.494970679283142\n",
      "Epoch [20], Step [81/160], Loss: 1.3249222040176392\n",
      "Epoch [20], Step [101/160], Loss: 1.94338059425354\n",
      "Epoch [20], Step [121/160], Loss: 1.165719985961914\n",
      "Epoch [20], Step [141/160], Loss: 1.4086488485336304\n"
     ]
    },
    {
     "name": "stderr",
     "output_type": "stream",
     "text": [
      "Epochs:  40%|████      | 20/50 [00:25<00:37,  1.25s/it]"
     ]
    },
    {
     "name": "stdout",
     "output_type": "stream",
     "text": [
      "Epoch [21], Step [1/160], Loss: 0.4305865466594696\n",
      "Epoch [21], Step [21/160], Loss: 1.2059082984924316\n",
      "Epoch [21], Step [41/160], Loss: 0.8670862317085266\n",
      "Epoch [21], Step [61/160], Loss: 1.041131854057312\n",
      "Epoch [21], Step [81/160], Loss: 0.6407208442687988\n",
      "Epoch [21], Step [101/160], Loss: 1.0537165403366089\n",
      "Epoch [21], Step [121/160], Loss: 2.6458218097686768\n",
      "Epoch [21], Step [141/160], Loss: 1.8829067945480347\n"
     ]
    },
    {
     "name": "stderr",
     "output_type": "stream",
     "text": [
      "Epochs:  42%|████▏     | 21/50 [00:26<00:36,  1.25s/it]"
     ]
    },
    {
     "name": "stdout",
     "output_type": "stream",
     "text": [
      "Epoch [22], Step [1/160], Loss: 2.4163787364959717\n",
      "Epoch [22], Step [21/160], Loss: 0.8263446688652039\n",
      "Epoch [22], Step [41/160], Loss: 1.3075226545333862\n",
      "Epoch [22], Step [61/160], Loss: 0.5527689456939697\n",
      "Epoch [22], Step [81/160], Loss: 1.5639276504516602\n",
      "Epoch [22], Step [101/160], Loss: 0.37487462162971497\n",
      "Epoch [22], Step [121/160], Loss: 2.9012956619262695\n",
      "Epoch [22], Step [141/160], Loss: 2.3136706352233887\n"
     ]
    },
    {
     "name": "stderr",
     "output_type": "stream",
     "text": [
      "Epochs:  44%|████▍     | 22/50 [00:27<00:35,  1.25s/it]"
     ]
    },
    {
     "name": "stdout",
     "output_type": "stream",
     "text": [
      "Epoch [23], Step [1/160], Loss: 1.2498911619186401\n",
      "Epoch [23], Step [21/160], Loss: 1.1721947193145752\n",
      "Epoch [23], Step [41/160], Loss: 1.3584203720092773\n",
      "Epoch [23], Step [61/160], Loss: 1.7137012481689453\n",
      "Epoch [23], Step [81/160], Loss: 0.8219167590141296\n",
      "Epoch [23], Step [101/160], Loss: 2.164778709411621\n",
      "Epoch [23], Step [121/160], Loss: 1.4895544052124023\n",
      "Epoch [23], Step [141/160], Loss: 1.2956809997558594\n"
     ]
    },
    {
     "name": "stderr",
     "output_type": "stream",
     "text": [
      "Epochs:  46%|████▌     | 23/50 [00:28<00:33,  1.25s/it]"
     ]
    },
    {
     "name": "stdout",
     "output_type": "stream",
     "text": [
      "Epoch [24], Step [1/160], Loss: 0.34901490807533264\n",
      "Epoch [24], Step [21/160], Loss: 0.5866776704788208\n",
      "Epoch [24], Step [41/160], Loss: 1.2477552890777588\n",
      "Epoch [24], Step [61/160], Loss: 0.9709085822105408\n",
      "Epoch [24], Step [81/160], Loss: 0.48274660110473633\n",
      "Epoch [24], Step [101/160], Loss: 0.7913228869438171\n",
      "Epoch [24], Step [121/160], Loss: 0.5975014567375183\n",
      "Epoch [24], Step [141/160], Loss: 1.3437527418136597\n"
     ]
    },
    {
     "name": "stderr",
     "output_type": "stream",
     "text": [
      "Epochs:  48%|████▊     | 24/50 [00:30<00:32,  1.25s/it]"
     ]
    },
    {
     "name": "stdout",
     "output_type": "stream",
     "text": [
      "Epoch [25], Step [1/160], Loss: 1.4990954399108887\n",
      "Epoch [25], Step [21/160], Loss: 0.6221811175346375\n",
      "Epoch [25], Step [41/160], Loss: 1.4073565006256104\n",
      "Epoch [25], Step [61/160], Loss: 0.7057607173919678\n",
      "Epoch [25], Step [81/160], Loss: 0.5372964143753052\n",
      "Epoch [25], Step [101/160], Loss: 1.0138758420944214\n",
      "Epoch [25], Step [121/160], Loss: 0.5579083561897278\n",
      "Epoch [25], Step [141/160], Loss: 1.3657734394073486\n"
     ]
    },
    {
     "name": "stderr",
     "output_type": "stream",
     "text": [
      "Epochs:  50%|█████     | 25/50 [00:31<00:31,  1.25s/it]"
     ]
    },
    {
     "name": "stdout",
     "output_type": "stream",
     "text": [
      "Epoch [26], Step [1/160], Loss: 0.726632833480835\n",
      "Epoch [26], Step [21/160], Loss: 1.2681690454483032\n",
      "Epoch [26], Step [41/160], Loss: 0.4016619622707367\n",
      "Epoch [26], Step [61/160], Loss: 1.7312252521514893\n",
      "Epoch [26], Step [81/160], Loss: 0.7086083292961121\n",
      "Epoch [26], Step [101/160], Loss: 0.7141262292861938\n",
      "Epoch [26], Step [121/160], Loss: 0.6011675000190735\n",
      "Epoch [26], Step [141/160], Loss: 1.1862702369689941\n"
     ]
    },
    {
     "name": "stderr",
     "output_type": "stream",
     "text": [
      "Epochs:  52%|█████▏    | 26/50 [00:32<00:29,  1.25s/it]"
     ]
    },
    {
     "name": "stdout",
     "output_type": "stream",
     "text": [
      "Epoch [27], Step [1/160], Loss: 0.7102836966514587\n",
      "Epoch [27], Step [21/160], Loss: 1.1906559467315674\n",
      "Epoch [27], Step [41/160], Loss: 0.4149165749549866\n",
      "Epoch [27], Step [61/160], Loss: 1.7930115461349487\n",
      "Epoch [27], Step [81/160], Loss: 0.8253002166748047\n",
      "Epoch [27], Step [101/160], Loss: 2.1310043334960938\n",
      "Epoch [27], Step [121/160], Loss: 0.4727174937725067\n",
      "Epoch [27], Step [141/160], Loss: 0.7063949108123779\n"
     ]
    },
    {
     "name": "stderr",
     "output_type": "stream",
     "text": [
      "Epochs:  54%|█████▍    | 27/50 [00:33<00:28,  1.25s/it]"
     ]
    },
    {
     "name": "stdout",
     "output_type": "stream",
     "text": [
      "Epoch [28], Step [1/160], Loss: 0.5007689595222473\n",
      "Epoch [28], Step [21/160], Loss: 1.106122612953186\n",
      "Epoch [28], Step [41/160], Loss: 0.4532845616340637\n",
      "Epoch [28], Step [61/160], Loss: 0.5220419764518738\n",
      "Epoch [28], Step [81/160], Loss: 1.1958297491073608\n",
      "Epoch [28], Step [101/160], Loss: 0.3349943161010742\n",
      "Epoch [28], Step [121/160], Loss: 1.0165302753448486\n",
      "Epoch [28], Step [141/160], Loss: 0.9282385110855103\n"
     ]
    },
    {
     "name": "stderr",
     "output_type": "stream",
     "text": [
      "Epochs:  56%|█████▌    | 28/50 [00:35<00:27,  1.24s/it]"
     ]
    },
    {
     "name": "stdout",
     "output_type": "stream",
     "text": [
      "Epoch [29], Step [1/160], Loss: 0.578223705291748\n",
      "Epoch [29], Step [21/160], Loss: 0.4058457016944885\n",
      "Epoch [29], Step [41/160], Loss: 1.0911706686019897\n",
      "Epoch [29], Step [61/160], Loss: 0.5477928519248962\n",
      "Epoch [29], Step [81/160], Loss: 1.5681064128875732\n",
      "Epoch [29], Step [101/160], Loss: 1.3705638647079468\n",
      "Epoch [29], Step [121/160], Loss: 1.459290623664856\n",
      "Epoch [29], Step [141/160], Loss: 1.0141500234603882\n"
     ]
    },
    {
     "name": "stderr",
     "output_type": "stream",
     "text": [
      "Epochs:  58%|█████▊    | 29/50 [00:36<00:26,  1.24s/it]"
     ]
    },
    {
     "name": "stdout",
     "output_type": "stream",
     "text": [
      "Epoch [30], Step [1/160], Loss: 0.4687536656856537\n",
      "Epoch [30], Step [21/160], Loss: 0.7450917959213257\n",
      "Epoch [30], Step [41/160], Loss: 0.4519805908203125\n",
      "Epoch [30], Step [61/160], Loss: 0.8433049321174622\n",
      "Epoch [30], Step [81/160], Loss: 0.5088474154472351\n",
      "Epoch [30], Step [101/160], Loss: 0.8846611976623535\n",
      "Epoch [30], Step [121/160], Loss: 0.7683599591255188\n",
      "Epoch [30], Step [141/160], Loss: 0.8801471590995789\n"
     ]
    },
    {
     "name": "stderr",
     "output_type": "stream",
     "text": [
      "Epochs:  60%|██████    | 30/50 [00:37<00:24,  1.25s/it]"
     ]
    },
    {
     "name": "stdout",
     "output_type": "stream",
     "text": [
      "Epoch [31], Step [1/160], Loss: 0.5644243359565735\n",
      "Epoch [31], Step [21/160], Loss: 0.9901806116104126\n",
      "Epoch [31], Step [41/160], Loss: 1.0989922285079956\n",
      "Epoch [31], Step [61/160], Loss: 0.29017171263694763\n",
      "Epoch [31], Step [81/160], Loss: 1.2865246534347534\n",
      "Epoch [31], Step [101/160], Loss: 0.9998357892036438\n",
      "Epoch [31], Step [121/160], Loss: 0.4868679940700531\n",
      "Epoch [31], Step [141/160], Loss: 0.6732231378555298\n"
     ]
    },
    {
     "name": "stderr",
     "output_type": "stream",
     "text": [
      "Epochs:  62%|██████▏   | 31/50 [00:38<00:23,  1.24s/it]"
     ]
    },
    {
     "name": "stdout",
     "output_type": "stream",
     "text": [
      "Epoch [32], Step [1/160], Loss: 0.6349478960037231\n",
      "Epoch [32], Step [21/160], Loss: 1.2165930271148682\n",
      "Epoch [32], Step [41/160], Loss: 1.305119514465332\n",
      "Epoch [32], Step [61/160], Loss: 0.351158082485199\n",
      "Epoch [32], Step [81/160], Loss: 1.251159906387329\n",
      "Epoch [32], Step [101/160], Loss: 0.5819384455680847\n",
      "Epoch [32], Step [121/160], Loss: 0.44353681802749634\n",
      "Epoch [32], Step [141/160], Loss: 0.4368797242641449\n"
     ]
    },
    {
     "name": "stderr",
     "output_type": "stream",
     "text": [
      "Epochs:  64%|██████▍   | 32/50 [00:40<00:22,  1.24s/it]"
     ]
    },
    {
     "name": "stdout",
     "output_type": "stream",
     "text": [
      "Epoch [33], Step [1/160], Loss: 2.019930124282837\n",
      "Epoch [33], Step [21/160], Loss: 0.5938059091567993\n",
      "Epoch [33], Step [41/160], Loss: 1.09642493724823\n",
      "Epoch [33], Step [61/160], Loss: 0.3487967550754547\n",
      "Epoch [33], Step [81/160], Loss: 0.47920486330986023\n",
      "Epoch [33], Step [101/160], Loss: 1.0189942121505737\n",
      "Epoch [33], Step [121/160], Loss: 0.968804657459259\n",
      "Epoch [33], Step [141/160], Loss: 1.616403579711914\n"
     ]
    },
    {
     "name": "stderr",
     "output_type": "stream",
     "text": [
      "Epochs:  66%|██████▌   | 33/50 [00:41<00:21,  1.24s/it]"
     ]
    },
    {
     "name": "stdout",
     "output_type": "stream",
     "text": [
      "Epoch [34], Step [1/160], Loss: 1.5933212041854858\n",
      "Epoch [34], Step [21/160], Loss: 0.4389006793498993\n",
      "Epoch [34], Step [41/160], Loss: 0.557625949382782\n",
      "Epoch [34], Step [61/160], Loss: 0.9500043988227844\n",
      "Epoch [34], Step [81/160], Loss: 0.9548935294151306\n",
      "Epoch [34], Step [101/160], Loss: 0.5048527121543884\n",
      "Epoch [34], Step [121/160], Loss: 0.23525257408618927\n",
      "Epoch [34], Step [141/160], Loss: 0.5858942866325378\n"
     ]
    },
    {
     "name": "stderr",
     "output_type": "stream",
     "text": [
      "Epochs:  68%|██████▊   | 34/50 [00:42<00:19,  1.24s/it]"
     ]
    },
    {
     "name": "stdout",
     "output_type": "stream",
     "text": [
      "Epoch [35], Step [1/160], Loss: 1.2514241933822632\n",
      "Epoch [35], Step [21/160], Loss: 0.8794978260993958\n",
      "Epoch [35], Step [41/160], Loss: 0.7463764548301697\n",
      "Epoch [35], Step [61/160], Loss: 1.065447449684143\n",
      "Epoch [35], Step [81/160], Loss: 0.954511284828186\n",
      "Epoch [35], Step [101/160], Loss: 1.3090566396713257\n",
      "Epoch [35], Step [121/160], Loss: 1.9521557092666626\n",
      "Epoch [35], Step [141/160], Loss: 0.47078782320022583\n"
     ]
    },
    {
     "name": "stderr",
     "output_type": "stream",
     "text": [
      "Epochs:  70%|███████   | 35/50 [00:43<00:18,  1.24s/it]"
     ]
    },
    {
     "name": "stdout",
     "output_type": "stream",
     "text": [
      "Epoch [36], Step [1/160], Loss: 0.5179271101951599\n",
      "Epoch [36], Step [21/160], Loss: 0.6608185172080994\n",
      "Epoch [36], Step [41/160], Loss: 0.504706859588623\n",
      "Epoch [36], Step [61/160], Loss: 0.8415793776512146\n",
      "Epoch [36], Step [81/160], Loss: 1.2697951793670654\n",
      "Epoch [36], Step [101/160], Loss: 0.4408450126647949\n",
      "Epoch [36], Step [121/160], Loss: 0.43210920691490173\n",
      "Epoch [36], Step [141/160], Loss: 0.7963005900382996\n"
     ]
    },
    {
     "name": "stderr",
     "output_type": "stream",
     "text": [
      "Epochs:  72%|███████▏  | 36/50 [00:45<00:17,  1.24s/it]"
     ]
    },
    {
     "name": "stdout",
     "output_type": "stream",
     "text": [
      "Epoch [37], Step [1/160], Loss: 0.5415381193161011\n",
      "Epoch [37], Step [21/160], Loss: 0.6721283793449402\n",
      "Epoch [37], Step [41/160], Loss: 0.3459297716617584\n",
      "Epoch [37], Step [61/160], Loss: 0.22342820465564728\n",
      "Epoch [37], Step [81/160], Loss: 1.070089340209961\n",
      "Epoch [37], Step [101/160], Loss: 0.6959673762321472\n",
      "Epoch [37], Step [121/160], Loss: 1.0522669553756714\n",
      "Epoch [37], Step [141/160], Loss: 0.9496306777000427\n"
     ]
    },
    {
     "name": "stderr",
     "output_type": "stream",
     "text": [
      "Epochs:  74%|███████▍  | 37/50 [00:46<00:16,  1.24s/it]"
     ]
    },
    {
     "name": "stdout",
     "output_type": "stream",
     "text": [
      "Epoch [38], Step [1/160], Loss: 0.607456386089325\n",
      "Epoch [38], Step [21/160], Loss: 1.0045799016952515\n",
      "Epoch [38], Step [41/160], Loss: 0.6101900339126587\n",
      "Epoch [38], Step [61/160], Loss: 1.2334057092666626\n",
      "Epoch [38], Step [81/160], Loss: 0.7770141959190369\n",
      "Epoch [38], Step [101/160], Loss: 1.1010897159576416\n",
      "Epoch [38], Step [121/160], Loss: 1.1757806539535522\n",
      "Epoch [38], Step [141/160], Loss: 0.38264554738998413\n"
     ]
    },
    {
     "name": "stderr",
     "output_type": "stream",
     "text": [
      "Epochs:  76%|███████▌  | 38/50 [00:47<00:14,  1.24s/it]"
     ]
    },
    {
     "name": "stdout",
     "output_type": "stream",
     "text": [
      "Epoch [39], Step [1/160], Loss: 1.1904720067977905\n",
      "Epoch [39], Step [21/160], Loss: 0.7046558260917664\n",
      "Epoch [39], Step [41/160], Loss: 0.5498977899551392\n",
      "Epoch [39], Step [61/160], Loss: 0.51927250623703\n",
      "Epoch [39], Step [81/160], Loss: 0.7838100790977478\n",
      "Epoch [39], Step [101/160], Loss: 0.6893249750137329\n",
      "Epoch [39], Step [121/160], Loss: 0.7937657237052917\n",
      "Epoch [39], Step [141/160], Loss: 0.772609531879425\n"
     ]
    },
    {
     "name": "stderr",
     "output_type": "stream",
     "text": [
      "Epochs:  78%|███████▊  | 39/50 [00:48<00:13,  1.24s/it]"
     ]
    },
    {
     "name": "stdout",
     "output_type": "stream",
     "text": [
      "Epoch [40], Step [1/160], Loss: 0.8867962956428528\n",
      "Epoch [40], Step [21/160], Loss: 0.39876458048820496\n",
      "Epoch [40], Step [41/160], Loss: 0.9779111742973328\n",
      "Epoch [40], Step [61/160], Loss: 0.47429656982421875\n",
      "Epoch [40], Step [81/160], Loss: 0.4844001233577728\n",
      "Epoch [40], Step [101/160], Loss: 0.928584098815918\n",
      "Epoch [40], Step [121/160], Loss: 0.34461531043052673\n",
      "Epoch [40], Step [141/160], Loss: 0.2608029544353485\n"
     ]
    },
    {
     "name": "stderr",
     "output_type": "stream",
     "text": [
      "Epochs:  80%|████████  | 40/50 [00:50<00:12,  1.25s/it]"
     ]
    },
    {
     "name": "stdout",
     "output_type": "stream",
     "text": [
      "Epoch [41], Step [1/160], Loss: 0.8416339159011841\n",
      "Epoch [41], Step [21/160], Loss: 1.02499520778656\n",
      "Epoch [41], Step [41/160], Loss: 0.7697409987449646\n",
      "Epoch [41], Step [61/160], Loss: 0.3112514913082123\n",
      "Epoch [41], Step [81/160], Loss: 0.32350945472717285\n",
      "Epoch [41], Step [101/160], Loss: 0.591202437877655\n",
      "Epoch [41], Step [121/160], Loss: 0.47367793321609497\n",
      "Epoch [41], Step [141/160], Loss: 1.0303444862365723\n"
     ]
    },
    {
     "name": "stderr",
     "output_type": "stream",
     "text": [
      "Epochs:  82%|████████▏ | 41/50 [00:51<00:11,  1.25s/it]"
     ]
    },
    {
     "name": "stdout",
     "output_type": "stream",
     "text": [
      "Epoch [42], Step [1/160], Loss: 0.48069411516189575\n",
      "Epoch [42], Step [21/160], Loss: 0.24748079478740692\n",
      "Epoch [42], Step [41/160], Loss: 0.4499809443950653\n",
      "Epoch [42], Step [61/160], Loss: 1.1883854866027832\n",
      "Epoch [42], Step [81/160], Loss: 0.5163806676864624\n",
      "Epoch [42], Step [101/160], Loss: 0.317148357629776\n",
      "Epoch [42], Step [121/160], Loss: 0.3078255355358124\n",
      "Epoch [42], Step [141/160], Loss: 0.7963610887527466\n"
     ]
    },
    {
     "name": "stderr",
     "output_type": "stream",
     "text": [
      "Epochs:  84%|████████▍ | 42/50 [00:52<00:09,  1.25s/it]"
     ]
    },
    {
     "name": "stdout",
     "output_type": "stream",
     "text": [
      "Epoch [43], Step [1/160], Loss: 0.34306201338768005\n",
      "Epoch [43], Step [21/160], Loss: 0.630763828754425\n",
      "Epoch [43], Step [41/160], Loss: 0.3482845425605774\n",
      "Epoch [43], Step [61/160], Loss: 1.0164598226547241\n",
      "Epoch [43], Step [81/160], Loss: 0.5722936391830444\n",
      "Epoch [43], Step [101/160], Loss: 0.6240038871765137\n",
      "Epoch [43], Step [121/160], Loss: 1.3394956588745117\n",
      "Epoch [43], Step [141/160], Loss: 0.8106134533882141\n"
     ]
    },
    {
     "name": "stderr",
     "output_type": "stream",
     "text": [
      "Epochs:  86%|████████▌ | 43/50 [00:53<00:08,  1.25s/it]"
     ]
    },
    {
     "name": "stdout",
     "output_type": "stream",
     "text": [
      "Epoch [44], Step [1/160], Loss: 0.8249780535697937\n",
      "Epoch [44], Step [21/160], Loss: 0.5161470770835876\n",
      "Epoch [44], Step [41/160], Loss: 0.8388064503669739\n",
      "Epoch [44], Step [61/160], Loss: 0.5701399445533752\n",
      "Epoch [44], Step [81/160], Loss: 1.0582009553909302\n",
      "Epoch [44], Step [101/160], Loss: 0.26502686738967896\n",
      "Epoch [44], Step [121/160], Loss: 0.7547768950462341\n",
      "Epoch [44], Step [141/160], Loss: 0.3449227809906006\n"
     ]
    },
    {
     "name": "stderr",
     "output_type": "stream",
     "text": [
      "Epochs:  88%|████████▊ | 44/50 [00:55<00:07,  1.25s/it]"
     ]
    },
    {
     "name": "stdout",
     "output_type": "stream",
     "text": [
      "Epoch [45], Step [1/160], Loss: 0.5758253931999207\n",
      "Epoch [45], Step [21/160], Loss: 0.8390474319458008\n",
      "Epoch [45], Step [41/160], Loss: 0.6684629321098328\n",
      "Epoch [45], Step [61/160], Loss: 0.7035753130912781\n",
      "Epoch [45], Step [81/160], Loss: 1.3637694120407104\n",
      "Epoch [45], Step [101/160], Loss: 0.30050382018089294\n",
      "Epoch [45], Step [121/160], Loss: 0.5857797265052795\n",
      "Epoch [45], Step [141/160], Loss: 0.6146306991577148\n"
     ]
    },
    {
     "name": "stderr",
     "output_type": "stream",
     "text": [
      "Epochs:  90%|█████████ | 45/50 [00:56<00:06,  1.25s/it]"
     ]
    },
    {
     "name": "stdout",
     "output_type": "stream",
     "text": [
      "Epoch [46], Step [1/160], Loss: 0.3967641592025757\n",
      "Epoch [46], Step [21/160], Loss: 0.28710436820983887\n",
      "Epoch [46], Step [41/160], Loss: 0.6612667441368103\n",
      "Epoch [46], Step [61/160], Loss: 0.6292857527732849\n",
      "Epoch [46], Step [81/160], Loss: 0.30950674414634705\n",
      "Epoch [46], Step [101/160], Loss: 0.522014319896698\n",
      "Epoch [46], Step [121/160], Loss: 0.6229565739631653\n",
      "Epoch [46], Step [141/160], Loss: 0.598604142665863\n"
     ]
    },
    {
     "name": "stderr",
     "output_type": "stream",
     "text": [
      "Epochs:  92%|█████████▏| 46/50 [00:57<00:05,  1.25s/it]"
     ]
    },
    {
     "name": "stdout",
     "output_type": "stream",
     "text": [
      "Epoch [47], Step [1/160], Loss: 0.5642114877700806\n",
      "Epoch [47], Step [21/160], Loss: 0.4035871624946594\n",
      "Epoch [47], Step [41/160], Loss: 0.5708837509155273\n",
      "Epoch [47], Step [61/160], Loss: 0.17012886703014374\n",
      "Epoch [47], Step [81/160], Loss: 0.5199670195579529\n",
      "Epoch [47], Step [101/160], Loss: 0.5969827771186829\n",
      "Epoch [47], Step [121/160], Loss: 0.5780355334281921\n",
      "Epoch [47], Step [141/160], Loss: 0.5993682146072388\n"
     ]
    },
    {
     "name": "stderr",
     "output_type": "stream",
     "text": [
      "Epochs:  94%|█████████▍| 47/50 [00:58<00:03,  1.25s/it]"
     ]
    },
    {
     "name": "stdout",
     "output_type": "stream",
     "text": [
      "Epoch [48], Step [1/160], Loss: 0.7505068182945251\n",
      "Epoch [48], Step [21/160], Loss: 0.5905093550682068\n",
      "Epoch [48], Step [41/160], Loss: 0.3528054356575012\n",
      "Epoch [48], Step [61/160], Loss: 0.45858678221702576\n",
      "Epoch [48], Step [81/160], Loss: 0.12746155261993408\n",
      "Epoch [48], Step [101/160], Loss: 0.6744433045387268\n",
      "Epoch [48], Step [121/160], Loss: 0.6675379872322083\n",
      "Epoch [48], Step [141/160], Loss: 0.49015894532203674\n"
     ]
    },
    {
     "name": "stderr",
     "output_type": "stream",
     "text": [
      "Epochs:  96%|█████████▌| 48/50 [01:00<00:02,  1.24s/it]"
     ]
    },
    {
     "name": "stdout",
     "output_type": "stream",
     "text": [
      "Epoch [49], Step [1/160], Loss: 1.3013092279434204\n",
      "Epoch [49], Step [21/160], Loss: 0.27035436034202576\n",
      "Epoch [49], Step [41/160], Loss: 0.15607577562332153\n",
      "Epoch [49], Step [61/160], Loss: 0.3908320367336273\n",
      "Epoch [49], Step [81/160], Loss: 1.4568984508514404\n",
      "Epoch [49], Step [101/160], Loss: 0.4380989968776703\n",
      "Epoch [49], Step [121/160], Loss: 0.9517607688903809\n",
      "Epoch [49], Step [141/160], Loss: 0.8064188361167908\n"
     ]
    },
    {
     "name": "stderr",
     "output_type": "stream",
     "text": [
      "Epochs:  98%|█████████▊| 49/50 [01:01<00:01,  1.24s/it]"
     ]
    },
    {
     "name": "stdout",
     "output_type": "stream",
     "text": [
      "Epoch [50], Step [1/160], Loss: 0.29302331805229187\n",
      "Epoch [50], Step [21/160], Loss: 0.19364844262599945\n",
      "Epoch [50], Step [41/160], Loss: 0.2987959682941437\n",
      "Epoch [50], Step [61/160], Loss: 0.38513144850730896\n",
      "Epoch [50], Step [81/160], Loss: 0.3197304308414459\n",
      "Epoch [50], Step [101/160], Loss: 0.5774537920951843\n",
      "Epoch [50], Step [121/160], Loss: 0.770815372467041\n",
      "Epoch [50], Step [141/160], Loss: 0.6520342826843262\n"
     ]
    },
    {
     "name": "stderr",
     "output_type": "stream",
     "text": [
      "Epochs: 100%|██████████| 50/50 [01:02<00:00,  1.25s/it]"
     ]
    },
    {
     "name": "stdout",
     "output_type": "stream",
     "text": [
      "\n",
      "Test accuracy: 0.1825\n"
     ]
    },
    {
     "name": "stderr",
     "output_type": "stream",
     "text": [
      "\n"
     ]
    }
   ],
   "source": [
    "cnn_model.to(DEVICE)\n",
    "cnn_train_losses, cnn_train_counter, cnn_test_losses, cnn_test_correct = model_train(train_loader,\n",
    "                                                                     test_loader, cnn_model, DEVICE, cnn_criterion, \n",
    "                                                                     cnn_optimizer, cnn_epochs, 5)"
   ]
  },
  {
   "cell_type": "code",
   "execution_count": 35,
   "id": "a756a683",
   "metadata": {
    "tags": []
   },
   "outputs": [
    {
     "data": {
      "image/png": "[encoded data removed]",
      "text/plain": [
       "<Figure size 1200x800 with 1 Axes>"
      ]
     },
     "metadata": {},
     "output_type": "display_data"
    }
   ],
   "source": [
    "plt_loss_graph(train_loader, cnn_train_counter, cnn_train_losses, cnn_test_losses)"
   ]
  },
  {
   "cell_type": "code",
   "execution_count": 36,
   "id": "c9fe624f-7de6-47f5-9e48-93adfa33dba0",
   "metadata": {
    "tags": []
   },
   "outputs": [
    {
     "name": "stdout",
     "output_type": "stream",
     "text": [
      "Training Set: Average loss: 0.0490, Accuracy: 98.12%\n",
      "Test Set: Average loss: 0.1591, Accuracy: 79.25%\n"
     ]
    }
   ],
   "source": [
    "report_metrics(train_loader, test_loader, cnn_model, cnn_criterion, DEVICE)"
   ]
  },
  {
   "cell_type": "markdown",
   "id": "2a9cabc7-3dc0-4d43-b4d6-bbccfa11c4d5",
   "metadata": {},
   "source": [
    "### 3. Mobile Net"
   ]
  },
  {
   "cell_type": "code",
   "execution_count": 37,
   "id": "99f639a0",
   "metadata": {
    "tags": []
   },
   "outputs": [
    {
     "name": "stderr",
     "output_type": "stream",
     "text": [
      "Epochs:   0%|          | 0/70 [00:00<?, ?it/s]"
     ]
    },
    {
     "name": "stdout",
     "output_type": "stream",
     "text": [
      "Epoch [1], Step [1/160], Loss: 1259.03125\n",
      "Epoch [1], Step [21/160], Loss: 22.058460235595703\n",
      "Epoch [1], Step [41/160], Loss: 16.6246395111084\n",
      "Epoch [1], Step [61/160], Loss: 15.375693321228027\n",
      "Epoch [1], Step [81/160], Loss: 7.927680492401123\n",
      "Epoch [1], Step [101/160], Loss: 11.196745872497559\n",
      "Epoch [1], Step [121/160], Loss: 15.566313743591309\n",
      "Epoch [1], Step [141/160], Loss: 30.386600494384766\n"
     ]
    },
    {
     "name": "stderr",
     "output_type": "stream",
     "text": [
      "Epochs:   1%|▏         | 1/70 [00:03<04:22,  3.81s/it]"
     ]
    },
    {
     "name": "stdout",
     "output_type": "stream",
     "text": [
      "Epoch [2], Step [1/160], Loss: 3.7820606231689453\n",
      "Epoch [2], Step [21/160], Loss: 5.456070899963379\n",
      "Epoch [2], Step [41/160], Loss: 6.432461738586426\n",
      "Epoch [2], Step [61/160], Loss: 4.261868476867676\n",
      "Epoch [2], Step [81/160], Loss: 6.492366313934326\n",
      "Epoch [2], Step [101/160], Loss: 8.969696044921875\n",
      "Epoch [2], Step [121/160], Loss: 6.021459102630615\n",
      "Epoch [2], Step [141/160], Loss: 16.37000846862793\n"
     ]
    },
    {
     "name": "stderr",
     "output_type": "stream",
     "text": [
      "Epochs:   3%|▎         | 2/70 [00:07<04:11,  3.70s/it]"
     ]
    },
    {
     "name": "stdout",
     "output_type": "stream",
     "text": [
      "Epoch [3], Step [1/160], Loss: 1.8789833784103394\n",
      "Epoch [3], Step [21/160], Loss: 17.03270721435547\n",
      "Epoch [3], Step [41/160], Loss: 6.461087226867676\n",
      "Epoch [3], Step [61/160], Loss: 3.5257766246795654\n",
      "Epoch [3], Step [81/160], Loss: 2.890049457550049\n",
      "Epoch [3], Step [101/160], Loss: 22.25990867614746\n",
      "Epoch [3], Step [121/160], Loss: 3.797954559326172\n",
      "Epoch [3], Step [141/160], Loss: 12.23920726776123\n"
     ]
    },
    {
     "name": "stderr",
     "output_type": "stream",
     "text": [
      "Epochs:   4%|▍         | 3/70 [00:11<04:17,  3.85s/it]"
     ]
    },
    {
     "name": "stdout",
     "output_type": "stream",
     "text": [
      "Epoch [4], Step [1/160], Loss: 34.46101760864258\n",
      "Epoch [4], Step [21/160], Loss: 19.675294876098633\n",
      "Epoch [4], Step [41/160], Loss: 23.475881576538086\n",
      "Epoch [4], Step [61/160], Loss: 4.118598937988281\n",
      "Epoch [4], Step [81/160], Loss: 2.246657371520996\n",
      "Epoch [4], Step [101/160], Loss: 3.4558961391448975\n",
      "Epoch [4], Step [121/160], Loss: 12.243962287902832\n",
      "Epoch [4], Step [141/160], Loss: 9.408434867858887\n"
     ]
    },
    {
     "name": "stderr",
     "output_type": "stream",
     "text": [
      "Epochs:   6%|▌         | 4/70 [00:15<04:18,  3.92s/it]"
     ]
    },
    {
     "name": "stdout",
     "output_type": "stream",
     "text": [
      "Epoch [5], Step [1/160], Loss: 4.99101448059082\n",
      "Epoch [5], Step [21/160], Loss: 10.497133255004883\n",
      "Epoch [5], Step [41/160], Loss: 5.398613929748535\n",
      "Epoch [5], Step [61/160], Loss: 3.7972514629364014\n",
      "Epoch [5], Step [81/160], Loss: 2.9655163288116455\n",
      "Epoch [5], Step [101/160], Loss: 8.293681144714355\n",
      "Epoch [5], Step [121/160], Loss: 18.381256103515625\n",
      "Epoch [5], Step [141/160], Loss: 8.844490051269531\n"
     ]
    },
    {
     "name": "stderr",
     "output_type": "stream",
     "text": [
      "Epochs:   7%|▋         | 5/70 [00:19<04:14,  3.92s/it]"
     ]
    },
    {
     "name": "stdout",
     "output_type": "stream",
     "text": [
      "Epoch [6], Step [1/160], Loss: 36.629127502441406\n",
      "Epoch [6], Step [21/160], Loss: 36.611351013183594\n",
      "Epoch [6], Step [41/160], Loss: 3.951866865158081\n",
      "Epoch [6], Step [61/160], Loss: 14.296249389648438\n",
      "Epoch [6], Step [81/160], Loss: 5.048543453216553\n",
      "Epoch [6], Step [101/160], Loss: 2.700143814086914\n",
      "Epoch [6], Step [121/160], Loss: 2.7905638217926025\n",
      "Epoch [6], Step [141/160], Loss: 6.748693943023682\n"
     ]
    },
    {
     "name": "stderr",
     "output_type": "stream",
     "text": [
      "Epochs:   9%|▊         | 6/70 [00:23<04:07,  3.86s/it]"
     ]
    },
    {
     "name": "stdout",
     "output_type": "stream",
     "text": [
      "Epoch [7], Step [1/160], Loss: 8.927258491516113\n",
      "Epoch [7], Step [21/160], Loss: 6.253539562225342\n",
      "Epoch [7], Step [41/160], Loss: 3.7038371562957764\n",
      "Epoch [7], Step [61/160], Loss: 5.18958044052124\n",
      "Epoch [7], Step [81/160], Loss: 16.272199630737305\n",
      "Epoch [7], Step [101/160], Loss: 3.297300100326538\n",
      "Epoch [7], Step [121/160], Loss: 7.836109161376953\n",
      "Epoch [7], Step [141/160], Loss: 8.583000183105469\n"
     ]
    },
    {
     "name": "stderr",
     "output_type": "stream",
     "text": [
      "Epochs:  10%|█         | 7/70 [00:26<03:58,  3.79s/it]"
     ]
    },
    {
     "name": "stdout",
     "output_type": "stream",
     "text": [
      "Epoch [8], Step [1/160], Loss: 18.741943359375\n",
      "Epoch [8], Step [21/160], Loss: 5.477794170379639\n",
      "Epoch [8], Step [41/160], Loss: 4.440418720245361\n",
      "Epoch [8], Step [61/160], Loss: 2.832463026046753\n",
      "Epoch [8], Step [81/160], Loss: 5.866576671600342\n",
      "Epoch [8], Step [101/160], Loss: 12.91337776184082\n",
      "Epoch [8], Step [121/160], Loss: 4.740043640136719\n",
      "Epoch [8], Step [141/160], Loss: 10.804327964782715\n"
     ]
    },
    {
     "name": "stderr",
     "output_type": "stream",
     "text": [
      "Epochs:  11%|█▏        | 8/70 [00:30<03:57,  3.83s/it]"
     ]
    },
    {
     "name": "stdout",
     "output_type": "stream",
     "text": [
      "Epoch [9], Step [1/160], Loss: 1.6837562322616577\n",
      "Epoch [9], Step [21/160], Loss: 7.926258087158203\n",
      "Epoch [9], Step [41/160], Loss: 6.275649070739746\n",
      "Epoch [9], Step [61/160], Loss: 9.823041915893555\n",
      "Epoch [9], Step [81/160], Loss: 12.255373001098633\n",
      "Epoch [9], Step [101/160], Loss: 19.09956169128418\n",
      "Epoch [9], Step [121/160], Loss: 9.966757774353027\n",
      "Epoch [9], Step [141/160], Loss: 5.054621696472168\n"
     ]
    },
    {
     "name": "stderr",
     "output_type": "stream",
     "text": [
      "Epochs:  13%|█▎        | 9/70 [00:34<03:55,  3.86s/it]"
     ]
    },
    {
     "name": "stdout",
     "output_type": "stream",
     "text": [
      "Epoch [10], Step [1/160], Loss: 1.9270973205566406\n",
      "Epoch [10], Step [21/160], Loss: 2.9352128505706787\n",
      "Epoch [10], Step [41/160], Loss: 6.76989221572876\n",
      "Epoch [10], Step [61/160], Loss: 7.906314849853516\n",
      "Epoch [10], Step [81/160], Loss: 6.77432107925415\n",
      "Epoch [10], Step [101/160], Loss: 9.199956893920898\n",
      "Epoch [10], Step [121/160], Loss: 2.5094518661499023\n",
      "Epoch [10], Step [141/160], Loss: 2.3510894775390625\n"
     ]
    },
    {
     "name": "stderr",
     "output_type": "stream",
     "text": [
      "Epochs:  14%|█▍        | 10/70 [00:38<03:45,  3.77s/it]"
     ]
    },
    {
     "name": "stdout",
     "output_type": "stream",
     "text": [
      "Epoch [11], Step [1/160], Loss: 3.3100533485412598\n",
      "Epoch [11], Step [21/160], Loss: 4.468467712402344\n",
      "Epoch [11], Step [41/160], Loss: 2.2950589656829834\n",
      "Epoch [11], Step [61/160], Loss: 15.292712211608887\n",
      "Epoch [11], Step [81/160], Loss: 6.6721930503845215\n",
      "Epoch [11], Step [101/160], Loss: 3.6451187133789062\n",
      "Epoch [11], Step [121/160], Loss: 1.8040350675582886\n",
      "Epoch [11], Step [141/160], Loss: 3.685603380203247\n"
     ]
    },
    {
     "name": "stderr",
     "output_type": "stream",
     "text": [
      "Epochs:  16%|█▌        | 11/70 [00:41<03:38,  3.70s/it]"
     ]
    },
    {
     "name": "stdout",
     "output_type": "stream",
     "text": [
      "Epoch [12], Step [1/160], Loss: 5.7666707038879395\n",
      "Epoch [12], Step [21/160], Loss: 8.651251792907715\n",
      "Epoch [12], Step [41/160], Loss: 2.5254390239715576\n",
      "Epoch [12], Step [61/160], Loss: 2.6826720237731934\n",
      "Epoch [12], Step [81/160], Loss: 2.9354054927825928\n",
      "Epoch [12], Step [101/160], Loss: 2.8301520347595215\n",
      "Epoch [12], Step [121/160], Loss: 13.587488174438477\n",
      "Epoch [12], Step [141/160], Loss: 2.0336344242095947\n"
     ]
    },
    {
     "name": "stderr",
     "output_type": "stream",
     "text": [
      "Epochs:  17%|█▋        | 12/70 [00:45<03:32,  3.66s/it]"
     ]
    },
    {
     "name": "stdout",
     "output_type": "stream",
     "text": [
      "Epoch [13], Step [1/160], Loss: 2.1558327674865723\n",
      "Epoch [13], Step [21/160], Loss: 2.2924396991729736\n",
      "Epoch [13], Step [41/160], Loss: 2.306178092956543\n",
      "Epoch [13], Step [61/160], Loss: 6.459558963775635\n",
      "Epoch [13], Step [81/160], Loss: 3.399442434310913\n",
      "Epoch [13], Step [101/160], Loss: 6.688870429992676\n",
      "Epoch [13], Step [121/160], Loss: 3.167898654937744\n",
      "Epoch [13], Step [141/160], Loss: 12.069398880004883\n"
     ]
    },
    {
     "name": "stderr",
     "output_type": "stream",
     "text": [
      "Epochs:  19%|█▊        | 13/70 [00:48<03:27,  3.65s/it]"
     ]
    },
    {
     "name": "stdout",
     "output_type": "stream",
     "text": [
      "Epoch [14], Step [1/160], Loss: 3.766188859939575\n",
      "Epoch [14], Step [21/160], Loss: 8.427882194519043\n",
      "Epoch [14], Step [41/160], Loss: 33.80941390991211\n",
      "Epoch [14], Step [61/160], Loss: 5.24947452545166\n",
      "Epoch [14], Step [81/160], Loss: 6.468512058258057\n",
      "Epoch [14], Step [101/160], Loss: 4.488579273223877\n",
      "Epoch [14], Step [121/160], Loss: 4.406310081481934\n",
      "Epoch [14], Step [141/160], Loss: 6.643819332122803\n"
     ]
    },
    {
     "name": "stderr",
     "output_type": "stream",
     "text": [
      "Epochs:  20%|██        | 14/70 [00:52<03:25,  3.67s/it]"
     ]
    },
    {
     "name": "stdout",
     "output_type": "stream",
     "text": [
      "Epoch [15], Step [1/160], Loss: 1.6934174299240112\n",
      "Epoch [15], Step [21/160], Loss: 2.7679696083068848\n",
      "Epoch [15], Step [41/160], Loss: 4.042575359344482\n",
      "Epoch [15], Step [61/160], Loss: 2.5222389698028564\n",
      "Epoch [15], Step [81/160], Loss: 0.7107899785041809\n",
      "Epoch [15], Step [101/160], Loss: 4.155484199523926\n",
      "Epoch [15], Step [121/160], Loss: 3.1243515014648438\n",
      "Epoch [15], Step [141/160], Loss: 1.8634766340255737\n"
     ]
    },
    {
     "name": "stderr",
     "output_type": "stream",
     "text": [
      "Epochs:  21%|██▏       | 15/70 [00:56<03:22,  3.68s/it]"
     ]
    },
    {
     "name": "stdout",
     "output_type": "stream",
     "text": [
      "Epoch [16], Step [1/160], Loss: 1.5427603721618652\n",
      "Epoch [16], Step [21/160], Loss: 3.0429601669311523\n",
      "Epoch [16], Step [41/160], Loss: 4.798457622528076\n",
      "Epoch [16], Step [61/160], Loss: 7.2715163230896\n",
      "Epoch [16], Step [81/160], Loss: 2.8085837364196777\n",
      "Epoch [16], Step [101/160], Loss: 5.471863746643066\n",
      "Epoch [16], Step [121/160], Loss: 3.63962721824646\n",
      "Epoch [16], Step [141/160], Loss: 1.7605476379394531\n"
     ]
    },
    {
     "name": "stderr",
     "output_type": "stream",
     "text": [
      "Epochs:  23%|██▎       | 16/70 [01:00<03:19,  3.70s/it]"
     ]
    },
    {
     "name": "stdout",
     "output_type": "stream",
     "text": [
      "Epoch [17], Step [1/160], Loss: 5.547982215881348\n",
      "Epoch [17], Step [21/160], Loss: 0.9674415588378906\n",
      "Epoch [17], Step [41/160], Loss: 5.379234313964844\n",
      "Epoch [17], Step [61/160], Loss: 2.627476930618286\n",
      "Epoch [17], Step [81/160], Loss: 14.750960350036621\n",
      "Epoch [17], Step [101/160], Loss: 5.645110607147217\n",
      "Epoch [17], Step [121/160], Loss: 2.2406201362609863\n",
      "Epoch [17], Step [141/160], Loss: 2.602060079574585\n"
     ]
    },
    {
     "name": "stderr",
     "output_type": "stream",
     "text": [
      "Epochs:  24%|██▍       | 17/70 [01:03<03:14,  3.66s/it]"
     ]
    },
    {
     "name": "stdout",
     "output_type": "stream",
     "text": [
      "Epoch [18], Step [1/160], Loss: 2.3814103603363037\n",
      "Epoch [18], Step [21/160], Loss: 0.4757477939128876\n",
      "Epoch [18], Step [41/160], Loss: 1.616564393043518\n",
      "Epoch [18], Step [61/160], Loss: 2.198760986328125\n",
      "Epoch [18], Step [81/160], Loss: 2.4535980224609375\n",
      "Epoch [18], Step [101/160], Loss: 0.7018389105796814\n",
      "Epoch [18], Step [121/160], Loss: 2.3605618476867676\n",
      "Epoch [18], Step [141/160], Loss: 2.5219242572784424\n"
     ]
    },
    {
     "name": "stderr",
     "output_type": "stream",
     "text": [
      "Epochs:  26%|██▌       | 18/70 [01:07<03:11,  3.68s/it]"
     ]
    },
    {
     "name": "stdout",
     "output_type": "stream",
     "text": [
      "Epoch [19], Step [1/160], Loss: 1.8634175062179565\n",
      "Epoch [19], Step [21/160], Loss: 4.955307483673096\n",
      "Epoch [19], Step [41/160], Loss: 4.379336833953857\n",
      "Epoch [19], Step [61/160], Loss: 0.9658879637718201\n",
      "Epoch [19], Step [81/160], Loss: 2.866741180419922\n",
      "Epoch [19], Step [101/160], Loss: 0.7057322263717651\n",
      "Epoch [19], Step [121/160], Loss: 7.5070977210998535\n",
      "Epoch [19], Step [141/160], Loss: 1.8786710500717163\n"
     ]
    },
    {
     "name": "stderr",
     "output_type": "stream",
     "text": [
      "Epochs:  27%|██▋       | 19/70 [01:11<03:07,  3.68s/it]"
     ]
    },
    {
     "name": "stdout",
     "output_type": "stream",
     "text": [
      "Epoch [20], Step [1/160], Loss: 1.6678228378295898\n",
      "Epoch [20], Step [21/160], Loss: 4.087162017822266\n",
      "Epoch [20], Step [41/160], Loss: 3.305669069290161\n",
      "Epoch [20], Step [61/160], Loss: 0.5433114767074585\n",
      "Epoch [20], Step [81/160], Loss: 1.621848702430725\n",
      "Epoch [20], Step [101/160], Loss: 2.3358941078186035\n",
      "Epoch [20], Step [121/160], Loss: 5.467896461486816\n",
      "Epoch [20], Step [141/160], Loss: 4.9798665046691895\n"
     ]
    },
    {
     "name": "stderr",
     "output_type": "stream",
     "text": [
      "Epochs:  29%|██▊       | 20/70 [01:14<03:03,  3.67s/it]"
     ]
    },
    {
     "name": "stdout",
     "output_type": "stream",
     "text": [
      "Epoch [21], Step [1/160], Loss: 2.468475103378296\n",
      "Epoch [21], Step [21/160], Loss: 1.4846081733703613\n",
      "Epoch [21], Step [41/160], Loss: 4.1352410316467285\n",
      "Epoch [21], Step [61/160], Loss: 1.621258020401001\n",
      "Epoch [21], Step [81/160], Loss: 4.418722152709961\n",
      "Epoch [21], Step [101/160], Loss: 1.5387450456619263\n",
      "Epoch [21], Step [121/160], Loss: 2.973358631134033\n",
      "Epoch [21], Step [141/160], Loss: 2.872694253921509\n"
     ]
    },
    {
     "name": "stderr",
     "output_type": "stream",
     "text": [
      "Epochs:  30%|███       | 21/70 [01:18<02:57,  3.63s/it]"
     ]
    },
    {
     "name": "stdout",
     "output_type": "stream",
     "text": [
      "Epoch [22], Step [1/160], Loss: 4.065270900726318\n",
      "Epoch [22], Step [21/160], Loss: 7.653558254241943\n",
      "Epoch [22], Step [41/160], Loss: 7.604640483856201\n",
      "Epoch [22], Step [61/160], Loss: 2.258809804916382\n",
      "Epoch [22], Step [81/160], Loss: 3.9511520862579346\n",
      "Epoch [22], Step [101/160], Loss: 1.4530316591262817\n",
      "Epoch [22], Step [121/160], Loss: 6.230334758758545\n",
      "Epoch [22], Step [141/160], Loss: 4.065978527069092\n"
     ]
    },
    {
     "name": "stderr",
     "output_type": "stream",
     "text": [
      "Epochs:  31%|███▏      | 22/70 [01:21<02:53,  3.61s/it]"
     ]
    },
    {
     "name": "stdout",
     "output_type": "stream",
     "text": [
      "Epoch [23], Step [1/160], Loss: 3.727529287338257\n",
      "Epoch [23], Step [21/160], Loss: 4.713885307312012\n",
      "Epoch [23], Step [41/160], Loss: 2.205753803253174\n",
      "Epoch [23], Step [61/160], Loss: 1.442931056022644\n",
      "Epoch [23], Step [81/160], Loss: 1.2508188486099243\n",
      "Epoch [23], Step [101/160], Loss: 3.4461472034454346\n",
      "Epoch [23], Step [121/160], Loss: 5.406829833984375\n",
      "Epoch [23], Step [141/160], Loss: 1.9650455713272095\n"
     ]
    },
    {
     "name": "stderr",
     "output_type": "stream",
     "text": [
      "Epochs:  33%|███▎      | 23/70 [01:25<02:48,  3.59s/it]"
     ]
    },
    {
     "name": "stdout",
     "output_type": "stream",
     "text": [
      "Epoch [24], Step [1/160], Loss: 1.8744966983795166\n",
      "Epoch [24], Step [21/160], Loss: 4.863991737365723\n",
      "Epoch [24], Step [41/160], Loss: 2.241814374923706\n",
      "Epoch [24], Step [61/160], Loss: 3.5256431102752686\n",
      "Epoch [24], Step [81/160], Loss: 3.544984817504883\n",
      "Epoch [24], Step [101/160], Loss: 1.735472321510315\n",
      "Epoch [24], Step [121/160], Loss: 5.686717510223389\n",
      "Epoch [24], Step [141/160], Loss: 2.6062324047088623\n"
     ]
    },
    {
     "name": "stderr",
     "output_type": "stream",
     "text": [
      "Epochs:  34%|███▍      | 24/70 [01:28<02:45,  3.59s/it]"
     ]
    },
    {
     "name": "stdout",
     "output_type": "stream",
     "text": [
      "Epoch [25], Step [1/160], Loss: 2.247770309448242\n",
      "Epoch [25], Step [21/160], Loss: 3.4248597621917725\n",
      "Epoch [25], Step [41/160], Loss: 1.4428553581237793\n",
      "Epoch [25], Step [61/160], Loss: 2.750706434249878\n",
      "Epoch [25], Step [81/160], Loss: 4.204457759857178\n",
      "Epoch [25], Step [101/160], Loss: 1.984192132949829\n",
      "Epoch [25], Step [121/160], Loss: 2.6981399059295654\n",
      "Epoch [25], Step [141/160], Loss: 2.8085014820098877\n"
     ]
    },
    {
     "name": "stderr",
     "output_type": "stream",
     "text": [
      "Epochs:  36%|███▌      | 25/70 [01:32<02:41,  3.58s/it]"
     ]
    },
    {
     "name": "stdout",
     "output_type": "stream",
     "text": [
      "Epoch [26], Step [1/160], Loss: 2.6299526691436768\n",
      "Epoch [26], Step [21/160], Loss: 3.8737952709198\n",
      "Epoch [26], Step [41/160], Loss: 1.5416048765182495\n",
      "Epoch [26], Step [61/160], Loss: 2.658360242843628\n",
      "Epoch [26], Step [81/160], Loss: 0.9342174530029297\n",
      "Epoch [26], Step [101/160], Loss: 1.812756896018982\n",
      "Epoch [26], Step [121/160], Loss: 6.068747043609619\n",
      "Epoch [26], Step [141/160], Loss: 1.6569973230361938\n"
     ]
    },
    {
     "name": "stderr",
     "output_type": "stream",
     "text": [
      "Epochs:  37%|███▋      | 26/70 [01:36<02:38,  3.61s/it]"
     ]
    },
    {
     "name": "stdout",
     "output_type": "stream",
     "text": [
      "Epoch [27], Step [1/160], Loss: 1.8494453430175781\n",
      "Epoch [27], Step [21/160], Loss: 2.4896976947784424\n",
      "Epoch [27], Step [41/160], Loss: 3.095947504043579\n",
      "Epoch [27], Step [61/160], Loss: 0.8400114178657532\n",
      "Epoch [27], Step [81/160], Loss: 2.2960102558135986\n",
      "Epoch [27], Step [101/160], Loss: 5.40961217880249\n",
      "Epoch [27], Step [121/160], Loss: 1.58147394657135\n",
      "Epoch [27], Step [141/160], Loss: 0.6285080313682556\n"
     ]
    },
    {
     "name": "stderr",
     "output_type": "stream",
     "text": [
      "Epochs:  39%|███▊      | 27/70 [01:39<02:34,  3.59s/it]"
     ]
    },
    {
     "name": "stdout",
     "output_type": "stream",
     "text": [
      "Epoch [28], Step [1/160], Loss: 1.9102106094360352\n",
      "Epoch [28], Step [21/160], Loss: 2.7450571060180664\n",
      "Epoch [28], Step [41/160], Loss: 7.098609447479248\n",
      "Epoch [28], Step [61/160], Loss: 9.20026969909668\n",
      "Epoch [28], Step [81/160], Loss: 1.7053149938583374\n",
      "Epoch [28], Step [101/160], Loss: 1.6753196716308594\n",
      "Epoch [28], Step [121/160], Loss: 3.5294747352600098\n",
      "Epoch [28], Step [141/160], Loss: 0.524641215801239\n"
     ]
    },
    {
     "name": "stderr",
     "output_type": "stream",
     "text": [
      "Epochs:  40%|████      | 28/70 [01:43<02:32,  3.62s/it]"
     ]
    },
    {
     "name": "stdout",
     "output_type": "stream",
     "text": [
      "Epoch [29], Step [1/160], Loss: 5.156023979187012\n",
      "Epoch [29], Step [21/160], Loss: 1.6930946111679077\n",
      "Epoch [29], Step [41/160], Loss: 3.080878734588623\n",
      "Epoch [29], Step [61/160], Loss: 13.277043342590332\n",
      "Epoch [29], Step [81/160], Loss: 5.760634422302246\n",
      "Epoch [29], Step [101/160], Loss: 2.7000513076782227\n",
      "Epoch [29], Step [121/160], Loss: 1.9569710493087769\n",
      "Epoch [29], Step [141/160], Loss: 0.6359078288078308\n"
     ]
    },
    {
     "name": "stderr",
     "output_type": "stream",
     "text": [
      "Epochs:  41%|████▏     | 29/70 [01:46<02:27,  3.59s/it]"
     ]
    },
    {
     "name": "stdout",
     "output_type": "stream",
     "text": [
      "Epoch [30], Step [1/160], Loss: 2.3532705307006836\n",
      "Epoch [30], Step [21/160], Loss: 5.185384273529053\n",
      "Epoch [30], Step [41/160], Loss: 1.4416617155075073\n",
      "Epoch [30], Step [61/160], Loss: 1.661729097366333\n",
      "Epoch [30], Step [81/160], Loss: 0.8353490829467773\n",
      "Epoch [30], Step [101/160], Loss: 1.542547345161438\n",
      "Epoch [30], Step [121/160], Loss: 2.053633451461792\n",
      "Epoch [30], Step [141/160], Loss: 1.9953718185424805\n"
     ]
    },
    {
     "name": "stderr",
     "output_type": "stream",
     "text": [
      "Epochs:  43%|████▎     | 30/70 [01:50<02:23,  3.58s/it]"
     ]
    },
    {
     "name": "stdout",
     "output_type": "stream",
     "text": [
      "Epoch [31], Step [1/160], Loss: 8.292322158813477\n",
      "Epoch [31], Step [21/160], Loss: 2.3349711894989014\n",
      "Epoch [31], Step [41/160], Loss: 6.279213905334473\n",
      "Epoch [31], Step [61/160], Loss: 11.766205787658691\n",
      "Epoch [31], Step [81/160], Loss: 1.1521962881088257\n",
      "Epoch [31], Step [101/160], Loss: 1.8525867462158203\n",
      "Epoch [31], Step [121/160], Loss: 1.2636202573776245\n",
      "Epoch [31], Step [141/160], Loss: 2.720005512237549\n"
     ]
    },
    {
     "name": "stderr",
     "output_type": "stream",
     "text": [
      "Epochs:  44%|████▍     | 31/70 [01:54<02:19,  3.57s/it]"
     ]
    },
    {
     "name": "stdout",
     "output_type": "stream",
     "text": [
      "Epoch [32], Step [1/160], Loss: 1.6934349536895752\n",
      "Epoch [32], Step [21/160], Loss: 2.9282734394073486\n",
      "Epoch [32], Step [41/160], Loss: 1.3380017280578613\n",
      "Epoch [32], Step [61/160], Loss: 1.3744233846664429\n",
      "Epoch [32], Step [81/160], Loss: 1.0754791498184204\n",
      "Epoch [32], Step [101/160], Loss: 7.781318187713623\n",
      "Epoch [32], Step [121/160], Loss: 1.5630487203598022\n",
      "Epoch [32], Step [141/160], Loss: 1.817490816116333\n"
     ]
    },
    {
     "name": "stderr",
     "output_type": "stream",
     "text": [
      "Epochs:  46%|████▌     | 32/70 [01:57<02:17,  3.63s/it]"
     ]
    },
    {
     "name": "stdout",
     "output_type": "stream",
     "text": [
      "Epoch [33], Step [1/160], Loss: 3.4689273834228516\n",
      "Epoch [33], Step [21/160], Loss: 1.3529318571090698\n",
      "Epoch [33], Step [41/160], Loss: 2.337164878845215\n",
      "Epoch [33], Step [61/160], Loss: 3.906620740890503\n",
      "Epoch [33], Step [81/160], Loss: 4.941758632659912\n",
      "Epoch [33], Step [101/160], Loss: 3.4202167987823486\n",
      "Epoch [33], Step [121/160], Loss: 1.7227191925048828\n",
      "Epoch [33], Step [141/160], Loss: 5.138294219970703\n"
     ]
    },
    {
     "name": "stderr",
     "output_type": "stream",
     "text": [
      "Epochs:  47%|████▋     | 33/70 [02:01<02:13,  3.62s/it]"
     ]
    },
    {
     "name": "stdout",
     "output_type": "stream",
     "text": [
      "Epoch [34], Step [1/160], Loss: 1.59268057346344\n",
      "Epoch [34], Step [21/160], Loss: 8.81950855255127\n",
      "Epoch [34], Step [41/160], Loss: 2.546145439147949\n",
      "Epoch [34], Step [61/160], Loss: 6.064834117889404\n",
      "Epoch [34], Step [81/160], Loss: 6.140174388885498\n",
      "Epoch [34], Step [101/160], Loss: 2.69572377204895\n",
      "Epoch [34], Step [121/160], Loss: 1.5647687911987305\n",
      "Epoch [34], Step [141/160], Loss: 1.1987717151641846\n"
     ]
    },
    {
     "name": "stderr",
     "output_type": "stream",
     "text": [
      "Epochs:  49%|████▊     | 34/70 [02:05<02:10,  3.63s/it]"
     ]
    },
    {
     "name": "stdout",
     "output_type": "stream",
     "text": [
      "Epoch [35], Step [1/160], Loss: 1.121035099029541\n",
      "Epoch [35], Step [21/160], Loss: 5.45346736907959\n",
      "Epoch [35], Step [41/160], Loss: 3.1111669540405273\n",
      "Epoch [35], Step [61/160], Loss: 2.925863027572632\n",
      "Epoch [35], Step [81/160], Loss: 2.6481010913848877\n",
      "Epoch [35], Step [101/160], Loss: 2.5151309967041016\n",
      "Epoch [35], Step [121/160], Loss: 3.668576955795288\n",
      "Epoch [35], Step [141/160], Loss: 2.8503873348236084\n"
     ]
    },
    {
     "name": "stderr",
     "output_type": "stream",
     "text": [
      "Epochs:  50%|█████     | 35/70 [02:08<02:07,  3.64s/it]"
     ]
    },
    {
     "name": "stdout",
     "output_type": "stream",
     "text": [
      "Epoch [36], Step [1/160], Loss: 2.5385146141052246\n",
      "Epoch [36], Step [21/160], Loss: 1.1561262607574463\n",
      "Epoch [36], Step [41/160], Loss: 1.726028323173523\n",
      "Epoch [36], Step [61/160], Loss: 3.2906486988067627\n",
      "Epoch [36], Step [81/160], Loss: 1.2924758195877075\n",
      "Epoch [36], Step [101/160], Loss: 2.3679845333099365\n",
      "Epoch [36], Step [121/160], Loss: 2.2734174728393555\n",
      "Epoch [36], Step [141/160], Loss: 1.9374099969863892\n"
     ]
    },
    {
     "name": "stderr",
     "output_type": "stream",
     "text": [
      "Epochs:  51%|█████▏    | 36/70 [02:12<02:03,  3.64s/it]"
     ]
    },
    {
     "name": "stdout",
     "output_type": "stream",
     "text": [
      "Epoch [37], Step [1/160], Loss: 2.6019155979156494\n",
      "Epoch [37], Step [21/160], Loss: 1.1880120038986206\n",
      "Epoch [37], Step [41/160], Loss: 1.2968645095825195\n",
      "Epoch [37], Step [61/160], Loss: 0.6124739050865173\n",
      "Epoch [37], Step [81/160], Loss: 6.058044910430908\n",
      "Epoch [37], Step [101/160], Loss: 1.1157875061035156\n",
      "Epoch [37], Step [121/160], Loss: 4.704142093658447\n",
      "Epoch [37], Step [141/160], Loss: 4.958104133605957\n"
     ]
    },
    {
     "name": "stderr",
     "output_type": "stream",
     "text": [
      "Epochs:  53%|█████▎    | 37/70 [02:15<01:59,  3.61s/it]"
     ]
    },
    {
     "name": "stdout",
     "output_type": "stream",
     "text": [
      "Epoch [38], Step [1/160], Loss: 1.4579719305038452\n",
      "Epoch [38], Step [21/160], Loss: 2.714216709136963\n",
      "Epoch [38], Step [41/160], Loss: 2.7734062671661377\n",
      "Epoch [38], Step [61/160], Loss: 1.2556568384170532\n",
      "Epoch [38], Step [81/160], Loss: 7.078334331512451\n",
      "Epoch [38], Step [101/160], Loss: 2.351654291152954\n",
      "Epoch [38], Step [121/160], Loss: 6.040781021118164\n",
      "Epoch [38], Step [141/160], Loss: 1.1933479309082031\n"
     ]
    },
    {
     "name": "stderr",
     "output_type": "stream",
     "text": [
      "Epochs:  54%|█████▍    | 38/70 [02:19<01:55,  3.62s/it]"
     ]
    },
    {
     "name": "stdout",
     "output_type": "stream",
     "text": [
      "Epoch [39], Step [1/160], Loss: 0.9321073889732361\n",
      "Epoch [39], Step [21/160], Loss: 1.3212021589279175\n",
      "Epoch [39], Step [41/160], Loss: 5.866800308227539\n",
      "Epoch [39], Step [61/160], Loss: 1.138684630393982\n",
      "Epoch [39], Step [81/160], Loss: 5.795656681060791\n",
      "Epoch [39], Step [101/160], Loss: 2.7488553524017334\n",
      "Epoch [39], Step [121/160], Loss: 4.273484706878662\n",
      "Epoch [39], Step [141/160], Loss: 1.6035826206207275\n"
     ]
    },
    {
     "name": "stderr",
     "output_type": "stream",
     "text": [
      "Epochs:  56%|█████▌    | 39/70 [02:23<01:52,  3.63s/it]"
     ]
    },
    {
     "name": "stdout",
     "output_type": "stream",
     "text": [
      "Epoch [40], Step [1/160], Loss: 1.697996973991394\n",
      "Epoch [40], Step [21/160], Loss: 1.5492150783538818\n",
      "Epoch [40], Step [41/160], Loss: 2.5538055896759033\n",
      "Epoch [40], Step [61/160], Loss: 1.5184019804000854\n",
      "Epoch [40], Step [81/160], Loss: 3.666067600250244\n",
      "Epoch [40], Step [101/160], Loss: 1.2111774682998657\n",
      "Epoch [40], Step [121/160], Loss: 1.623504638671875\n",
      "Epoch [40], Step [141/160], Loss: 1.2856123447418213\n"
     ]
    },
    {
     "name": "stderr",
     "output_type": "stream",
     "text": [
      "Epochs:  57%|█████▋    | 40/70 [02:26<01:48,  3.61s/it]"
     ]
    },
    {
     "name": "stdout",
     "output_type": "stream",
     "text": [
      "Epoch [41], Step [1/160], Loss: 1.4222639799118042\n",
      "Epoch [41], Step [21/160], Loss: 1.0501182079315186\n",
      "Epoch [41], Step [41/160], Loss: 2.2643392086029053\n",
      "Epoch [41], Step [61/160], Loss: 0.8559301495552063\n",
      "Epoch [41], Step [81/160], Loss: 12.560650825500488\n",
      "Epoch [41], Step [101/160], Loss: 7.4126200675964355\n",
      "Epoch [41], Step [121/160], Loss: 2.483402967453003\n",
      "Epoch [41], Step [141/160], Loss: 2.638126850128174\n"
     ]
    },
    {
     "name": "stderr",
     "output_type": "stream",
     "text": [
      "Epochs:  59%|█████▊    | 41/70 [02:30<01:44,  3.61s/it]"
     ]
    },
    {
     "name": "stdout",
     "output_type": "stream",
     "text": [
      "Epoch [42], Step [1/160], Loss: 1.522737741470337\n",
      "Epoch [42], Step [21/160], Loss: 1.8206939697265625\n",
      "Epoch [42], Step [41/160], Loss: 1.1763471364974976\n",
      "Epoch [42], Step [61/160], Loss: 1.6520649194717407\n",
      "Epoch [42], Step [81/160], Loss: 0.6229360699653625\n",
      "Epoch [42], Step [101/160], Loss: 2.1698060035705566\n",
      "Epoch [42], Step [121/160], Loss: 2.6958587169647217\n",
      "Epoch [42], Step [141/160], Loss: 1.1175193786621094\n"
     ]
    },
    {
     "name": "stderr",
     "output_type": "stream",
     "text": [
      "Epochs:  60%|██████    | 42/70 [02:33<01:40,  3.60s/it]"
     ]
    },
    {
     "name": "stdout",
     "output_type": "stream",
     "text": [
      "Epoch [43], Step [1/160], Loss: 3.5005784034729004\n",
      "Epoch [43], Step [21/160], Loss: 2.432131767272949\n",
      "Epoch [43], Step [41/160], Loss: 2.3464276790618896\n",
      "Epoch [43], Step [61/160], Loss: 1.87238347530365\n",
      "Epoch [43], Step [81/160], Loss: 1.9436959028244019\n",
      "Epoch [43], Step [101/160], Loss: 1.6512142419815063\n",
      "Epoch [43], Step [121/160], Loss: 8.371928215026855\n",
      "Epoch [43], Step [141/160], Loss: 2.9932544231414795\n"
     ]
    },
    {
     "name": "stderr",
     "output_type": "stream",
     "text": [
      "Epochs:  61%|██████▏   | 43/70 [02:37<01:36,  3.58s/it]"
     ]
    },
    {
     "name": "stdout",
     "output_type": "stream",
     "text": [
      "Epoch [44], Step [1/160], Loss: 2.68608021736145\n",
      "Epoch [44], Step [21/160], Loss: 2.3204946517944336\n",
      "Epoch [44], Step [41/160], Loss: 1.698770523071289\n",
      "Epoch [44], Step [61/160], Loss: 3.239788055419922\n",
      "Epoch [44], Step [81/160], Loss: 0.7420362830162048\n",
      "Epoch [44], Step [101/160], Loss: 2.77116322517395\n",
      "Epoch [44], Step [121/160], Loss: 0.9987465143203735\n",
      "Epoch [44], Step [141/160], Loss: 1.6159549951553345\n"
     ]
    },
    {
     "name": "stderr",
     "output_type": "stream",
     "text": [
      "Epochs:  63%|██████▎   | 44/70 [02:41<01:33,  3.58s/it]"
     ]
    },
    {
     "name": "stdout",
     "output_type": "stream",
     "text": [
      "Epoch [45], Step [1/160], Loss: 2.1115078926086426\n",
      "Epoch [45], Step [21/160], Loss: 0.45445090532302856\n",
      "Epoch [45], Step [41/160], Loss: 3.1481516361236572\n",
      "Epoch [45], Step [61/160], Loss: 1.3018192052841187\n",
      "Epoch [45], Step [81/160], Loss: 0.7867898941040039\n",
      "Epoch [45], Step [101/160], Loss: 0.8979635238647461\n",
      "Epoch [45], Step [121/160], Loss: 2.3780839443206787\n",
      "Epoch [45], Step [141/160], Loss: 0.620562732219696\n"
     ]
    },
    {
     "name": "stderr",
     "output_type": "stream",
     "text": [
      "Epochs:  64%|██████▍   | 45/70 [02:44<01:30,  3.60s/it]"
     ]
    },
    {
     "name": "stdout",
     "output_type": "stream",
     "text": [
      "Epoch [46], Step [1/160], Loss: 1.1840282678604126\n",
      "Epoch [46], Step [21/160], Loss: 1.3194764852523804\n",
      "Epoch [46], Step [41/160], Loss: 5.715043544769287\n",
      "Epoch [46], Step [61/160], Loss: 3.4603240489959717\n",
      "Epoch [46], Step [81/160], Loss: 1.584417462348938\n",
      "Epoch [46], Step [101/160], Loss: 3.05898380279541\n",
      "Epoch [46], Step [121/160], Loss: 2.8091588020324707\n",
      "Epoch [46], Step [141/160], Loss: 1.8338810205459595\n"
     ]
    },
    {
     "name": "stderr",
     "output_type": "stream",
     "text": [
      "Epochs:  66%|██████▌   | 46/70 [02:48<01:26,  3.59s/it]"
     ]
    },
    {
     "name": "stdout",
     "output_type": "stream",
     "text": [
      "Epoch [47], Step [1/160], Loss: 2.5741989612579346\n",
      "Epoch [47], Step [21/160], Loss: 1.5651941299438477\n",
      "Epoch [47], Step [41/160], Loss: 6.835252285003662\n",
      "Epoch [47], Step [61/160], Loss: 2.8782756328582764\n",
      "Epoch [47], Step [81/160], Loss: 1.031262755393982\n",
      "Epoch [47], Step [101/160], Loss: 1.1550394296646118\n",
      "Epoch [47], Step [121/160], Loss: 1.640376329421997\n",
      "Epoch [47], Step [141/160], Loss: 2.3674230575561523\n"
     ]
    },
    {
     "name": "stderr",
     "output_type": "stream",
     "text": [
      "Epochs:  67%|██████▋   | 47/70 [02:51<01:22,  3.59s/it]"
     ]
    },
    {
     "name": "stdout",
     "output_type": "stream",
     "text": [
      "Epoch [48], Step [1/160], Loss: 1.0847176313400269\n",
      "Epoch [48], Step [21/160], Loss: 0.7639884948730469\n",
      "Epoch [48], Step [41/160], Loss: 1.1923563480377197\n",
      "Epoch [48], Step [61/160], Loss: 0.9180804491043091\n",
      "Epoch [48], Step [81/160], Loss: 1.1885664463043213\n",
      "Epoch [48], Step [101/160], Loss: 0.7425917387008667\n",
      "Epoch [48], Step [121/160], Loss: 0.37712356448173523\n",
      "Epoch [48], Step [141/160], Loss: 1.8180068731307983\n"
     ]
    },
    {
     "name": "stderr",
     "output_type": "stream",
     "text": [
      "Epochs:  69%|██████▊   | 48/70 [02:55<01:19,  3.61s/it]"
     ]
    },
    {
     "name": "stdout",
     "output_type": "stream",
     "text": [
      "Epoch [49], Step [1/160], Loss: 1.0669611692428589\n",
      "Epoch [49], Step [21/160], Loss: 0.5982540845870972\n",
      "Epoch [49], Step [41/160], Loss: 1.2777987718582153\n",
      "Epoch [49], Step [61/160], Loss: 1.9854077100753784\n",
      "Epoch [49], Step [81/160], Loss: 1.792967677116394\n",
      "Epoch [49], Step [101/160], Loss: 2.192246198654175\n",
      "Epoch [49], Step [121/160], Loss: 4.372257709503174\n",
      "Epoch [49], Step [141/160], Loss: 2.8637192249298096\n"
     ]
    },
    {
     "name": "stderr",
     "output_type": "stream",
     "text": [
      "Epochs:  70%|███████   | 49/70 [02:59<01:16,  3.66s/it]"
     ]
    },
    {
     "name": "stdout",
     "output_type": "stream",
     "text": [
      "Epoch [50], Step [1/160], Loss: 1.9529434442520142\n",
      "Epoch [50], Step [21/160], Loss: 0.6824129223823547\n",
      "Epoch [50], Step [41/160], Loss: 1.7138255834579468\n",
      "Epoch [50], Step [61/160], Loss: 1.4619231224060059\n",
      "Epoch [50], Step [81/160], Loss: 1.5935457944869995\n",
      "Epoch [50], Step [101/160], Loss: 2.2525336742401123\n",
      "Epoch [50], Step [121/160], Loss: 0.8986056447029114\n",
      "Epoch [50], Step [141/160], Loss: 1.8409004211425781\n"
     ]
    },
    {
     "name": "stderr",
     "output_type": "stream",
     "text": [
      "Epochs:  71%|███████▏  | 50/70 [03:02<01:12,  3.65s/it]"
     ]
    },
    {
     "name": "stdout",
     "output_type": "stream",
     "text": [
      "Epoch [51], Step [1/160], Loss: 0.8792295455932617\n",
      "Epoch [51], Step [21/160], Loss: 2.5829222202301025\n",
      "Epoch [51], Step [41/160], Loss: 0.532632052898407\n",
      "Epoch [51], Step [61/160], Loss: 0.7490396499633789\n",
      "Epoch [51], Step [81/160], Loss: 1.2844479084014893\n",
      "Epoch [51], Step [101/160], Loss: 1.0060228109359741\n",
      "Epoch [51], Step [121/160], Loss: 0.7999181151390076\n",
      "Epoch [51], Step [141/160], Loss: 1.8680628538131714\n"
     ]
    },
    {
     "name": "stderr",
     "output_type": "stream",
     "text": [
      "Epochs:  73%|███████▎  | 51/70 [03:06<01:10,  3.69s/it]"
     ]
    },
    {
     "name": "stdout",
     "output_type": "stream",
     "text": [
      "Epoch [52], Step [1/160], Loss: 7.714195251464844\n",
      "Epoch [52], Step [21/160], Loss: 1.5934562683105469\n",
      "Epoch [52], Step [41/160], Loss: 0.9766103029251099\n",
      "Epoch [52], Step [61/160], Loss: 1.2550499439239502\n",
      "Epoch [52], Step [81/160], Loss: 3.7243869304656982\n",
      "Epoch [52], Step [101/160], Loss: 1.1328808069229126\n",
      "Epoch [52], Step [121/160], Loss: 0.9642314314842224\n",
      "Epoch [52], Step [141/160], Loss: 2.271618366241455\n"
     ]
    },
    {
     "name": "stderr",
     "output_type": "stream",
     "text": [
      "Epochs:  74%|███████▍  | 52/70 [03:10<01:05,  3.64s/it]"
     ]
    },
    {
     "name": "stdout",
     "output_type": "stream",
     "text": [
      "Epoch [53], Step [1/160], Loss: 0.2350023239850998\n",
      "Epoch [53], Step [21/160], Loss: 0.9074296951293945\n",
      "Epoch [53], Step [41/160], Loss: 3.7243568897247314\n",
      "Epoch [53], Step [61/160], Loss: 2.817021131515503\n",
      "Epoch [53], Step [81/160], Loss: 3.7123818397521973\n",
      "Epoch [53], Step [101/160], Loss: 2.0377089977264404\n",
      "Epoch [53], Step [121/160], Loss: 1.8276445865631104\n",
      "Epoch [53], Step [141/160], Loss: 1.3557837009429932\n"
     ]
    },
    {
     "name": "stderr",
     "output_type": "stream",
     "text": [
      "Epochs:  76%|███████▌  | 53/70 [03:13<01:01,  3.64s/it]"
     ]
    },
    {
     "name": "stdout",
     "output_type": "stream",
     "text": [
      "Epoch [54], Step [1/160], Loss: 3.8949692249298096\n",
      "Epoch [54], Step [21/160], Loss: 1.8055858612060547\n",
      "Epoch [54], Step [41/160], Loss: 0.8449856638908386\n",
      "Epoch [54], Step [61/160], Loss: 1.2659167051315308\n",
      "Epoch [54], Step [81/160], Loss: 0.8401150703430176\n",
      "Epoch [54], Step [101/160], Loss: 2.4863479137420654\n",
      "Epoch [54], Step [121/160], Loss: 3.0052850246429443\n",
      "Epoch [54], Step [141/160], Loss: 1.6032997369766235\n"
     ]
    },
    {
     "name": "stderr",
     "output_type": "stream",
     "text": [
      "Epochs:  77%|███████▋  | 54/70 [03:17<00:57,  3.61s/it]"
     ]
    },
    {
     "name": "stdout",
     "output_type": "stream",
     "text": [
      "Epoch [55], Step [1/160], Loss: 2.891092300415039\n",
      "Epoch [55], Step [21/160], Loss: 2.8272602558135986\n",
      "Epoch [55], Step [41/160], Loss: 1.6126222610473633\n",
      "Epoch [55], Step [61/160], Loss: 5.760436534881592\n",
      "Epoch [55], Step [81/160], Loss: 5.071255683898926\n",
      "Epoch [55], Step [101/160], Loss: 1.7358543872833252\n",
      "Epoch [55], Step [121/160], Loss: 0.7845212817192078\n",
      "Epoch [55], Step [141/160], Loss: 2.650517225265503\n"
     ]
    },
    {
     "name": "stderr",
     "output_type": "stream",
     "text": [
      "Epochs:  79%|███████▊  | 55/70 [03:21<00:55,  3.68s/it]"
     ]
    },
    {
     "name": "stdout",
     "output_type": "stream",
     "text": [
      "Epoch [56], Step [1/160], Loss: 1.7657397985458374\n",
      "Epoch [56], Step [21/160], Loss: 3.444807767868042\n",
      "Epoch [56], Step [41/160], Loss: 1.1548656225204468\n",
      "Epoch [56], Step [61/160], Loss: 0.49259576201438904\n",
      "Epoch [56], Step [81/160], Loss: 2.4693119525909424\n",
      "Epoch [56], Step [101/160], Loss: 2.5851070880889893\n",
      "Epoch [56], Step [121/160], Loss: 1.2346234321594238\n",
      "Epoch [56], Step [141/160], Loss: 1.444393277168274\n"
     ]
    },
    {
     "name": "stderr",
     "output_type": "stream",
     "text": [
      "Epochs:  80%|████████  | 56/70 [03:24<00:51,  3.67s/it]"
     ]
    },
    {
     "name": "stdout",
     "output_type": "stream",
     "text": [
      "Epoch [57], Step [1/160], Loss: 0.7451596260070801\n",
      "Epoch [57], Step [21/160], Loss: 0.6693181991577148\n",
      "Epoch [57], Step [41/160], Loss: 1.335738182067871\n",
      "Epoch [57], Step [61/160], Loss: 1.0119343996047974\n",
      "Epoch [57], Step [81/160], Loss: 1.295120120048523\n",
      "Epoch [57], Step [101/160], Loss: 6.014146327972412\n",
      "Epoch [57], Step [121/160], Loss: 0.914493978023529\n",
      "Epoch [57], Step [141/160], Loss: 0.8967979550361633\n"
     ]
    },
    {
     "name": "stderr",
     "output_type": "stream",
     "text": [
      "Epochs:  81%|████████▏ | 57/70 [03:28<00:47,  3.67s/it]"
     ]
    },
    {
     "name": "stdout",
     "output_type": "stream",
     "text": [
      "Epoch [58], Step [1/160], Loss: 0.8471683859825134\n",
      "Epoch [58], Step [21/160], Loss: 1.9248875379562378\n",
      "Epoch [58], Step [41/160], Loss: 1.627123236656189\n",
      "Epoch [58], Step [61/160], Loss: 0.8348813056945801\n",
      "Epoch [58], Step [81/160], Loss: 0.6444358825683594\n",
      "Epoch [58], Step [101/160], Loss: 3.2842273712158203\n",
      "Epoch [58], Step [121/160], Loss: 1.6333763599395752\n",
      "Epoch [58], Step [141/160], Loss: 1.9275215864181519\n"
     ]
    },
    {
     "name": "stderr",
     "output_type": "stream",
     "text": [
      "Epochs:  83%|████████▎ | 58/70 [03:32<00:43,  3.66s/it]"
     ]
    },
    {
     "name": "stdout",
     "output_type": "stream",
     "text": [
      "Epoch [59], Step [1/160], Loss: 0.47055187821388245\n",
      "Epoch [59], Step [21/160], Loss: 5.5155205726623535\n",
      "Epoch [59], Step [41/160], Loss: 5.098092555999756\n",
      "Epoch [59], Step [61/160], Loss: 3.3715896606445312\n",
      "Epoch [59], Step [81/160], Loss: 2.2205264568328857\n",
      "Epoch [59], Step [101/160], Loss: 6.161551475524902\n",
      "Epoch [59], Step [121/160], Loss: 3.1426568031311035\n",
      "Epoch [59], Step [141/160], Loss: 1.991979956626892\n"
     ]
    },
    {
     "name": "stderr",
     "output_type": "stream",
     "text": [
      "Epochs:  84%|████████▍ | 59/70 [03:35<00:39,  3.62s/it]"
     ]
    },
    {
     "name": "stdout",
     "output_type": "stream",
     "text": [
      "Epoch [60], Step [1/160], Loss: 10.179574012756348\n",
      "Epoch [60], Step [21/160], Loss: 1.0242294073104858\n",
      "Epoch [60], Step [41/160], Loss: 2.048703908920288\n",
      "Epoch [60], Step [61/160], Loss: 0.9556553959846497\n",
      "Epoch [60], Step [81/160], Loss: 1.9611961841583252\n",
      "Epoch [60], Step [101/160], Loss: 1.5683869123458862\n",
      "Epoch [60], Step [121/160], Loss: 0.48539185523986816\n",
      "Epoch [60], Step [141/160], Loss: 0.9296714663505554\n"
     ]
    },
    {
     "name": "stderr",
     "output_type": "stream",
     "text": [
      "Epochs:  86%|████████▌ | 60/70 [03:39<00:36,  3.63s/it]"
     ]
    },
    {
     "name": "stdout",
     "output_type": "stream",
     "text": [
      "Epoch [61], Step [1/160], Loss: 1.0918606519699097\n",
      "Epoch [61], Step [21/160], Loss: 1.519253134727478\n",
      "Epoch [61], Step [41/160], Loss: 2.267739772796631\n",
      "Epoch [61], Step [61/160], Loss: 2.2472565174102783\n",
      "Epoch [61], Step [81/160], Loss: 0.5454114079475403\n",
      "Epoch [61], Step [101/160], Loss: 0.7914968132972717\n",
      "Epoch [61], Step [121/160], Loss: 0.6364210247993469\n",
      "Epoch [61], Step [141/160], Loss: 0.6299644708633423\n"
     ]
    },
    {
     "name": "stderr",
     "output_type": "stream",
     "text": [
      "Epochs:  87%|████████▋ | 61/70 [03:42<00:32,  3.60s/it]"
     ]
    },
    {
     "name": "stdout",
     "output_type": "stream",
     "text": [
      "Epoch [62], Step [1/160], Loss: 2.109889507293701\n",
      "Epoch [62], Step [21/160], Loss: 1.1038039922714233\n",
      "Epoch [62], Step [41/160], Loss: 2.9046459197998047\n",
      "Epoch [62], Step [61/160], Loss: 0.9646555781364441\n",
      "Epoch [62], Step [81/160], Loss: 1.5417948961257935\n",
      "Epoch [62], Step [101/160], Loss: 1.5933727025985718\n",
      "Epoch [62], Step [121/160], Loss: 1.3717575073242188\n",
      "Epoch [62], Step [141/160], Loss: 1.678247094154358\n"
     ]
    },
    {
     "name": "stderr",
     "output_type": "stream",
     "text": [
      "Epochs:  89%|████████▊ | 62/70 [03:46<00:28,  3.58s/it]"
     ]
    },
    {
     "name": "stdout",
     "output_type": "stream",
     "text": [
      "Epoch [63], Step [1/160], Loss: 0.5725642442703247\n",
      "Epoch [63], Step [21/160], Loss: 1.8346937894821167\n",
      "Epoch [63], Step [41/160], Loss: 1.8830229043960571\n",
      "Epoch [63], Step [61/160], Loss: 0.9868457913398743\n",
      "Epoch [63], Step [81/160], Loss: 0.8841747641563416\n",
      "Epoch [63], Step [101/160], Loss: 2.6915783882141113\n",
      "Epoch [63], Step [121/160], Loss: 2.0535483360290527\n",
      "Epoch [63], Step [141/160], Loss: 6.205441951751709\n"
     ]
    },
    {
     "name": "stderr",
     "output_type": "stream",
     "text": [
      "Epochs:  90%|█████████ | 63/70 [03:50<00:24,  3.57s/it]"
     ]
    },
    {
     "name": "stdout",
     "output_type": "stream",
     "text": [
      "Epoch [64], Step [1/160], Loss: 1.9464457035064697\n",
      "Epoch [64], Step [21/160], Loss: 0.620660662651062\n",
      "Epoch [64], Step [41/160], Loss: 0.49134570360183716\n",
      "Epoch [64], Step [61/160], Loss: 1.518175482749939\n",
      "Epoch [64], Step [81/160], Loss: 1.2744274139404297\n",
      "Epoch [64], Step [101/160], Loss: 2.9143025875091553\n",
      "Epoch [64], Step [121/160], Loss: 1.5945861339569092\n",
      "Epoch [64], Step [141/160], Loss: 1.1947749853134155\n"
     ]
    },
    {
     "name": "stderr",
     "output_type": "stream",
     "text": [
      "Epochs:  91%|█████████▏| 64/70 [03:53<00:21,  3.58s/it]"
     ]
    },
    {
     "name": "stdout",
     "output_type": "stream",
     "text": [
      "Epoch [65], Step [1/160], Loss: 0.8659279942512512\n",
      "Epoch [65], Step [21/160], Loss: 1.1984896659851074\n",
      "Epoch [65], Step [41/160], Loss: 1.3085368871688843\n",
      "Epoch [65], Step [61/160], Loss: 3.118988513946533\n",
      "Epoch [65], Step [81/160], Loss: 0.376463383436203\n",
      "Epoch [65], Step [101/160], Loss: 2.761932373046875\n",
      "Epoch [65], Step [121/160], Loss: 1.6398528814315796\n",
      "Epoch [65], Step [141/160], Loss: 7.395762920379639\n"
     ]
    },
    {
     "name": "stderr",
     "output_type": "stream",
     "text": [
      "Epochs:  93%|█████████▎| 65/70 [03:57<00:17,  3.56s/it]"
     ]
    },
    {
     "name": "stdout",
     "output_type": "stream",
     "text": [
      "Epoch [66], Step [1/160], Loss: 3.2473161220550537\n",
      "Epoch [66], Step [21/160], Loss: 2.484457015991211\n",
      "Epoch [66], Step [41/160], Loss: 2.9571444988250732\n",
      "Epoch [66], Step [61/160], Loss: 0.9229928851127625\n",
      "Epoch [66], Step [81/160], Loss: 2.412243604660034\n",
      "Epoch [66], Step [101/160], Loss: 1.070802927017212\n",
      "Epoch [66], Step [121/160], Loss: 3.031200885772705\n",
      "Epoch [66], Step [141/160], Loss: 1.5795649290084839\n"
     ]
    },
    {
     "name": "stderr",
     "output_type": "stream",
     "text": [
      "Epochs:  94%|█████████▍| 66/70 [04:00<00:14,  3.55s/it]"
     ]
    },
    {
     "name": "stdout",
     "output_type": "stream",
     "text": [
      "Epoch [67], Step [1/160], Loss: 2.2753171920776367\n",
      "Epoch [67], Step [21/160], Loss: 1.8610343933105469\n",
      "Epoch [67], Step [41/160], Loss: 2.2895302772521973\n",
      "Epoch [67], Step [61/160], Loss: 4.3870439529418945\n",
      "Epoch [67], Step [81/160], Loss: 1.32985258102417\n",
      "Epoch [67], Step [101/160], Loss: 0.7101140022277832\n",
      "Epoch [67], Step [121/160], Loss: 1.8892382383346558\n",
      "Epoch [67], Step [141/160], Loss: 2.337498903274536\n"
     ]
    },
    {
     "name": "stderr",
     "output_type": "stream",
     "text": [
      "Epochs:  96%|█████████▌| 67/70 [04:04<00:10,  3.55s/it]"
     ]
    },
    {
     "name": "stdout",
     "output_type": "stream",
     "text": [
      "Epoch [68], Step [1/160], Loss: 1.9602272510528564\n",
      "Epoch [68], Step [21/160], Loss: 0.6884247660636902\n",
      "Epoch [68], Step [41/160], Loss: 3.0244548320770264\n",
      "Epoch [68], Step [61/160], Loss: 0.8651334643363953\n",
      "Epoch [68], Step [81/160], Loss: 3.0105671882629395\n",
      "Epoch [68], Step [101/160], Loss: 1.0681016445159912\n",
      "Epoch [68], Step [121/160], Loss: 0.8919538855552673\n",
      "Epoch [68], Step [141/160], Loss: 1.279889464378357\n"
     ]
    },
    {
     "name": "stderr",
     "output_type": "stream",
     "text": [
      "Epochs:  97%|█████████▋| 68/70 [04:08<00:07,  3.64s/it]"
     ]
    },
    {
     "name": "stdout",
     "output_type": "stream",
     "text": [
      "Epoch [69], Step [1/160], Loss: 2.272919178009033\n",
      "Epoch [69], Step [21/160], Loss: 0.38787397742271423\n",
      "Epoch [69], Step [41/160], Loss: 1.5080556869506836\n",
      "Epoch [69], Step [61/160], Loss: 5.202757835388184\n",
      "Epoch [69], Step [81/160], Loss: 1.4011896848678589\n",
      "Epoch [69], Step [101/160], Loss: 0.6377992033958435\n",
      "Epoch [69], Step [121/160], Loss: 0.9850085377693176\n",
      "Epoch [69], Step [141/160], Loss: 0.9120174646377563\n"
     ]
    },
    {
     "name": "stderr",
     "output_type": "stream",
     "text": [
      "Epochs:  99%|█████████▊| 69/70 [04:11<00:03,  3.62s/it]"
     ]
    },
    {
     "name": "stdout",
     "output_type": "stream",
     "text": [
      "Epoch [70], Step [1/160], Loss: 2.8101189136505127\n",
      "Epoch [70], Step [21/160], Loss: 1.3817622661590576\n",
      "Epoch [70], Step [41/160], Loss: 1.3310999870300293\n",
      "Epoch [70], Step [61/160], Loss: 1.671580195426941\n",
      "Epoch [70], Step [81/160], Loss: 1.4650936126708984\n",
      "Epoch [70], Step [101/160], Loss: 1.249707579612732\n",
      "Epoch [70], Step [121/160], Loss: 0.7542058229446411\n",
      "Epoch [70], Step [141/160], Loss: 1.8065837621688843\n"
     ]
    },
    {
     "name": "stderr",
     "output_type": "stream",
     "text": [
      "Epochs: 100%|██████████| 70/70 [04:15<00:00,  3.65s/it]"
     ]
    },
    {
     "name": "stdout",
     "output_type": "stream",
     "text": [
      "\n",
      "Test accuracy: 0.1675\n"
     ]
    },
    {
     "name": "stderr",
     "output_type": "stream",
     "text": [
      "\n"
     ]
    }
   ],
   "source": [
    "mobile_net_model.to(DEVICE)\n",
    "mobile_net_train_losses, mobile_net_train_counter, mobile_net_test_losses, mobile_net_test_correct = model_train(train_loader,\n",
    "                                                                     test_loader, mobile_net_model, DEVICE, mobile_net_criterion, \n",
    "                                                                     mobile_net_optimizer, mobile_net_epochs, 5)"
   ]
  },
  {
   "cell_type": "code",
   "execution_count": 38,
   "id": "0468c8ae",
   "metadata": {
    "tags": []
   },
   "outputs": [
    {
     "data": {
      "image/png": "[encoded data removed]",
      "text/plain": [
       "<Figure size 1200x800 with 1 Axes>"
      ]
     },
     "metadata": {},
     "output_type": "display_data"
    }
   ],
   "source": [
    "plt_loss_graph(train_loader, mobile_net_train_counter, mobile_net_train_losses, mobile_net_test_losses)"
   ]
  },
  {
   "cell_type": "code",
   "execution_count": 39,
   "id": "7e2d1371",
   "metadata": {
    "tags": []
   },
   "outputs": [
    {
     "name": "stdout",
     "output_type": "stream",
     "text": [
      "Training Set: Average loss: 0.1468, Accuracy: 95.38%\n",
      "Test Set: Average loss: 0.5592, Accuracy: 77.75%\n"
     ]
    }
   ],
   "source": [
    "report_metrics(train_loader, test_loader, mobile_net_model, mobile_net_criterion, DEVICE)"
   ]
  },
  {
   "cell_type": "markdown",
   "id": "1c41513c-aaa7-4db9-a9ca-11b2dadb67ae",
   "metadata": {},
   "source": [
    "### 4. VGG16"
   ]
  },
  {
   "cell_type": "code",
   "execution_count": 43,
   "id": "4910d28c-f2bc-4114-b3c3-13eed1f2cdd9",
   "metadata": {
    "tags": []
   },
   "outputs": [
    {
     "name": "stderr",
     "output_type": "stream",
     "text": [
      "Epochs:   0%|          | 0/60 [00:00<?, ?it/s]"
     ]
    },
    {
     "name": "stdout",
     "output_type": "stream",
     "text": [
      "Epoch [1], Step [1/160], Loss: 820.9689331054688\n",
      "Epoch [1], Step [21/160], Loss: 355.6651306152344\n",
      "Epoch [1], Step [41/160], Loss: 59.047088623046875\n",
      "Epoch [1], Step [61/160], Loss: 30.181440353393555\n",
      "Epoch [1], Step [81/160], Loss: 31.43214225769043\n",
      "Epoch [1], Step [101/160], Loss: 38.89609909057617\n",
      "Epoch [1], Step [121/160], Loss: 74.75788879394531\n",
      "Epoch [1], Step [141/160], Loss: 73.74139404296875\n"
     ]
    },
    {
     "name": "stderr",
     "output_type": "stream",
     "text": [
      "Epochs:   2%|▏         | 1/60 [00:38<37:49, 38.47s/it]"
     ]
    },
    {
     "name": "stdout",
     "output_type": "stream",
     "text": [
      "Epoch [2], Step [1/160], Loss: 61.49245834350586\n",
      "Epoch [2], Step [21/160], Loss: 57.2841911315918\n",
      "Epoch [2], Step [41/160], Loss: 75.0376205444336\n",
      "Epoch [2], Step [61/160], Loss: 36.18648147583008\n",
      "Epoch [2], Step [81/160], Loss: 28.154895782470703\n",
      "Epoch [2], Step [101/160], Loss: 48.03828048706055\n",
      "Epoch [2], Step [121/160], Loss: 21.489439010620117\n",
      "Epoch [2], Step [141/160], Loss: 56.40925216674805\n"
     ]
    },
    {
     "name": "stderr",
     "output_type": "stream",
     "text": [
      "Epochs:   3%|▎         | 2/60 [01:16<37:12, 38.49s/it]"
     ]
    },
    {
     "name": "stdout",
     "output_type": "stream",
     "text": [
      "Epoch [3], Step [1/160], Loss: 125.4762191772461\n",
      "Epoch [3], Step [21/160], Loss: 20.91702651977539\n",
      "Epoch [3], Step [41/160], Loss: 19.17696189880371\n",
      "Epoch [3], Step [61/160], Loss: 58.896400451660156\n",
      "Epoch [3], Step [81/160], Loss: 44.63786315917969\n",
      "Epoch [3], Step [101/160], Loss: 65.91993713378906\n",
      "Epoch [3], Step [121/160], Loss: 28.76373291015625\n",
      "Epoch [3], Step [141/160], Loss: 137.44810485839844\n"
     ]
    },
    {
     "name": "stderr",
     "output_type": "stream",
     "text": [
      "Epochs:   5%|▌         | 3/60 [01:55<36:36, 38.54s/it]"
     ]
    },
    {
     "name": "stdout",
     "output_type": "stream",
     "text": [
      "Epoch [4], Step [1/160], Loss: 123.96638488769531\n",
      "Epoch [4], Step [21/160], Loss: 31.008594512939453\n",
      "Epoch [4], Step [41/160], Loss: 8.494733810424805\n",
      "Epoch [4], Step [61/160], Loss: 20.832015991210938\n",
      "Epoch [4], Step [81/160], Loss: 25.165102005004883\n",
      "Epoch [4], Step [101/160], Loss: 10.959982872009277\n",
      "Epoch [4], Step [121/160], Loss: 53.27338790893555\n",
      "Epoch [4], Step [141/160], Loss: 35.24044418334961\n"
     ]
    },
    {
     "name": "stderr",
     "output_type": "stream",
     "text": [
      "Epochs:   7%|▋         | 4/60 [02:34<36:00, 38.58s/it]"
     ]
    },
    {
     "name": "stdout",
     "output_type": "stream",
     "text": [
      "Epoch [5], Step [1/160], Loss: 18.422143936157227\n",
      "Epoch [5], Step [21/160], Loss: 22.67378044128418\n",
      "Epoch [5], Step [41/160], Loss: 36.7587776184082\n",
      "Epoch [5], Step [61/160], Loss: 19.827163696289062\n",
      "Epoch [5], Step [81/160], Loss: 25.450820922851562\n",
      "Epoch [5], Step [101/160], Loss: 12.918972969055176\n",
      "Epoch [5], Step [121/160], Loss: 35.3560791015625\n",
      "Epoch [5], Step [141/160], Loss: 28.325958251953125\n"
     ]
    },
    {
     "name": "stderr",
     "output_type": "stream",
     "text": [
      "Epochs:   8%|▊         | 5/60 [03:12<35:23, 38.61s/it]"
     ]
    },
    {
     "name": "stdout",
     "output_type": "stream",
     "text": [
      "Epoch [6], Step [1/160], Loss: 32.41532516479492\n",
      "Epoch [6], Step [21/160], Loss: 24.84504508972168\n",
      "Epoch [6], Step [41/160], Loss: 68.63631439208984\n",
      "Epoch [6], Step [61/160], Loss: 20.0850830078125\n",
      "Epoch [6], Step [81/160], Loss: 93.74092102050781\n",
      "Epoch [6], Step [101/160], Loss: 12.42130184173584\n",
      "Epoch [6], Step [121/160], Loss: 20.5294132232666\n",
      "Epoch [6], Step [141/160], Loss: 9.408036231994629\n"
     ]
    },
    {
     "name": "stderr",
     "output_type": "stream",
     "text": [
      "Epochs:  10%|█         | 6/60 [03:51<34:46, 38.64s/it]"
     ]
    },
    {
     "name": "stdout",
     "output_type": "stream",
     "text": [
      "Epoch [7], Step [1/160], Loss: 43.79201889038086\n",
      "Epoch [7], Step [21/160], Loss: 18.89414405822754\n",
      "Epoch [7], Step [41/160], Loss: 7.232625484466553\n",
      "Epoch [7], Step [61/160], Loss: 44.850948333740234\n",
      "Epoch [7], Step [81/160], Loss: 22.894113540649414\n",
      "Epoch [7], Step [101/160], Loss: 24.640729904174805\n",
      "Epoch [7], Step [121/160], Loss: 96.3517074584961\n",
      "Epoch [7], Step [141/160], Loss: 47.1605110168457\n"
     ]
    },
    {
     "name": "stderr",
     "output_type": "stream",
     "text": [
      "Epochs:  12%|█▏        | 7/60 [04:30<34:08, 38.66s/it]"
     ]
    },
    {
     "name": "stdout",
     "output_type": "stream",
     "text": [
      "Epoch [8], Step [1/160], Loss: 39.66148376464844\n",
      "Epoch [8], Step [21/160], Loss: 38.2841911315918\n",
      "Epoch [8], Step [41/160], Loss: 23.159650802612305\n",
      "Epoch [8], Step [61/160], Loss: 7.434684753417969\n",
      "Epoch [8], Step [81/160], Loss: 9.878252029418945\n",
      "Epoch [8], Step [101/160], Loss: 29.175764083862305\n",
      "Epoch [8], Step [121/160], Loss: 23.513219833374023\n",
      "Epoch [8], Step [141/160], Loss: 32.5938835144043\n"
     ]
    },
    {
     "name": "stderr",
     "output_type": "stream",
     "text": [
      "Epochs:  13%|█▎        | 8/60 [05:08<33:30, 38.67s/it]"
     ]
    },
    {
     "name": "stdout",
     "output_type": "stream",
     "text": [
      "Epoch [9], Step [1/160], Loss: 20.42364501953125\n",
      "Epoch [9], Step [21/160], Loss: 27.346099853515625\n",
      "Epoch [9], Step [41/160], Loss: 8.299532890319824\n",
      "Epoch [9], Step [61/160], Loss: 31.410480499267578\n",
      "Epoch [9], Step [81/160], Loss: 25.568647384643555\n",
      "Epoch [9], Step [101/160], Loss: 62.881103515625\n",
      "Epoch [9], Step [121/160], Loss: 60.31134033203125\n",
      "Epoch [9], Step [141/160], Loss: 13.864412307739258\n"
     ]
    },
    {
     "name": "stderr",
     "output_type": "stream",
     "text": [
      "Epochs:  15%|█▌        | 9/60 [05:47<32:52, 38.68s/it]"
     ]
    },
    {
     "name": "stdout",
     "output_type": "stream",
     "text": [
      "Epoch [10], Step [1/160], Loss: 22.236539840698242\n",
      "Epoch [10], Step [21/160], Loss: 76.92610931396484\n",
      "Epoch [10], Step [41/160], Loss: 33.345699310302734\n",
      "Epoch [10], Step [61/160], Loss: 13.313165664672852\n",
      "Epoch [10], Step [81/160], Loss: 37.037376403808594\n",
      "Epoch [10], Step [101/160], Loss: 32.445587158203125\n",
      "Epoch [10], Step [121/160], Loss: 12.217692375183105\n",
      "Epoch [10], Step [141/160], Loss: 8.894813537597656\n"
     ]
    },
    {
     "name": "stderr",
     "output_type": "stream",
     "text": [
      "Epochs:  17%|█▋        | 10/60 [06:26<32:14, 38.69s/it]"
     ]
    },
    {
     "name": "stdout",
     "output_type": "stream",
     "text": [
      "Epoch [11], Step [1/160], Loss: 9.429576873779297\n",
      "Epoch [11], Step [21/160], Loss: 21.49201011657715\n",
      "Epoch [11], Step [41/160], Loss: 15.96618366241455\n",
      "Epoch [11], Step [61/160], Loss: 11.530062675476074\n",
      "Epoch [11], Step [81/160], Loss: 14.063275337219238\n",
      "Epoch [11], Step [101/160], Loss: 21.028972625732422\n",
      "Epoch [11], Step [121/160], Loss: 12.215144157409668\n",
      "Epoch [11], Step [141/160], Loss: 15.068550109863281\n"
     ]
    },
    {
     "name": "stderr",
     "output_type": "stream",
     "text": [
      "Epochs:  18%|█▊        | 11/60 [07:05<31:35, 38.69s/it]"
     ]
    },
    {
     "name": "stdout",
     "output_type": "stream",
     "text": [
      "Epoch [12], Step [1/160], Loss: 18.595096588134766\n",
      "Epoch [12], Step [21/160], Loss: 10.349020957946777\n",
      "Epoch [12], Step [41/160], Loss: 15.261186599731445\n",
      "Epoch [12], Step [61/160], Loss: 7.807267665863037\n",
      "Epoch [12], Step [81/160], Loss: 22.342498779296875\n",
      "Epoch [12], Step [101/160], Loss: 18.089473724365234\n",
      "Epoch [12], Step [121/160], Loss: 13.839492797851562\n",
      "Epoch [12], Step [141/160], Loss: 18.10338592529297\n"
     ]
    },
    {
     "name": "stderr",
     "output_type": "stream",
     "text": [
      "Epochs:  20%|██        | 12/60 [07:43<30:57, 38.70s/it]"
     ]
    },
    {
     "name": "stdout",
     "output_type": "stream",
     "text": [
      "Epoch [13], Step [1/160], Loss: 13.411521911621094\n",
      "Epoch [13], Step [21/160], Loss: 29.83135414123535\n",
      "Epoch [13], Step [41/160], Loss: 16.02562713623047\n",
      "Epoch [13], Step [61/160], Loss: 22.8211669921875\n",
      "Epoch [13], Step [81/160], Loss: 13.980117797851562\n",
      "Epoch [13], Step [101/160], Loss: 15.12822151184082\n",
      "Epoch [13], Step [121/160], Loss: 14.751815795898438\n",
      "Epoch [13], Step [141/160], Loss: 20.869937896728516\n"
     ]
    },
    {
     "name": "stderr",
     "output_type": "stream",
     "text": [
      "Epochs:  22%|██▏       | 13/60 [08:22<30:18, 38.69s/it]"
     ]
    },
    {
     "name": "stdout",
     "output_type": "stream",
     "text": [
      "Epoch [14], Step [1/160], Loss: 22.037214279174805\n",
      "Epoch [14], Step [21/160], Loss: 24.007123947143555\n",
      "Epoch [14], Step [41/160], Loss: 17.139524459838867\n",
      "Epoch [14], Step [61/160], Loss: 10.56872844696045\n",
      "Epoch [14], Step [81/160], Loss: 14.851889610290527\n",
      "Epoch [14], Step [101/160], Loss: 7.791490077972412\n",
      "Epoch [14], Step [121/160], Loss: 20.10080337524414\n",
      "Epoch [14], Step [141/160], Loss: 10.832159042358398\n"
     ]
    },
    {
     "name": "stderr",
     "output_type": "stream",
     "text": [
      "Epochs:  23%|██▎       | 14/60 [09:01<29:39, 38.69s/it]"
     ]
    },
    {
     "name": "stdout",
     "output_type": "stream",
     "text": [
      "Epoch [15], Step [1/160], Loss: 16.293460845947266\n",
      "Epoch [15], Step [21/160], Loss: 13.156729698181152\n",
      "Epoch [15], Step [41/160], Loss: 24.30878257751465\n",
      "Epoch [15], Step [61/160], Loss: 8.873515129089355\n",
      "Epoch [15], Step [81/160], Loss: 13.562163352966309\n",
      "Epoch [15], Step [101/160], Loss: 14.816607475280762\n",
      "Epoch [15], Step [121/160], Loss: 30.02158546447754\n",
      "Epoch [15], Step [141/160], Loss: 26.904190063476562\n"
     ]
    },
    {
     "name": "stderr",
     "output_type": "stream",
     "text": [
      "Epochs:  25%|██▌       | 15/60 [09:39<29:01, 38.69s/it]"
     ]
    },
    {
     "name": "stdout",
     "output_type": "stream",
     "text": [
      "Epoch [16], Step [1/160], Loss: 7.215489387512207\n",
      "Epoch [16], Step [21/160], Loss: 47.16115188598633\n",
      "Epoch [16], Step [41/160], Loss: 39.47001266479492\n",
      "Epoch [16], Step [61/160], Loss: 14.677841186523438\n",
      "Epoch [16], Step [81/160], Loss: 14.497323989868164\n",
      "Epoch [16], Step [101/160], Loss: 20.406696319580078\n",
      "Epoch [16], Step [121/160], Loss: 8.436026573181152\n",
      "Epoch [16], Step [141/160], Loss: 19.69877052307129\n"
     ]
    },
    {
     "name": "stderr",
     "output_type": "stream",
     "text": [
      "Epochs:  27%|██▋       | 16/60 [10:18<28:22, 38.69s/it]"
     ]
    },
    {
     "name": "stdout",
     "output_type": "stream",
     "text": [
      "Epoch [17], Step [1/160], Loss: 17.69063377380371\n",
      "Epoch [17], Step [21/160], Loss: 15.675048828125\n",
      "Epoch [17], Step [41/160], Loss: 7.963905334472656\n",
      "Epoch [17], Step [61/160], Loss: 20.564199447631836\n",
      "Epoch [17], Step [81/160], Loss: 8.0292329788208\n",
      "Epoch [17], Step [101/160], Loss: 31.483205795288086\n",
      "Epoch [17], Step [121/160], Loss: 21.2910213470459\n",
      "Epoch [17], Step [141/160], Loss: 19.97950553894043\n"
     ]
    },
    {
     "name": "stderr",
     "output_type": "stream",
     "text": [
      "Epochs:  28%|██▊       | 17/60 [10:57<27:43, 38.69s/it]"
     ]
    },
    {
     "name": "stdout",
     "output_type": "stream",
     "text": [
      "Epoch [18], Step [1/160], Loss: 14.044479370117188\n",
      "Epoch [18], Step [21/160], Loss: 12.829489707946777\n",
      "Epoch [18], Step [41/160], Loss: 18.325580596923828\n",
      "Epoch [18], Step [61/160], Loss: 15.0687255859375\n",
      "Epoch [18], Step [81/160], Loss: 5.939390182495117\n",
      "Epoch [18], Step [101/160], Loss: 4.88826847076416\n",
      "Epoch [18], Step [121/160], Loss: 10.582633018493652\n",
      "Epoch [18], Step [141/160], Loss: 16.666748046875\n"
     ]
    },
    {
     "name": "stderr",
     "output_type": "stream",
     "text": [
      "Epochs:  30%|███       | 18/60 [11:35<27:04, 38.69s/it]"
     ]
    },
    {
     "name": "stdout",
     "output_type": "stream",
     "text": [
      "Epoch [19], Step [1/160], Loss: 22.00775146484375\n",
      "Epoch [19], Step [21/160], Loss: 21.850690841674805\n",
      "Epoch [19], Step [41/160], Loss: 11.004237174987793\n",
      "Epoch [19], Step [61/160], Loss: 4.747257232666016\n",
      "Epoch [19], Step [81/160], Loss: 3.320643186569214\n",
      "Epoch [19], Step [101/160], Loss: 10.95117473602295\n",
      "Epoch [19], Step [121/160], Loss: 24.384586334228516\n",
      "Epoch [19], Step [141/160], Loss: 9.172259330749512\n"
     ]
    },
    {
     "name": "stderr",
     "output_type": "stream",
     "text": [
      "Epochs:  32%|███▏      | 19/60 [12:14<26:26, 38.69s/it]"
     ]
    },
    {
     "name": "stdout",
     "output_type": "stream",
     "text": [
      "Epoch [20], Step [1/160], Loss: 10.358420372009277\n",
      "Epoch [20], Step [21/160], Loss: 5.704608917236328\n",
      "Epoch [20], Step [41/160], Loss: 8.165142059326172\n",
      "Epoch [20], Step [61/160], Loss: 27.866018295288086\n",
      "Epoch [20], Step [81/160], Loss: 23.142105102539062\n",
      "Epoch [20], Step [101/160], Loss: 15.074568748474121\n",
      "Epoch [20], Step [121/160], Loss: 15.888277053833008\n",
      "Epoch [20], Step [141/160], Loss: 4.518290042877197\n"
     ]
    },
    {
     "name": "stderr",
     "output_type": "stream",
     "text": [
      "Epochs:  33%|███▎      | 20/60 [12:53<25:47, 38.69s/it]"
     ]
    },
    {
     "name": "stdout",
     "output_type": "stream",
     "text": [
      "Epoch [21], Step [1/160], Loss: 7.677270412445068\n",
      "Epoch [21], Step [21/160], Loss: 8.143162727355957\n",
      "Epoch [21], Step [41/160], Loss: 18.30519676208496\n",
      "Epoch [21], Step [61/160], Loss: 7.746551513671875\n",
      "Epoch [21], Step [81/160], Loss: 24.179271697998047\n",
      "Epoch [21], Step [101/160], Loss: 11.686578750610352\n",
      "Epoch [21], Step [121/160], Loss: 16.114215850830078\n",
      "Epoch [21], Step [141/160], Loss: 37.49031448364258\n"
     ]
    },
    {
     "name": "stderr",
     "output_type": "stream",
     "text": [
      "Epochs:  35%|███▌      | 21/60 [13:31<25:08, 38.69s/it]"
     ]
    },
    {
     "name": "stdout",
     "output_type": "stream",
     "text": [
      "Epoch [22], Step [1/160], Loss: 16.4075870513916\n",
      "Epoch [22], Step [21/160], Loss: 9.84299373626709\n",
      "Epoch [22], Step [41/160], Loss: 32.77427291870117\n",
      "Epoch [22], Step [61/160], Loss: 3.425262928009033\n",
      "Epoch [22], Step [81/160], Loss: 4.020899772644043\n",
      "Epoch [22], Step [101/160], Loss: 13.387018203735352\n",
      "Epoch [22], Step [121/160], Loss: 12.779936790466309\n",
      "Epoch [22], Step [141/160], Loss: 14.725259780883789\n"
     ]
    },
    {
     "name": "stderr",
     "output_type": "stream",
     "text": [
      "Epochs:  37%|███▋      | 22/60 [14:10<24:30, 38.69s/it]"
     ]
    },
    {
     "name": "stdout",
     "output_type": "stream",
     "text": [
      "Epoch [23], Step [1/160], Loss: 23.11238670349121\n",
      "Epoch [23], Step [21/160], Loss: 11.19625473022461\n",
      "Epoch [23], Step [41/160], Loss: 8.87976360321045\n",
      "Epoch [23], Step [61/160], Loss: 19.247949600219727\n",
      "Epoch [23], Step [81/160], Loss: 5.594233989715576\n",
      "Epoch [23], Step [101/160], Loss: 14.621612548828125\n",
      "Epoch [23], Step [121/160], Loss: 8.520553588867188\n",
      "Epoch [23], Step [141/160], Loss: 6.095805644989014\n"
     ]
    },
    {
     "name": "stderr",
     "output_type": "stream",
     "text": [
      "Epochs:  38%|███▊      | 23/60 [14:49<23:51, 38.69s/it]"
     ]
    },
    {
     "name": "stdout",
     "output_type": "stream",
     "text": [
      "Epoch [24], Step [1/160], Loss: 15.721270561218262\n",
      "Epoch [24], Step [21/160], Loss: 12.0173921585083\n",
      "Epoch [24], Step [41/160], Loss: 15.409148216247559\n",
      "Epoch [24], Step [61/160], Loss: 15.647345542907715\n",
      "Epoch [24], Step [81/160], Loss: 15.060637474060059\n",
      "Epoch [24], Step [101/160], Loss: 15.807356834411621\n",
      "Epoch [24], Step [121/160], Loss: 11.31001091003418\n",
      "Epoch [24], Step [141/160], Loss: 18.05661964416504\n"
     ]
    },
    {
     "name": "stderr",
     "output_type": "stream",
     "text": [
      "Epochs:  40%|████      | 24/60 [15:27<23:12, 38.68s/it]"
     ]
    },
    {
     "name": "stdout",
     "output_type": "stream",
     "text": [
      "Epoch [25], Step [1/160], Loss: 9.798129081726074\n",
      "Epoch [25], Step [21/160], Loss: 8.582159042358398\n",
      "Epoch [25], Step [41/160], Loss: 4.929507732391357\n",
      "Epoch [25], Step [61/160], Loss: 8.48532485961914\n",
      "Epoch [25], Step [81/160], Loss: 11.512969017028809\n",
      "Epoch [25], Step [101/160], Loss: 4.823178291320801\n",
      "Epoch [25], Step [121/160], Loss: 19.745946884155273\n",
      "Epoch [25], Step [141/160], Loss: 11.820391654968262\n"
     ]
    },
    {
     "name": "stderr",
     "output_type": "stream",
     "text": [
      "Epochs:  42%|████▏     | 25/60 [16:06<22:33, 38.67s/it]"
     ]
    },
    {
     "name": "stdout",
     "output_type": "stream",
     "text": [
      "Epoch [26], Step [1/160], Loss: 18.14532470703125\n",
      "Epoch [26], Step [21/160], Loss: 18.98489761352539\n",
      "Epoch [26], Step [41/160], Loss: 5.788311004638672\n",
      "Epoch [26], Step [61/160], Loss: 14.48685359954834\n",
      "Epoch [26], Step [81/160], Loss: 6.058791637420654\n",
      "Epoch [26], Step [101/160], Loss: 17.58559799194336\n",
      "Epoch [26], Step [121/160], Loss: 14.940386772155762\n",
      "Epoch [26], Step [141/160], Loss: 6.454451084136963\n"
     ]
    },
    {
     "name": "stderr",
     "output_type": "stream",
     "text": [
      "Epochs:  43%|████▎     | 26/60 [16:45<21:54, 38.67s/it]"
     ]
    },
    {
     "name": "stdout",
     "output_type": "stream",
     "text": [
      "Epoch [27], Step [1/160], Loss: 15.946850776672363\n",
      "Epoch [27], Step [21/160], Loss: 20.09614372253418\n",
      "Epoch [27], Step [41/160], Loss: 14.399945259094238\n",
      "Epoch [27], Step [61/160], Loss: 12.030529975891113\n",
      "Epoch [27], Step [81/160], Loss: 19.196441650390625\n",
      "Epoch [27], Step [101/160], Loss: 10.819012641906738\n",
      "Epoch [27], Step [121/160], Loss: 12.519110679626465\n",
      "Epoch [27], Step [141/160], Loss: 15.955538749694824\n"
     ]
    },
    {
     "name": "stderr",
     "output_type": "stream",
     "text": [
      "Epochs:  45%|████▌     | 27/60 [17:23<21:16, 38.67s/it]"
     ]
    },
    {
     "name": "stdout",
     "output_type": "stream",
     "text": [
      "Epoch [28], Step [1/160], Loss: 4.542718410491943\n",
      "Epoch [28], Step [21/160], Loss: 20.182300567626953\n",
      "Epoch [28], Step [41/160], Loss: 5.0040602684021\n",
      "Epoch [28], Step [61/160], Loss: 7.924195766448975\n",
      "Epoch [28], Step [81/160], Loss: 22.522737503051758\n",
      "Epoch [28], Step [101/160], Loss: 5.77096700668335\n",
      "Epoch [28], Step [121/160], Loss: 20.4800968170166\n",
      "Epoch [28], Step [141/160], Loss: 23.464801788330078\n"
     ]
    },
    {
     "name": "stderr",
     "output_type": "stream",
     "text": [
      "Epochs:  47%|████▋     | 28/60 [18:02<20:37, 38.66s/it]"
     ]
    },
    {
     "name": "stdout",
     "output_type": "stream",
     "text": [
      "Epoch [29], Step [1/160], Loss: 17.0716609954834\n",
      "Epoch [29], Step [21/160], Loss: 17.264739990234375\n",
      "Epoch [29], Step [41/160], Loss: 7.252479553222656\n",
      "Epoch [29], Step [61/160], Loss: 7.225801944732666\n",
      "Epoch [29], Step [81/160], Loss: 4.64925479888916\n",
      "Epoch [29], Step [101/160], Loss: 12.64646053314209\n",
      "Epoch [29], Step [121/160], Loss: 27.084012985229492\n",
      "Epoch [29], Step [141/160], Loss: 15.802780151367188\n"
     ]
    },
    {
     "name": "stderr",
     "output_type": "stream",
     "text": [
      "Epochs:  48%|████▊     | 29/60 [18:41<19:58, 38.66s/it]"
     ]
    },
    {
     "name": "stdout",
     "output_type": "stream",
     "text": [
      "Epoch [30], Step [1/160], Loss: 11.016258239746094\n",
      "Epoch [30], Step [21/160], Loss: 43.58195114135742\n",
      "Epoch [30], Step [41/160], Loss: 9.353944778442383\n",
      "Epoch [30], Step [61/160], Loss: 26.623584747314453\n",
      "Epoch [30], Step [81/160], Loss: 15.912678718566895\n",
      "Epoch [30], Step [101/160], Loss: 10.977347373962402\n",
      "Epoch [30], Step [121/160], Loss: 10.266448020935059\n",
      "Epoch [30], Step [141/160], Loss: 21.011510848999023\n"
     ]
    },
    {
     "name": "stderr",
     "output_type": "stream",
     "text": [
      "Epochs:  50%|█████     | 30/60 [19:19<19:19, 38.65s/it]"
     ]
    },
    {
     "name": "stdout",
     "output_type": "stream",
     "text": [
      "Epoch [31], Step [1/160], Loss: 17.759214401245117\n",
      "Epoch [31], Step [21/160], Loss: 12.188013076782227\n",
      "Epoch [31], Step [41/160], Loss: 22.618589401245117\n",
      "Epoch [31], Step [61/160], Loss: 8.215651512145996\n",
      "Epoch [31], Step [81/160], Loss: 7.0674943923950195\n",
      "Epoch [31], Step [101/160], Loss: 15.371859550476074\n",
      "Epoch [31], Step [121/160], Loss: 9.396601676940918\n",
      "Epoch [31], Step [141/160], Loss: 15.10015869140625\n"
     ]
    },
    {
     "name": "stderr",
     "output_type": "stream",
     "text": [
      "Epochs:  52%|█████▏    | 31/60 [19:58<18:40, 38.64s/it]"
     ]
    },
    {
     "name": "stdout",
     "output_type": "stream",
     "text": [
      "Epoch [32], Step [1/160], Loss: 23.783727645874023\n",
      "Epoch [32], Step [21/160], Loss: 15.4954195022583\n",
      "Epoch [32], Step [41/160], Loss: 7.133584499359131\n",
      "Epoch [32], Step [61/160], Loss: 10.142219543457031\n",
      "Epoch [32], Step [81/160], Loss: 8.045183181762695\n",
      "Epoch [32], Step [101/160], Loss: 10.339424133300781\n",
      "Epoch [32], Step [121/160], Loss: 17.70549964904785\n",
      "Epoch [32], Step [141/160], Loss: 25.8994140625\n"
     ]
    },
    {
     "name": "stderr",
     "output_type": "stream",
     "text": [
      "Epochs:  53%|█████▎    | 32/60 [20:37<18:01, 38.64s/it]"
     ]
    },
    {
     "name": "stdout",
     "output_type": "stream",
     "text": [
      "Epoch [33], Step [1/160], Loss: 12.123055458068848\n",
      "Epoch [33], Step [21/160], Loss: 12.198070526123047\n",
      "Epoch [33], Step [41/160], Loss: 6.592318058013916\n",
      "Epoch [33], Step [61/160], Loss: 13.054408073425293\n",
      "Epoch [33], Step [81/160], Loss: 21.18587303161621\n",
      "Epoch [33], Step [101/160], Loss: 9.69873046875\n",
      "Epoch [33], Step [121/160], Loss: 21.9036922454834\n",
      "Epoch [33], Step [141/160], Loss: 8.971925735473633\n"
     ]
    },
    {
     "name": "stderr",
     "output_type": "stream",
     "text": [
      "Epochs:  55%|█████▌    | 33/60 [21:15<17:23, 38.64s/it]"
     ]
    },
    {
     "name": "stdout",
     "output_type": "stream",
     "text": [
      "Epoch [34], Step [1/160], Loss: 9.963529586791992\n",
      "Epoch [34], Step [21/160], Loss: 10.172350883483887\n",
      "Epoch [34], Step [41/160], Loss: 15.19327449798584\n",
      "Epoch [34], Step [61/160], Loss: 13.681419372558594\n",
      "Epoch [34], Step [81/160], Loss: 14.9912748336792\n",
      "Epoch [34], Step [101/160], Loss: 6.366207599639893\n",
      "Epoch [34], Step [121/160], Loss: 29.44272232055664\n",
      "Epoch [34], Step [141/160], Loss: 10.843972206115723\n"
     ]
    },
    {
     "name": "stderr",
     "output_type": "stream",
     "text": [
      "Epochs:  57%|█████▋    | 34/60 [21:54<16:44, 38.63s/it]"
     ]
    },
    {
     "name": "stdout",
     "output_type": "stream",
     "text": [
      "Epoch [35], Step [1/160], Loss: 34.109230041503906\n",
      "Epoch [35], Step [21/160], Loss: 13.811659812927246\n",
      "Epoch [35], Step [41/160], Loss: 10.318193435668945\n",
      "Epoch [35], Step [61/160], Loss: 17.045480728149414\n",
      "Epoch [35], Step [81/160], Loss: 10.598628044128418\n",
      "Epoch [35], Step [101/160], Loss: 9.078885078430176\n",
      "Epoch [35], Step [121/160], Loss: 24.578929901123047\n",
      "Epoch [35], Step [141/160], Loss: 15.391913414001465\n"
     ]
    },
    {
     "name": "stderr",
     "output_type": "stream",
     "text": [
      "Epochs:  58%|█████▊    | 35/60 [22:33<16:05, 38.62s/it]"
     ]
    },
    {
     "name": "stdout",
     "output_type": "stream",
     "text": [
      "Epoch [36], Step [1/160], Loss: 16.160457611083984\n",
      "Epoch [36], Step [21/160], Loss: 48.84382247924805\n",
      "Epoch [36], Step [41/160], Loss: 14.051861763000488\n",
      "Epoch [36], Step [61/160], Loss: 12.178298950195312\n",
      "Epoch [36], Step [81/160], Loss: 25.465984344482422\n",
      "Epoch [36], Step [101/160], Loss: 12.945581436157227\n",
      "Epoch [36], Step [121/160], Loss: 20.24665069580078\n",
      "Epoch [36], Step [141/160], Loss: 14.03098201751709\n"
     ]
    },
    {
     "name": "stderr",
     "output_type": "stream",
     "text": [
      "Epochs:  60%|██████    | 36/60 [23:11<15:26, 38.62s/it]"
     ]
    },
    {
     "name": "stdout",
     "output_type": "stream",
     "text": [
      "Epoch [37], Step [1/160], Loss: 16.001585006713867\n",
      "Epoch [37], Step [21/160], Loss: 37.225643157958984\n",
      "Epoch [37], Step [41/160], Loss: 7.449221134185791\n",
      "Epoch [37], Step [61/160], Loss: 10.482039451599121\n",
      "Epoch [37], Step [81/160], Loss: 17.104597091674805\n",
      "Epoch [37], Step [101/160], Loss: 7.748335361480713\n",
      "Epoch [37], Step [121/160], Loss: 15.583706855773926\n",
      "Epoch [37], Step [141/160], Loss: 14.237579345703125\n"
     ]
    },
    {
     "name": "stderr",
     "output_type": "stream",
     "text": [
      "Epochs:  62%|██████▏   | 37/60 [23:50<14:48, 38.62s/it]"
     ]
    },
    {
     "name": "stdout",
     "output_type": "stream",
     "text": [
      "Epoch [38], Step [1/160], Loss: 8.951075553894043\n",
      "Epoch [38], Step [21/160], Loss: 9.702345848083496\n",
      "Epoch [38], Step [41/160], Loss: 6.526649475097656\n",
      "Epoch [38], Step [61/160], Loss: 12.729018211364746\n",
      "Epoch [38], Step [81/160], Loss: 22.436765670776367\n",
      "Epoch [38], Step [101/160], Loss: 4.342313289642334\n",
      "Epoch [38], Step [121/160], Loss: 21.520517349243164\n",
      "Epoch [38], Step [141/160], Loss: 9.747751235961914\n"
     ]
    },
    {
     "name": "stderr",
     "output_type": "stream",
     "text": [
      "Epochs:  63%|██████▎   | 38/60 [24:28<14:09, 38.62s/it]"
     ]
    },
    {
     "name": "stdout",
     "output_type": "stream",
     "text": [
      "Epoch [39], Step [1/160], Loss: 5.80659294128418\n",
      "Epoch [39], Step [21/160], Loss: 9.50456714630127\n",
      "Epoch [39], Step [41/160], Loss: 10.361964225769043\n",
      "Epoch [39], Step [61/160], Loss: 14.433667182922363\n",
      "Epoch [39], Step [81/160], Loss: 21.589889526367188\n",
      "Epoch [39], Step [101/160], Loss: 5.620316982269287\n",
      "Epoch [39], Step [121/160], Loss: 7.260847568511963\n",
      "Epoch [39], Step [141/160], Loss: 6.5884857177734375\n"
     ]
    },
    {
     "name": "stderr",
     "output_type": "stream",
     "text": [
      "Epochs:  65%|██████▌   | 39/60 [25:07<13:30, 38.62s/it]"
     ]
    },
    {
     "name": "stdout",
     "output_type": "stream",
     "text": [
      "Epoch [40], Step [1/160], Loss: 23.042898178100586\n",
      "Epoch [40], Step [21/160], Loss: 18.195589065551758\n",
      "Epoch [40], Step [41/160], Loss: 5.944829940795898\n",
      "Epoch [40], Step [61/160], Loss: 9.851912498474121\n",
      "Epoch [40], Step [81/160], Loss: 2.2150790691375732\n",
      "Epoch [40], Step [101/160], Loss: 29.212934494018555\n",
      "Epoch [40], Step [121/160], Loss: 7.016452312469482\n",
      "Epoch [40], Step [141/160], Loss: 12.19998836517334\n"
     ]
    },
    {
     "name": "stderr",
     "output_type": "stream",
     "text": [
      "Epochs:  67%|██████▋   | 40/60 [25:46<12:52, 38.61s/it]"
     ]
    },
    {
     "name": "stdout",
     "output_type": "stream",
     "text": [
      "Epoch [41], Step [1/160], Loss: 9.145992279052734\n",
      "Epoch [41], Step [21/160], Loss: 16.083295822143555\n",
      "Epoch [41], Step [41/160], Loss: 30.436115264892578\n",
      "Epoch [41], Step [61/160], Loss: 48.259944915771484\n",
      "Epoch [41], Step [81/160], Loss: 6.195044994354248\n",
      "Epoch [41], Step [101/160], Loss: 9.124999046325684\n",
      "Epoch [41], Step [121/160], Loss: 13.081329345703125\n",
      "Epoch [41], Step [141/160], Loss: 17.1892147064209\n"
     ]
    },
    {
     "name": "stderr",
     "output_type": "stream",
     "text": [
      "Epochs:  68%|██████▊   | 41/60 [26:24<12:13, 38.60s/it]"
     ]
    },
    {
     "name": "stdout",
     "output_type": "stream",
     "text": [
      "Epoch [42], Step [1/160], Loss: 8.15438461303711\n",
      "Epoch [42], Step [21/160], Loss: 13.476663589477539\n",
      "Epoch [42], Step [41/160], Loss: 8.766325950622559\n",
      "Epoch [42], Step [61/160], Loss: 7.831631660461426\n",
      "Epoch [42], Step [81/160], Loss: 31.184329986572266\n",
      "Epoch [42], Step [101/160], Loss: 15.60123348236084\n",
      "Epoch [42], Step [121/160], Loss: 9.863762855529785\n",
      "Epoch [42], Step [141/160], Loss: 5.157124042510986\n"
     ]
    },
    {
     "name": "stderr",
     "output_type": "stream",
     "text": [
      "Epochs:  70%|███████   | 42/60 [27:03<11:34, 38.61s/it]"
     ]
    },
    {
     "name": "stdout",
     "output_type": "stream",
     "text": [
      "Epoch [43], Step [1/160], Loss: 8.502882957458496\n",
      "Epoch [43], Step [21/160], Loss: 5.081662178039551\n",
      "Epoch [43], Step [41/160], Loss: 4.0786614418029785\n",
      "Epoch [43], Step [61/160], Loss: 21.56599998474121\n",
      "Epoch [43], Step [81/160], Loss: 18.47601318359375\n",
      "Epoch [43], Step [101/160], Loss: 21.3436222076416\n",
      "Epoch [43], Step [121/160], Loss: 14.371405601501465\n",
      "Epoch [43], Step [141/160], Loss: 11.891265869140625\n"
     ]
    },
    {
     "name": "stderr",
     "output_type": "stream",
     "text": [
      "Epochs:  72%|███████▏  | 43/60 [27:41<10:56, 38.61s/it]"
     ]
    },
    {
     "name": "stdout",
     "output_type": "stream",
     "text": [
      "Epoch [44], Step [1/160], Loss: 17.493053436279297\n",
      "Epoch [44], Step [21/160], Loss: 30.90335464477539\n",
      "Epoch [44], Step [41/160], Loss: 43.12689208984375\n",
      "Epoch [44], Step [61/160], Loss: 51.64046859741211\n",
      "Epoch [44], Step [81/160], Loss: 18.466552734375\n",
      "Epoch [44], Step [101/160], Loss: 26.106250762939453\n",
      "Epoch [44], Step [121/160], Loss: 18.408905029296875\n",
      "Epoch [44], Step [141/160], Loss: 2.350023031234741\n"
     ]
    },
    {
     "name": "stderr",
     "output_type": "stream",
     "text": [
      "Epochs:  73%|███████▎  | 44/60 [28:20<10:17, 38.60s/it]"
     ]
    },
    {
     "name": "stdout",
     "output_type": "stream",
     "text": [
      "Epoch [45], Step [1/160], Loss: 10.79324722290039\n",
      "Epoch [45], Step [21/160], Loss: 5.621480941772461\n",
      "Epoch [45], Step [41/160], Loss: 13.446188926696777\n",
      "Epoch [45], Step [61/160], Loss: 15.084721565246582\n",
      "Epoch [45], Step [81/160], Loss: 39.54539108276367\n",
      "Epoch [45], Step [101/160], Loss: 8.822211265563965\n",
      "Epoch [45], Step [121/160], Loss: 27.87017250061035\n",
      "Epoch [45], Step [141/160], Loss: 18.06253433227539\n"
     ]
    },
    {
     "name": "stderr",
     "output_type": "stream",
     "text": [
      "Epochs:  75%|███████▌  | 45/60 [28:59<09:38, 38.59s/it]"
     ]
    },
    {
     "name": "stdout",
     "output_type": "stream",
     "text": [
      "Epoch [46], Step [1/160], Loss: 12.807271003723145\n",
      "Epoch [46], Step [21/160], Loss: 9.119279861450195\n",
      "Epoch [46], Step [41/160], Loss: 26.092700958251953\n",
      "Epoch [46], Step [61/160], Loss: 23.799856185913086\n",
      "Epoch [46], Step [81/160], Loss: 20.174612045288086\n",
      "Epoch [46], Step [101/160], Loss: 23.822568893432617\n",
      "Epoch [46], Step [121/160], Loss: 10.192151069641113\n",
      "Epoch [46], Step [141/160], Loss: 20.38055992126465\n"
     ]
    },
    {
     "name": "stderr",
     "output_type": "stream",
     "text": [
      "Epochs:  77%|███████▋  | 46/60 [29:37<09:00, 38.59s/it]"
     ]
    },
    {
     "name": "stdout",
     "output_type": "stream",
     "text": [
      "Epoch [47], Step [1/160], Loss: 20.478076934814453\n",
      "Epoch [47], Step [21/160], Loss: 14.115141868591309\n",
      "Epoch [47], Step [41/160], Loss: 9.108278274536133\n",
      "Epoch [47], Step [61/160], Loss: 18.128353118896484\n",
      "Epoch [47], Step [81/160], Loss: 35.699066162109375\n",
      "Epoch [47], Step [101/160], Loss: 6.353191375732422\n",
      "Epoch [47], Step [121/160], Loss: 17.819231033325195\n",
      "Epoch [47], Step [141/160], Loss: 31.069921493530273\n"
     ]
    },
    {
     "name": "stderr",
     "output_type": "stream",
     "text": [
      "Epochs:  78%|███████▊  | 47/60 [30:16<08:21, 38.58s/it]"
     ]
    },
    {
     "name": "stdout",
     "output_type": "stream",
     "text": [
      "Epoch [48], Step [1/160], Loss: 32.15857696533203\n",
      "Epoch [48], Step [21/160], Loss: 14.847273826599121\n",
      "Epoch [48], Step [41/160], Loss: 13.685261726379395\n",
      "Epoch [48], Step [61/160], Loss: 14.359024047851562\n",
      "Epoch [48], Step [81/160], Loss: 7.7052202224731445\n",
      "Epoch [48], Step [101/160], Loss: 3.5077569484710693\n",
      "Epoch [48], Step [121/160], Loss: 10.817363739013672\n",
      "Epoch [48], Step [141/160], Loss: 16.084280014038086\n"
     ]
    },
    {
     "name": "stderr",
     "output_type": "stream",
     "text": [
      "Epochs:  80%|████████  | 48/60 [30:54<07:43, 38.59s/it]"
     ]
    },
    {
     "name": "stdout",
     "output_type": "stream",
     "text": [
      "Epoch [49], Step [1/160], Loss: 42.23561477661133\n",
      "Epoch [49], Step [21/160], Loss: 7.847743511199951\n",
      "Epoch [49], Step [41/160], Loss: 5.73721170425415\n",
      "Epoch [49], Step [61/160], Loss: 9.602381706237793\n",
      "Epoch [49], Step [81/160], Loss: 12.961575508117676\n",
      "Epoch [49], Step [101/160], Loss: 21.992918014526367\n",
      "Epoch [49], Step [121/160], Loss: 13.74112606048584\n",
      "Epoch [49], Step [141/160], Loss: 9.987622261047363\n"
     ]
    },
    {
     "name": "stderr",
     "output_type": "stream",
     "text": [
      "Epochs:  82%|████████▏ | 49/60 [31:33<07:04, 38.58s/it]"
     ]
    },
    {
     "name": "stdout",
     "output_type": "stream",
     "text": [
      "Epoch [50], Step [1/160], Loss: 13.005057334899902\n",
      "Epoch [50], Step [21/160], Loss: 13.54747486114502\n",
      "Epoch [50], Step [41/160], Loss: 11.562091827392578\n",
      "Epoch [50], Step [61/160], Loss: 15.275639533996582\n",
      "Epoch [50], Step [81/160], Loss: 30.257070541381836\n",
      "Epoch [50], Step [101/160], Loss: 18.27055549621582\n",
      "Epoch [50], Step [121/160], Loss: 25.649280548095703\n",
      "Epoch [50], Step [141/160], Loss: 40.36143112182617\n"
     ]
    },
    {
     "name": "stderr",
     "output_type": "stream",
     "text": [
      "Epochs:  83%|████████▎ | 50/60 [32:11<06:25, 38.58s/it]"
     ]
    },
    {
     "name": "stdout",
     "output_type": "stream",
     "text": [
      "Epoch [51], Step [1/160], Loss: 8.631834983825684\n",
      "Epoch [51], Step [21/160], Loss: 17.70969581604004\n",
      "Epoch [51], Step [41/160], Loss: 14.871817588806152\n",
      "Epoch [51], Step [61/160], Loss: 5.980712413787842\n",
      "Epoch [51], Step [81/160], Loss: 8.16064453125\n",
      "Epoch [51], Step [101/160], Loss: 15.667288780212402\n",
      "Epoch [51], Step [121/160], Loss: 14.342299461364746\n",
      "Epoch [51], Step [141/160], Loss: 5.585063457489014\n"
     ]
    },
    {
     "name": "stderr",
     "output_type": "stream",
     "text": [
      "Epochs:  85%|████████▌ | 51/60 [32:50<05:47, 38.58s/it]"
     ]
    },
    {
     "name": "stdout",
     "output_type": "stream",
     "text": [
      "Epoch [52], Step [1/160], Loss: 25.342710494995117\n",
      "Epoch [52], Step [21/160], Loss: 7.365847110748291\n",
      "Epoch [52], Step [41/160], Loss: 9.343098640441895\n",
      "Epoch [52], Step [61/160], Loss: 23.040531158447266\n",
      "Epoch [52], Step [81/160], Loss: 13.75597858428955\n",
      "Epoch [52], Step [101/160], Loss: 18.427244186401367\n",
      "Epoch [52], Step [121/160], Loss: 18.814340591430664\n",
      "Epoch [52], Step [141/160], Loss: 30.107419967651367\n"
     ]
    },
    {
     "name": "stderr",
     "output_type": "stream",
     "text": [
      "Epochs:  87%|████████▋ | 52/60 [33:29<05:08, 38.57s/it]"
     ]
    },
    {
     "name": "stdout",
     "output_type": "stream",
     "text": [
      "Epoch [53], Step [1/160], Loss: 11.500067710876465\n",
      "Epoch [53], Step [21/160], Loss: 26.929746627807617\n",
      "Epoch [53], Step [41/160], Loss: 24.773704528808594\n",
      "Epoch [53], Step [61/160], Loss: 13.058104515075684\n",
      "Epoch [53], Step [81/160], Loss: 9.518028259277344\n",
      "Epoch [53], Step [101/160], Loss: 15.368878364562988\n",
      "Epoch [53], Step [121/160], Loss: 10.269331932067871\n",
      "Epoch [53], Step [141/160], Loss: 13.387507438659668\n"
     ]
    },
    {
     "name": "stderr",
     "output_type": "stream",
     "text": [
      "Epochs:  88%|████████▊ | 53/60 [34:07<04:29, 38.57s/it]"
     ]
    },
    {
     "name": "stdout",
     "output_type": "stream",
     "text": [
      "Epoch [54], Step [1/160], Loss: 8.284249305725098\n",
      "Epoch [54], Step [21/160], Loss: 7.017324924468994\n",
      "Epoch [54], Step [41/160], Loss: 9.905179023742676\n",
      "Epoch [54], Step [61/160], Loss: 8.558880805969238\n",
      "Epoch [54], Step [81/160], Loss: 12.438878059387207\n",
      "Epoch [54], Step [101/160], Loss: 11.860055923461914\n",
      "Epoch [54], Step [121/160], Loss: 11.440581321716309\n",
      "Epoch [54], Step [141/160], Loss: 13.200064659118652\n"
     ]
    },
    {
     "name": "stderr",
     "output_type": "stream",
     "text": [
      "Epochs:  90%|█████████ | 54/60 [34:46<03:51, 38.57s/it]"
     ]
    },
    {
     "name": "stdout",
     "output_type": "stream",
     "text": [
      "Epoch [55], Step [1/160], Loss: 8.105853080749512\n",
      "Epoch [55], Step [21/160], Loss: 19.250165939331055\n",
      "Epoch [55], Step [41/160], Loss: 8.965323448181152\n",
      "Epoch [55], Step [61/160], Loss: 7.747805118560791\n",
      "Epoch [55], Step [81/160], Loss: 17.395612716674805\n",
      "Epoch [55], Step [101/160], Loss: 10.44388484954834\n",
      "Epoch [55], Step [121/160], Loss: 11.110353469848633\n",
      "Epoch [55], Step [141/160], Loss: 14.923304557800293\n"
     ]
    },
    {
     "name": "stderr",
     "output_type": "stream",
     "text": [
      "Epochs:  92%|█████████▏| 55/60 [35:24<03:12, 38.57s/it]"
     ]
    },
    {
     "name": "stdout",
     "output_type": "stream",
     "text": [
      "Epoch [56], Step [1/160], Loss: 20.0063419342041\n",
      "Epoch [56], Step [21/160], Loss: 18.907730102539062\n",
      "Epoch [56], Step [41/160], Loss: 12.809836387634277\n",
      "Epoch [56], Step [61/160], Loss: 26.849979400634766\n",
      "Epoch [56], Step [81/160], Loss: 6.253812313079834\n",
      "Epoch [56], Step [101/160], Loss: 12.56818675994873\n",
      "Epoch [56], Step [121/160], Loss: 12.270636558532715\n",
      "Epoch [56], Step [141/160], Loss: 10.262168884277344\n"
     ]
    },
    {
     "name": "stderr",
     "output_type": "stream",
     "text": [
      "Epochs:  93%|█████████▎| 56/60 [36:03<02:34, 38.56s/it]"
     ]
    },
    {
     "name": "stdout",
     "output_type": "stream",
     "text": [
      "Epoch [57], Step [1/160], Loss: 17.114103317260742\n",
      "Epoch [57], Step [21/160], Loss: 28.206083297729492\n",
      "Epoch [57], Step [41/160], Loss: 10.844380378723145\n",
      "Epoch [57], Step [61/160], Loss: 9.991179466247559\n",
      "Epoch [57], Step [81/160], Loss: 15.701316833496094\n",
      "Epoch [57], Step [101/160], Loss: 11.150516510009766\n",
      "Epoch [57], Step [121/160], Loss: 3.5959270000457764\n",
      "Epoch [57], Step [141/160], Loss: 10.643841743469238\n"
     ]
    },
    {
     "name": "stderr",
     "output_type": "stream",
     "text": [
      "Epochs:  95%|█████████▌| 57/60 [36:41<01:55, 38.55s/it]"
     ]
    },
    {
     "name": "stdout",
     "output_type": "stream",
     "text": [
      "Epoch [58], Step [1/160], Loss: 14.535675048828125\n",
      "Epoch [58], Step [21/160], Loss: 11.777281761169434\n",
      "Epoch [58], Step [41/160], Loss: 8.160412788391113\n",
      "Epoch [58], Step [61/160], Loss: 26.156064987182617\n",
      "Epoch [58], Step [81/160], Loss: 13.874249458312988\n",
      "Epoch [58], Step [101/160], Loss: 41.7488899230957\n",
      "Epoch [58], Step [121/160], Loss: 10.684025764465332\n",
      "Epoch [58], Step [141/160], Loss: 23.68083953857422\n"
     ]
    },
    {
     "name": "stderr",
     "output_type": "stream",
     "text": [
      "Epochs:  97%|█████████▋| 58/60 [37:20<01:17, 38.55s/it]"
     ]
    },
    {
     "name": "stdout",
     "output_type": "stream",
     "text": [
      "Epoch [59], Step [1/160], Loss: 14.499496459960938\n",
      "Epoch [59], Step [21/160], Loss: 8.609810829162598\n",
      "Epoch [59], Step [41/160], Loss: 28.997730255126953\n",
      "Epoch [59], Step [61/160], Loss: 21.28994369506836\n",
      "Epoch [59], Step [81/160], Loss: 12.908021926879883\n",
      "Epoch [59], Step [101/160], Loss: 12.173194885253906\n",
      "Epoch [59], Step [121/160], Loss: 8.492738723754883\n",
      "Epoch [59], Step [141/160], Loss: 4.988540172576904\n"
     ]
    },
    {
     "name": "stderr",
     "output_type": "stream",
     "text": [
      "Epochs:  98%|█████████▊| 59/60 [37:58<00:38, 38.54s/it]"
     ]
    },
    {
     "name": "stdout",
     "output_type": "stream",
     "text": [
      "Epoch [60], Step [1/160], Loss: 21.12554931640625\n",
      "Epoch [60], Step [21/160], Loss: 20.62082862854004\n",
      "Epoch [60], Step [41/160], Loss: 6.830732822418213\n",
      "Epoch [60], Step [61/160], Loss: 14.714827537536621\n",
      "Epoch [60], Step [81/160], Loss: 10.319830894470215\n",
      "Epoch [60], Step [101/160], Loss: 5.446845531463623\n",
      "Epoch [60], Step [121/160], Loss: 9.54775333404541\n",
      "Epoch [60], Step [141/160], Loss: 9.855925559997559\n"
     ]
    },
    {
     "name": "stderr",
     "output_type": "stream",
     "text": [
      "Epochs: 100%|██████████| 60/60 [38:37<00:00, 38.62s/it]"
     ]
    },
    {
     "name": "stdout",
     "output_type": "stream",
     "text": [
      "\n",
      "Test accuracy: 0.12\n"
     ]
    },
    {
     "name": "stderr",
     "output_type": "stream",
     "text": [
      "\n"
     ]
    }
   ],
   "source": [
    "vgg_model.to(DEVICE)\n",
    "vgg_train_losses, vgg_train_counter, vgg_test_losses, vgg_test_correct = model_train(train_loader,\n",
    "                                                                     test_loader, vgg_model, DEVICE, vgg_criterion, \n",
    "                                                                     vgg_optimizer, vgg_epochs, 5)"
   ]
  },
  {
   "cell_type": "code",
   "execution_count": 44,
   "id": "4af0026f-4b54-46a2-af7f-f5f3b4e41856",
   "metadata": {
    "tags": []
   },
   "outputs": [
    {
     "data": {
      "image/png": "[encoded data removed]",
      "text/plain": [
       "<Figure size 1200x800 with 1 Axes>"
      ]
     },
     "metadata": {},
     "output_type": "display_data"
    }
   ],
   "source": [
    "plt_loss_graph(train_loader, vgg_train_counter, vgg_train_losses, vgg_test_losses)"
   ]
  },
  {
   "cell_type": "code",
   "execution_count": 45,
   "id": "d54eb795-e786-48ee-8e76-87efe6ae7aef",
   "metadata": {
    "tags": []
   },
   "outputs": [
    {
     "name": "stdout",
     "output_type": "stream",
     "text": [
      "Training Set: Average loss: 0.8667, Accuracy: 71.62%\n",
      "Test Set: Average loss: 1.4430, Accuracy: 59.25%\n"
     ]
    }
   ],
   "source": [
    "report_metrics(train_loader, test_loader, vgg_model, vgg_criterion, DEVICE)"
   ]
  },
  {
   "cell_type": "code",
   "execution_count": null,
   "id": "57fffccf-255f-4f6e-9394-7a206ac4f71b",
   "metadata": {},
   "outputs": [],
   "source": []
  }
 ],
 "metadata": {
  "kernelspec": {
   "display_name": "Python 3 (ipykernel)",
   "language": "python",
   "name": "python3"
  },
  "language_info": {
   "codemirror_mode": {
    "name": "ipython",
    "version": 3
   },
   "file_extension": ".py",
   "mimetype": "text/x-python",
   "name": "python",
   "nbconvert_exporter": "python",
   "pygments_lexer": "ipython3",
   "version": "3.11.4"
  }
 },
 "nbformat": 4,
 "nbformat_minor": 5
}
